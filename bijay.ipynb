{
 "cells": [
  {
   "cell_type": "code",
   "execution_count": null,
   "id": "b47e8170",
   "metadata": {},
   "outputs": [],
   "source": [
    "nums = [9,2,45,0,11]\n",
    "start = 0\n",
    "step = 1\n",
    "stop = len(nums)\n",
    "\n",
    "for index in range(start,stop,step):\n",
    "    number = nums[index]\n",
    "    \n",
    "    print('The index is {} and the number is {}' .format(index,number))\n"
   ]
  },
  {
   "cell_type": "code",
   "execution_count": null,
   "id": "a359cab4",
   "metadata": {},
   "outputs": [],
   "source": []
  },
  {
   "cell_type": "code",
   "execution_count": null,
   "id": "eb981c6e",
   "metadata": {},
   "outputs": [],
   "source": []
  },
  {
   "cell_type": "code",
   "execution_count": null,
   "id": "14a918ac",
   "metadata": {},
   "outputs": [],
   "source": [
    "nums = [9,2,45,0,11]\n",
    "for number in nums:\n",
    "    print(number)"
   ]
  },
  {
   "cell_type": "code",
   "execution_count": 3,
   "id": "505187c7",
   "metadata": {},
   "outputs": [
    {
     "name": "stdout",
     "output_type": "stream",
     "text": [
      "13.4\n"
     ]
    }
   ],
   "source": [
    "nums = [9,2,45,0,11]\n",
    "s = 0\n",
    "for number in nums:\n",
    "    s = s + number\n",
    "mean = s/len(nums)\n",
    "print(mean)\n",
    "    \n",
    "    "
   ]
  },
  {
   "cell_type": "code",
   "execution_count": null,
   "id": "cb9e5aea",
   "metadata": {},
   "outputs": [],
   "source": []
  },
  {
   "cell_type": "code",
   "execution_count": null,
   "id": "900eb486",
   "metadata": {},
   "outputs": [],
   "source": []
  },
  {
   "cell_type": "markdown",
   "id": "4fd70fd7",
   "metadata": {},
   "source": [
    "# Negative indexing in python list"
   ]
  },
  {
   "cell_type": "code",
   "execution_count": 4,
   "id": "5ff66d27",
   "metadata": {},
   "outputs": [
    {
     "data": {
      "text/plain": [
       "'apple'"
      ]
     },
     "execution_count": 4,
     "metadata": {},
     "output_type": "execute_result"
    }
   ],
   "source": [
    "fruits = ['apple', 'banana', 'pineapple', 'orange','mango']\n",
    "fruits[0]"
   ]
  },
  {
   "cell_type": "code",
   "execution_count": 5,
   "id": "3b130042",
   "metadata": {},
   "outputs": [
    {
     "data": {
      "text/plain": [
       "'mango'"
      ]
     },
     "execution_count": 5,
     "metadata": {},
     "output_type": "execute_result"
    }
   ],
   "source": [
    "fruits[4]"
   ]
  },
  {
   "cell_type": "code",
   "execution_count": 6,
   "id": "0cd22ea1",
   "metadata": {},
   "outputs": [],
   "source": [
    "last_index = len(fruits) - 1"
   ]
  },
  {
   "cell_type": "code",
   "execution_count": 7,
   "id": "c97bfe20",
   "metadata": {},
   "outputs": [
    {
     "data": {
      "text/plain": [
       "4"
      ]
     },
     "execution_count": 7,
     "metadata": {},
     "output_type": "execute_result"
    }
   ],
   "source": [
    "last_index"
   ]
  },
  {
   "cell_type": "code",
   "execution_count": 8,
   "id": "364957e2",
   "metadata": {},
   "outputs": [
    {
     "data": {
      "text/plain": [
       "'mango'"
      ]
     },
     "execution_count": 8,
     "metadata": {},
     "output_type": "execute_result"
    }
   ],
   "source": [
    "fruits[last_index]"
   ]
  },
  {
   "cell_type": "code",
   "execution_count": 9,
   "id": "606e6838",
   "metadata": {},
   "outputs": [
    {
     "data": {
      "text/plain": [
       "'mango'"
      ]
     },
     "execution_count": 9,
     "metadata": {},
     "output_type": "execute_result"
    }
   ],
   "source": [
    "fruits[-1]"
   ]
  },
  {
   "cell_type": "code",
   "execution_count": null,
   "id": "e48339c9",
   "metadata": {},
   "outputs": [],
   "source": []
  },
  {
   "cell_type": "markdown",
   "id": "99b38421",
   "metadata": {},
   "source": [
    "# Membership operator"
   ]
  },
  {
   "cell_type": "code",
   "execution_count": 10,
   "id": "fbd3e368",
   "metadata": {},
   "outputs": [],
   "source": [
    "class1 = ['bishow', 'utsav', 'prajay', 'hari']"
   ]
  },
  {
   "cell_type": "code",
   "execution_count": null,
   "id": "83ccb6a2",
   "metadata": {},
   "outputs": [],
   "source": []
  },
  {
   "cell_type": "code",
   "execution_count": null,
   "id": "7b89ae2e",
   "metadata": {},
   "outputs": [],
   "source": []
  },
  {
   "cell_type": "code",
   "execution_count": null,
   "id": "6c515b1f",
   "metadata": {},
   "outputs": [],
   "source": []
  },
  {
   "cell_type": "code",
   "execution_count": 11,
   "id": "c3fce597",
   "metadata": {},
   "outputs": [
    {
     "data": {
      "text/plain": [
       "False"
      ]
     },
     "execution_count": 11,
     "metadata": {},
     "output_type": "execute_result"
    }
   ],
   "source": [
    "'ram' in class1"
   ]
  },
  {
   "cell_type": "code",
   "execution_count": 12,
   "id": "711363a8",
   "metadata": {},
   "outputs": [
    {
     "data": {
      "text/plain": [
       "True"
      ]
     },
     "execution_count": 12,
     "metadata": {},
     "output_type": "execute_result"
    }
   ],
   "source": [
    "'ram' not in class1"
   ]
  },
  {
   "cell_type": "code",
   "execution_count": 13,
   "id": "7e372c87",
   "metadata": {},
   "outputs": [],
   "source": [
    "class1 = ['bishow', 'utsav', 'prajay', 'hari']"
   ]
  },
  {
   "cell_type": "code",
   "execution_count": 14,
   "id": "cb314f65",
   "metadata": {},
   "outputs": [
    {
     "data": {
      "text/plain": [
       "['bishow', 'utsav', 'prajay', 'hari']"
      ]
     },
     "execution_count": 14,
     "metadata": {},
     "output_type": "execute_result"
    }
   ],
   "source": [
    "class1"
   ]
  },
  {
   "cell_type": "code",
   "execution_count": 15,
   "id": "3d751940",
   "metadata": {},
   "outputs": [
    {
     "data": {
      "text/plain": [
       "'utsav'"
      ]
     },
     "execution_count": 15,
     "metadata": {},
     "output_type": "execute_result"
    }
   ],
   "source": [
    "class1[1]"
   ]
  },
  {
   "cell_type": "code",
   "execution_count": 16,
   "id": "5a7f1530",
   "metadata": {},
   "outputs": [],
   "source": [
    "class1[1] = 'utsab'"
   ]
  },
  {
   "cell_type": "code",
   "execution_count": 17,
   "id": "bfff261b",
   "metadata": {},
   "outputs": [
    {
     "data": {
      "text/plain": [
       "['bishow', 'utsab', 'prajay', 'hari']"
      ]
     },
     "execution_count": 17,
     "metadata": {},
     "output_type": "execute_result"
    }
   ],
   "source": [
    "class1"
   ]
  },
  {
   "cell_type": "code",
   "execution_count": 18,
   "id": "f83e406a",
   "metadata": {},
   "outputs": [
    {
     "name": "stdout",
     "output_type": "stream",
     "text": [
      "['apple', 'banana', 'mango', 'orange', 'mango']\n"
     ]
    }
   ],
   "source": [
    "fruits = ['apple', 'banana', 'pineapple', 'orange','mango']\n",
    "fruits[1:3] = ['banana', 'mango']\n",
    "print(fruits)"
   ]
  },
  {
   "cell_type": "code",
   "execution_count": 19,
   "id": "7a2c59e8",
   "metadata": {},
   "outputs": [
    {
     "data": {
      "text/plain": [
       "['apple', 'banana', 'mango', 'orange', 'mango']"
      ]
     },
     "execution_count": 19,
     "metadata": {},
     "output_type": "execute_result"
    }
   ],
   "source": [
    "fruits"
   ]
  },
  {
   "cell_type": "code",
   "execution_count": 20,
   "id": "fcdb8e51",
   "metadata": {},
   "outputs": [
    {
     "data": {
      "text/plain": [
       "'app'"
      ]
     },
     "execution_count": 20,
     "metadata": {},
     "output_type": "execute_result"
    }
   ],
   "source": [
    "fruits[0][:3]"
   ]
  },
  {
   "cell_type": "code",
   "execution_count": null,
   "id": "8de8d576",
   "metadata": {},
   "outputs": [],
   "source": []
  }
 ],
 "metadata": {
  "kernelspec": {
   "display_name": "Python 3 (ipykernel)",
   "language": "python",
   "name": "python3"
  },
  "language_info": {
   "codemirror_mode": {
    "name": "ipython",
    "version": 3
   },
   "file_extension": ".py",
   "mimetype": "text/x-python",
   "name": "python",
   "nbconvert_exporter": "python",
   "pygments_lexer": "ipython3",
   "version": "3.8.10"
  }
 },
 "nbformat": 4,
 "nbformat_minor": 5
}
