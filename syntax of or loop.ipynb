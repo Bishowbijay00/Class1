{
 "cells": [
  {
   "cell_type": "markdown",
   "id": "c1a75651",
   "metadata": {},
   "source": [
    "```python\n",
    "\n",
    "for index in range(start,stop,step):\n",
    "    print(index) # prints value ranging from 0 to end-1 if start is zero with defined step\n",
    "    \n",
    "    print(list_name[item]) # prints item on list one by one\n",
    "    \n",
    "    \n",
    "```\n",
    "\n",
    "# Other syntax of for loop using list:\n",
    "\n",
    "```python\n",
    "for item in list_nmae:\n",
    "    # body of for loop\n",
    "    print(item)"
   ]
  },
  {
   "cell_type": "code",
   "execution_count": null,
   "id": "8ab9b3f9",
   "metadata": {},
   "outputs": [],
   "source": []
  },
  {
   "cell_type": "code",
   "execution_count": null,
   "id": "32b97739",
   "metadata": {},
   "outputs": [],
   "source": []
  }
 ],
 "metadata": {
  "kernelspec": {
   "display_name": "Python 3 (ipykernel)",
   "language": "python",
   "name": "python3"
  },
  "language_info": {
   "codemirror_mode": {
    "name": "ipython",
    "version": 3
   },
   "file_extension": ".py",
   "mimetype": "text/x-python",
   "name": "python",
   "nbconvert_exporter": "python",
   "pygments_lexer": "ipython3",
   "version": "3.8.10"
  }
 },
 "nbformat": 4,
 "nbformat_minor": 5
}
