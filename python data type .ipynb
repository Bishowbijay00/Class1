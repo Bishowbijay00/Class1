{
 "cells": [
  {
   "cell_type": "code",
   "execution_count": 2,
   "id": "cdd8ddcc",
   "metadata": {},
   "outputs": [
    {
     "name": "stdout",
     "output_type": "stream",
     "text": [
      "Enter a value:22\n"
     ]
    },
    {
     "data": {
      "text/plain": [
       "'22'"
      ]
     },
     "execution_count": 2,
     "metadata": {},
     "output_type": "execute_result"
    }
   ],
   "source": [
    "input(\"Enter a value:\")"
   ]
  },
  {
   "cell_type": "code",
   "execution_count": 3,
   "id": "352a46d2",
   "metadata": {},
   "outputs": [
    {
     "name": "stdout",
     "output_type": "stream",
     "text": [
      "Enter a number:22\n"
     ]
    }
   ],
   "source": [
    "user_input = input(\"Enter a number:\")"
   ]
  },
  {
   "cell_type": "code",
   "execution_count": 4,
   "id": "dda62d43",
   "metadata": {},
   "outputs": [
    {
     "data": {
      "text/plain": [
       "'22'"
      ]
     },
     "execution_count": 4,
     "metadata": {},
     "output_type": "execute_result"
    }
   ],
   "source": [
    "user_input"
   ]
  },
  {
   "cell_type": "code",
   "execution_count": 5,
   "id": "aa5c31f7",
   "metadata": {},
   "outputs": [
    {
     "name": "stdout",
     "output_type": "stream",
     "text": [
      "Enter a first number:22\n",
      "Enter a second number:22\n",
      "The sum of 22 and 22 is = 2222\n"
     ]
    }
   ],
   "source": [
    "num1 = input(\"Enter a first number:\")\n",
    "num2 = input(\"Enter a second number:\")\n",
    "total = num1 + num2\n",
    "print(\"The sum of {} and {} is = {}\" .format(num1,num2,total))"
   ]
  },
  {
   "cell_type": "code",
   "execution_count": null,
   "id": "932c464b",
   "metadata": {},
   "outputs": [],
   "source": []
  }
 ],
 "metadata": {
  "kernelspec": {
   "display_name": "Python 3 (ipykernel)",
   "language": "python",
   "name": "python3"
  },
  "language_info": {
   "codemirror_mode": {
    "name": "ipython",
    "version": 3
   },
   "file_extension": ".py",
   "mimetype": "text/x-python",
   "name": "python",
   "nbconvert_exporter": "python",
   "pygments_lexer": "ipython3",
   "version": "3.8.10"
  }
 },
 "nbformat": 4,
 "nbformat_minor": 5
}
