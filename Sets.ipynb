{
 "cells": [
  {
   "cell_type": "code",
   "execution_count": 1,
   "id": "d7da9a13",
   "metadata": {},
   "outputs": [],
   "source": [
    "cars = {'tesla', 'bmw', 'tata', 'audi'}"
   ]
  },
  {
   "cell_type": "code",
   "execution_count": 3,
   "id": "b5f286ce",
   "metadata": {},
   "outputs": [
    {
     "data": {
      "text/plain": [
       "{'audi', 'bmw', 'tata', 'tesla'}"
      ]
     },
     "execution_count": 3,
     "metadata": {},
     "output_type": "execute_result"
    }
   ],
   "source": [
    "cars = {'tesla', 'bmw', 'tata', 'audi'} # sets are unordered and unindexed"
   ]
  },
  {
   "cell_type": "code",
   "execution_count": 6,
   "id": "74a17d05",
   "metadata": {},
   "outputs": [],
   "source": [
    "cars = {'tesla', 'bmw', 'tata', 'audi'}\n",
    "cars.remove('tata')"
   ]
  },
  {
   "cell_type": "code",
   "execution_count": 7,
   "id": "6250262a",
   "metadata": {},
   "outputs": [
    {
     "data": {
      "text/plain": [
       "{'audi', 'bmw', 'tesla'}"
      ]
     },
     "execution_count": 7,
     "metadata": {},
     "output_type": "execute_result"
    }
   ],
   "source": [
    "cars "
   ]
  },
  {
   "cell_type": "code",
   "execution_count": 8,
   "id": "e84a4610",
   "metadata": {},
   "outputs": [
    {
     "ename": "KeyError",
     "evalue": "'range rover'",
     "output_type": "error",
     "traceback": [
      "\u001b[0;31m---------------------------------------------------------------------------\u001b[0m",
      "\u001b[0;31mKeyError\u001b[0m                                  Traceback (most recent call last)",
      "Input \u001b[0;32mIn [8]\u001b[0m, in \u001b[0;36m<cell line: 1>\u001b[0;34m()\u001b[0m\n\u001b[0;32m----> 1\u001b[0m \u001b[43mcars\u001b[49m\u001b[38;5;241;43m.\u001b[39;49m\u001b[43mremove\u001b[49m\u001b[43m(\u001b[49m\u001b[38;5;124;43m'\u001b[39;49m\u001b[38;5;124;43mrange rover\u001b[39;49m\u001b[38;5;124;43m'\u001b[39;49m\u001b[43m)\u001b[49m\n",
      "\u001b[0;31mKeyError\u001b[0m: 'range rover'"
     ]
    }
   ],
   "source": [
    "cars.remove('range rover')"
   ]
  },
  {
   "cell_type": "markdown",
   "id": "428d3394",
   "metadata": {},
   "source": [
    "# add items to sets"
   ]
  },
  {
   "cell_type": "code",
   "execution_count": 9,
   "id": "491df5e8",
   "metadata": {},
   "outputs": [],
   "source": [
    "cars = {'tesla', 'bmw', 'tata', 'audi'}\n",
    "cars.add('range rover')"
   ]
  },
  {
   "cell_type": "code",
   "execution_count": 10,
   "id": "276d0263",
   "metadata": {},
   "outputs": [
    {
     "data": {
      "text/plain": [
       "{'audi', 'bmw', 'range rover', 'tata', 'tesla'}"
      ]
     },
     "execution_count": 10,
     "metadata": {},
     "output_type": "execute_result"
    }
   ],
   "source": [
    "cars"
   ]
  },
  {
   "cell_type": "markdown",
   "id": "5a3e0ae3",
   "metadata": {},
   "source": [
    "# type casting in sets"
   ]
  },
  {
   "cell_type": "code",
   "execution_count": 11,
   "id": "2735a9ad",
   "metadata": {},
   "outputs": [],
   "source": [
    "cars = {'tesla', 'bmw', 'tata', 'audi'}\n"
   ]
  },
  {
   "cell_type": "code",
   "execution_count": 12,
   "id": "ce2310d2",
   "metadata": {},
   "outputs": [
    {
     "data": {
      "text/plain": [
       "['bmw', 'tesla', 'tata', 'audi']"
      ]
     },
     "execution_count": 12,
     "metadata": {},
     "output_type": "execute_result"
    }
   ],
   "source": [
    "list(cars)"
   ]
  },
  {
   "cell_type": "code",
   "execution_count": 14,
   "id": "bd18cb95",
   "metadata": {},
   "outputs": [
    {
     "data": {
      "text/plain": [
       "list"
      ]
     },
     "execution_count": 14,
     "metadata": {},
     "output_type": "execute_result"
    }
   ],
   "source": [
    "type(list(cars))"
   ]
  },
  {
   "cell_type": "code",
   "execution_count": 15,
   "id": "05c08ab3",
   "metadata": {},
   "outputs": [
    {
     "data": {
      "text/plain": [
       "('bmw', 'tesla', 'tata', 'audi')"
      ]
     },
     "execution_count": 15,
     "metadata": {},
     "output_type": "execute_result"
    }
   ],
   "source": [
    "tuple(cars)"
   ]
  },
  {
   "cell_type": "code",
   "execution_count": 16,
   "id": "77f806d1",
   "metadata": {},
   "outputs": [
    {
     "data": {
      "text/plain": [
       "tuple"
      ]
     },
     "execution_count": 16,
     "metadata": {},
     "output_type": "execute_result"
    }
   ],
   "source": [
    "type(tuple(cars))"
   ]
  },
  {
   "cell_type": "code",
   "execution_count": 17,
   "id": "1f163cca",
   "metadata": {},
   "outputs": [
    {
     "data": {
      "text/plain": [
       "{1, 2, 3, 4, 5}"
      ]
     },
     "execution_count": 17,
     "metadata": {},
     "output_type": "execute_result"
    }
   ],
   "source": [
    "set((1,2,3,4,5))"
   ]
  },
  {
   "cell_type": "markdown",
   "id": "9edaf0c1",
   "metadata": {},
   "source": [
    "# set operations in python: union, intersection,difference "
   ]
  },
  {
   "cell_type": "code",
   "execution_count": 18,
   "id": "ada1756b",
   "metadata": {},
   "outputs": [],
   "source": [
    "A = {'apple', 'banana', 'cherry'}\n",
    "B = {'google', 'microsoft', 'apple'}"
   ]
  },
  {
   "cell_type": "code",
   "execution_count": 19,
   "id": "c7c63758",
   "metadata": {},
   "outputs": [
    {
     "data": {
      "text/plain": [
       "{'apple', 'banana', 'cherry', 'google', 'microsoft'}"
      ]
     },
     "execution_count": 19,
     "metadata": {},
     "output_type": "execute_result"
    }
   ],
   "source": [
    "A.union(B)"
   ]
  },
  {
   "cell_type": "code",
   "execution_count": 20,
   "id": "d981e9f4",
   "metadata": {},
   "outputs": [
    {
     "data": {
      "text/plain": [
       "{'apple', 'banana', 'cherry', 'google', 'microsoft'}"
      ]
     },
     "execution_count": 20,
     "metadata": {},
     "output_type": "execute_result"
    }
   ],
   "source": [
    "B.union(A)"
   ]
  },
  {
   "cell_type": "code",
   "execution_count": 21,
   "id": "a6faee7c",
   "metadata": {},
   "outputs": [
    {
     "data": {
      "text/plain": [
       "{'apple'}"
      ]
     },
     "execution_count": 21,
     "metadata": {},
     "output_type": "execute_result"
    }
   ],
   "source": [
    "A.intersection(B)"
   ]
  },
  {
   "cell_type": "code",
   "execution_count": 22,
   "id": "ae4099a9",
   "metadata": {},
   "outputs": [
    {
     "data": {
      "text/plain": [
       "{'apple'}"
      ]
     },
     "execution_count": 22,
     "metadata": {},
     "output_type": "execute_result"
    }
   ],
   "source": [
    "B.intersection(A)"
   ]
  },
  {
   "cell_type": "code",
   "execution_count": 23,
   "id": "51b5569f",
   "metadata": {},
   "outputs": [
    {
     "data": {
      "text/plain": [
       "{'banana', 'cherry'}"
      ]
     },
     "execution_count": 23,
     "metadata": {},
     "output_type": "execute_result"
    }
   ],
   "source": [
    "A - B"
   ]
  },
  {
   "cell_type": "code",
   "execution_count": 24,
   "id": "1ce3fa7d",
   "metadata": {},
   "outputs": [
    {
     "data": {
      "text/plain": [
       "{'google', 'microsoft'}"
      ]
     },
     "execution_count": 24,
     "metadata": {},
     "output_type": "execute_result"
    }
   ],
   "source": [
    "B - A"
   ]
  },
  {
   "cell_type": "code",
   "execution_count": 25,
   "id": "85db78e8",
   "metadata": {},
   "outputs": [
    {
     "data": {
      "text/plain": [
       "{'banana', 'cherry'}"
      ]
     },
     "execution_count": 25,
     "metadata": {},
     "output_type": "execute_result"
    }
   ],
   "source": [
    "A.difference(B)"
   ]
  },
  {
   "cell_type": "code",
   "execution_count": 26,
   "id": "1bb099f4",
   "metadata": {},
   "outputs": [
    {
     "data": {
      "text/plain": [
       "{'google', 'microsoft'}"
      ]
     },
     "execution_count": 26,
     "metadata": {},
     "output_type": "execute_result"
    }
   ],
   "source": [
    "B.difference(A)"
   ]
  },
  {
   "cell_type": "markdown",
   "id": "cef7ddf0",
   "metadata": {},
   "source": [
    "# frozen sets: immutable version of python set"
   ]
  },
  {
   "cell_type": "code",
   "execution_count": 27,
   "id": "7ef55239",
   "metadata": {},
   "outputs": [],
   "source": [
    "A = {'apple', 'banana', 'cherry'}"
   ]
  },
  {
   "cell_type": "code",
   "execution_count": 28,
   "id": "76cd1207",
   "metadata": {},
   "outputs": [
    {
     "data": {
      "text/plain": [
       "set"
      ]
     },
     "execution_count": 28,
     "metadata": {},
     "output_type": "execute_result"
    }
   ],
   "source": [
    "type(A)"
   ]
  },
  {
   "cell_type": "code",
   "execution_count": 31,
   "id": "7ffab40a",
   "metadata": {},
   "outputs": [
    {
     "data": {
      "text/plain": [
       "frozenset({'apple', 'banana', 'cherry'})"
      ]
     },
     "execution_count": 31,
     "metadata": {},
     "output_type": "execute_result"
    }
   ],
   "source": [
    "A = frozenset(A)\n",
    "A"
   ]
  },
  {
   "cell_type": "code",
   "execution_count": 32,
   "id": "5f6c6ed5",
   "metadata": {},
   "outputs": [
    {
     "data": {
      "text/plain": [
       "frozenset"
      ]
     },
     "execution_count": 32,
     "metadata": {},
     "output_type": "execute_result"
    }
   ],
   "source": [
    "type(A)"
   ]
  },
  {
   "cell_type": "code",
   "execution_count": 33,
   "id": "18761b4d",
   "metadata": {},
   "outputs": [
    {
     "ename": "AttributeError",
     "evalue": "'frozenset' object has no attribute 'add'",
     "output_type": "error",
     "traceback": [
      "\u001b[0;31m---------------------------------------------------------------------------\u001b[0m",
      "\u001b[0;31mAttributeError\u001b[0m                            Traceback (most recent call last)",
      "Input \u001b[0;32mIn [33]\u001b[0m, in \u001b[0;36m<cell line: 1>\u001b[0;34m()\u001b[0m\n\u001b[0;32m----> 1\u001b[0m \u001b[43mA\u001b[49m\u001b[38;5;241;43m.\u001b[39;49m\u001b[43madd\u001b[49m(\u001b[38;5;124m'\u001b[39m\u001b[38;5;124mkiwi\u001b[39m\u001b[38;5;124m'\u001b[39m)\n",
      "\u001b[0;31mAttributeError\u001b[0m: 'frozenset' object has no attribute 'add'"
     ]
    }
   ],
   "source": [
    "A.add('kiwi')"
   ]
  },
  {
   "cell_type": "code",
   "execution_count": 34,
   "id": "5b5417d2",
   "metadata": {},
   "outputs": [
    {
     "ename": "AttributeError",
     "evalue": "'frozenset' object has no attribute 'remove'",
     "output_type": "error",
     "traceback": [
      "\u001b[0;31m---------------------------------------------------------------------------\u001b[0m",
      "\u001b[0;31mAttributeError\u001b[0m                            Traceback (most recent call last)",
      "Input \u001b[0;32mIn [34]\u001b[0m, in \u001b[0;36m<cell line: 1>\u001b[0;34m()\u001b[0m\n\u001b[0;32m----> 1\u001b[0m \u001b[43mA\u001b[49m\u001b[38;5;241;43m.\u001b[39;49m\u001b[43mremove\u001b[49m(\u001b[38;5;124m'\u001b[39m\u001b[38;5;124mapple\u001b[39m\u001b[38;5;124m'\u001b[39m)\n",
      "\u001b[0;31mAttributeError\u001b[0m: 'frozenset' object has no attribute 'remove'"
     ]
    }
   ],
   "source": [
    "A.remove('apple')"
   ]
  },
  {
   "cell_type": "code",
   "execution_count": null,
   "id": "7bee85ae",
   "metadata": {},
   "outputs": [],
   "source": []
  }
 ],
 "metadata": {
  "kernelspec": {
   "display_name": "Python 3 (ipykernel)",
   "language": "python",
   "name": "python3"
  },
  "language_info": {
   "codemirror_mode": {
    "name": "ipython",
    "version": 3
   },
   "file_extension": ".py",
   "mimetype": "text/x-python",
   "name": "python",
   "nbconvert_exporter": "python",
   "pygments_lexer": "ipython3",
   "version": "3.8.10"
  }
 },
 "nbformat": 4,
 "nbformat_minor": 5
}
