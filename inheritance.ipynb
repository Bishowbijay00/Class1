{
 "cells": [
  {
   "cell_type": "code",
   "execution_count": 1,
   "id": "11f31842",
   "metadata": {},
   "outputs": [],
   "source": [
    "def test(*args,**kwargs):\n",
    "    print(args)\n",
    "    print(kwargs)"
   ]
  },
  {
   "cell_type": "code",
   "execution_count": 2,
   "id": "4e9276c5",
   "metadata": {},
   "outputs": [
    {
     "name": "stdout",
     "output_type": "stream",
     "text": [
      "(1, 2, 3, 4, 55, 66, 77, 88, 99)\n",
      "{'first_name': 'Bishow', 'last_name': 'Singh'}\n"
     ]
    }
   ],
   "source": [
    "test(1,2,3,4,55,66,77,88,99,first_name = 'Bishow',last_name = 'Singh')"
   ]
  },
  {
   "cell_type": "code",
   "execution_count": 7,
   "id": "74b56c6a",
   "metadata": {},
   "outputs": [],
   "source": [
    "class person:\n",
    "    def __init__(self , name):\n",
    "        self.name = name\n",
    "        \n",
    "    def display_name(self):\n",
    "        print('your name is {}'.format(self.name))"
   ]
  },
  {
   "cell_type": "code",
   "execution_count": 8,
   "id": "1d130049",
   "metadata": {},
   "outputs": [],
   "source": [
    "p1 = person('Bishow')"
   ]
  },
  {
   "cell_type": "code",
   "execution_count": 9,
   "id": "5ae22ebb",
   "metadata": {},
   "outputs": [
    {
     "data": {
      "text/plain": [
       "'Bishow'"
      ]
     },
     "execution_count": 9,
     "metadata": {},
     "output_type": "execute_result"
    }
   ],
   "source": [
    "p1.name "
   ]
  },
  {
   "cell_type": "code",
   "execution_count": 11,
   "id": "ca07d562",
   "metadata": {},
   "outputs": [
    {
     "name": "stdout",
     "output_type": "stream",
     "text": [
      "your name is Bishow\n"
     ]
    }
   ],
   "source": [
    "p1.display_name()"
   ]
  },
  {
   "cell_type": "code",
   "execution_count": 22,
   "id": "911508fe",
   "metadata": {},
   "outputs": [],
   "source": [
    "class computer():\n",
    "    def __init__(self,cpu,ram):\n",
    "        self.cpu = cpu\n",
    "        self.ram = ram"
   ]
  },
  {
   "cell_type": "code",
   "execution_count": 26,
   "id": "6d2a8b2d",
   "metadata": {},
   "outputs": [],
   "source": [
    "class Mobile(computer):\n",
    "    def __init__(self,model,cpu,ram):\n",
    "        self.model = model\n",
    "        super().__init__(cpu,ram)"
   ]
  },
  {
   "cell_type": "code",
   "execution_count": 27,
   "id": "33b4c3fb",
   "metadata": {},
   "outputs": [],
   "source": [
    "mob = Mobile('Iphone 13 pro max', 2.4, 8)"
   ]
  },
  {
   "cell_type": "code",
   "execution_count": 28,
   "id": "69d67024",
   "metadata": {},
   "outputs": [
    {
     "data": {
      "text/plain": [
       "2.4"
      ]
     },
     "execution_count": 28,
     "metadata": {},
     "output_type": "execute_result"
    }
   ],
   "source": [
    "mob.cpu"
   ]
  },
  {
   "cell_type": "markdown",
   "id": "5be3f41f",
   "metadata": {},
   "source": [
    "# miltiple inheritance"
   ]
  },
  {
   "cell_type": "code",
   "execution_count": 36,
   "id": "0d8b3064",
   "metadata": {},
   "outputs": [],
   "source": [
    "class father:\n",
    "    def __init__(self, fathername):\n",
    "        self.fathername = fathername\n",
    "class mother:\n",
    "    def __init__(self, mothername):\n",
    "        self.mothername = mothername"
   ]
  },
  {
   "cell_type": "code",
   "execution_count": 37,
   "id": "de12f1b4",
   "metadata": {},
   "outputs": [],
   "source": [
    "class child(father,mother):\n",
    "    def __init__(self,fathername,mothername,childname):\n",
    "        self.childname = childname\n",
    "        father.__init__(self,fathername)\n",
    "        mother.__init__(self,mothername)"
   ]
  },
  {
   "cell_type": "code",
   "execution_count": 38,
   "id": "12edf1c2",
   "metadata": {},
   "outputs": [],
   "source": [
    "c1 = child('Ram','Sita','Luv-Kush')"
   ]
  },
  {
   "cell_type": "code",
   "execution_count": 39,
   "id": "2d0e2b54",
   "metadata": {},
   "outputs": [
    {
     "data": {
      "text/plain": [
       "'Ram'"
      ]
     },
     "execution_count": 39,
     "metadata": {},
     "output_type": "execute_result"
    }
   ],
   "source": [
    "c1.fathername"
   ]
  },
  {
   "cell_type": "code",
   "execution_count": 40,
   "id": "f11c21cb",
   "metadata": {},
   "outputs": [
    {
     "data": {
      "text/plain": [
       "'Sita'"
      ]
     },
     "execution_count": 40,
     "metadata": {},
     "output_type": "execute_result"
    }
   ],
   "source": [
    "c1.mothername"
   ]
  },
  {
   "cell_type": "code",
   "execution_count": 42,
   "id": "725dd777",
   "metadata": {},
   "outputs": [
    {
     "data": {
      "text/plain": [
       "'Luv-Kush'"
      ]
     },
     "execution_count": 42,
     "metadata": {},
     "output_type": "execute_result"
    }
   ],
   "source": [
    "c1.childname"
   ]
  },
  {
   "cell_type": "code",
   "execution_count": 63,
   "id": "efc60ce6",
   "metadata": {},
   "outputs": [],
   "source": [
    "class person:\n",
    "    def __init__(self,name,balance):\n",
    "        self.name = name\n",
    "        self.balance = balance\n",
    "        \n",
    "    def __add__(self,otherobj):\n",
    "            return self.balance + otherobj.balance"
   ]
  },
  {
   "cell_type": "code",
   "execution_count": 64,
   "id": "10bfc6b2",
   "metadata": {},
   "outputs": [],
   "source": [
    "p1 = person('Bishow', 100000000)\n",
    "p2 = person('Bijay', 20000000000)"
   ]
  },
  {
   "cell_type": "code",
   "execution_count": 65,
   "id": "5bd1abd7",
   "metadata": {},
   "outputs": [
    {
     "data": {
      "text/plain": [
       "20100000000"
      ]
     },
     "execution_count": 65,
     "metadata": {},
     "output_type": "execute_result"
    }
   ],
   "source": [
    "p1+p2"
   ]
  },
  {
   "cell_type": "code",
   "execution_count": 80,
   "id": "b04c8d3d",
   "metadata": {},
   "outputs": [],
   "source": [
    "class alpha:\n",
    "    def display(self):\n",
    "        print('This is alpha display')"
   ]
  },
  {
   "cell_type": "code",
   "execution_count": 81,
   "id": "824abff8",
   "metadata": {},
   "outputs": [],
   "source": [
    "class beta(alpha):\n",
    "    def __init__(self):\n",
    "        super().__init__()\n",
    "        \n",
    "    def display(self):\n",
    "            print('This is beta display')"
   ]
  },
  {
   "cell_type": "code",
   "execution_count": 82,
   "id": "c1b1943e",
   "metadata": {},
   "outputs": [],
   "source": [
    "b = beta()"
   ]
  },
  {
   "cell_type": "code",
   "execution_count": 83,
   "id": "b8d5d5ac",
   "metadata": {},
   "outputs": [
    {
     "name": "stdout",
     "output_type": "stream",
     "text": [
      "This is beta display\n"
     ]
    }
   ],
   "source": [
    "b.display()"
   ]
  },
  {
   "cell_type": "markdown",
   "id": "78378e28",
   "metadata": {},
   "source": [
    "# Dunder or Magic method in python"
   ]
  },
  {
   "cell_type": "code",
   "execution_count": null,
   "id": "165af2c5",
   "metadata": {},
   "outputs": [],
   "source": []
  }
 ],
 "metadata": {
  "kernelspec": {
   "display_name": "Python 3 (ipykernel)",
   "language": "python",
   "name": "python3"
  },
  "language_info": {
   "codemirror_mode": {
    "name": "ipython",
    "version": 3
   },
   "file_extension": ".py",
   "mimetype": "text/x-python",
   "name": "python",
   "nbconvert_exporter": "python",
   "pygments_lexer": "ipython3",
   "version": "3.8.10"
  }
 },
 "nbformat": 4,
 "nbformat_minor": 5
}
