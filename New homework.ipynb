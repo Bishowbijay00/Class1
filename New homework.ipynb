{
 "cells": [
  {
   "cell_type": "markdown",
   "id": "5f01dab3",
   "metadata": {},
   "source": [
    "# Using string manipulation technique extract fruits name from txt.\n",
    "\n",
    "txt = \"I Like Orange Apple Banana and Kiwi.\"\n",
    "\n",
    "fruits = ('orange' , 'apple' , 'banana', 'kiwi')"
   ]
  },
  {
   "cell_type": "code",
   "execution_count": null,
   "id": "92902181",
   "metadata": {},
   "outputs": [],
   "source": []
  },
  {
   "cell_type": "code",
   "execution_count": null,
   "id": "8db8a553",
   "metadata": {},
   "outputs": [],
   "source": []
  },
  {
   "cell_type": "code",
   "execution_count": null,
   "id": "9866db4a",
   "metadata": {},
   "outputs": [],
   "source": []
  },
  {
   "cell_type": "code",
   "execution_count": null,
   "id": "95b9ad9f",
   "metadata": {},
   "outputs": [],
   "source": []
  },
  {
   "cell_type": "code",
   "execution_count": null,
   "id": "23913d02",
   "metadata": {},
   "outputs": [],
   "source": []
  },
  {
   "cell_type": "code",
   "execution_count": null,
   "id": "36ad44a8",
   "metadata": {},
   "outputs": [],
   "source": []
  },
  {
   "cell_type": "code",
   "execution_count": null,
   "id": "b3b3c269",
   "metadata": {},
   "outputs": [],
   "source": []
  },
  {
   "cell_type": "markdown",
   "id": "25923096",
   "metadata": {},
   "source": [
    "# write a program to check if string2 is the rotation of string1 or not."
   ]
  },
  {
   "cell_type": "code",
   "execution_count": 11,
   "id": "713e64cc",
   "metadata": {},
   "outputs": [
    {
     "name": "stdout",
     "output_type": "stream",
     "text": [
      "INDIACHINAAMERICAJAPANNEPAL\n"
     ]
    }
   ],
   "source": [
    "str1 = \"nepalindiachinaamericajapan\" \n",
    "str2 = \"INDIACHINAAMERICAJAPANNEPAL\"  \n",
    "   \n",
    "if(len(str1) != len(str2)):  \n",
    "    print(\"INDIACHINAAMERICAJAPANNEPAL\")  \n",
    "else:  \n",
    "    try:\n",
    "        str1 = str1 + str1;  \n",
    "        if(str1.index(str2)):  \n",
    "            print(\"nepalindiachinaamericajapan\")  \n",
    "    except ValueError:  \n",
    "            print(\"INDIACHINAAMERICAJAPANNEPAL\") "
   ]
  },
  {
   "cell_type": "code",
   "execution_count": null,
   "id": "36a6d9a0",
   "metadata": {},
   "outputs": [],
   "source": []
  },
  {
   "cell_type": "code",
   "execution_count": null,
   "id": "f43891ae",
   "metadata": {},
   "outputs": [],
   "source": []
  }
 ],
 "metadata": {
  "kernelspec": {
   "display_name": "Python 3 (ipykernel)",
   "language": "python",
   "name": "python3"
  },
  "language_info": {
   "codemirror_mode": {
    "name": "ipython",
    "version": 3
   },
   "file_extension": ".py",
   "mimetype": "text/x-python",
   "name": "python",
   "nbconvert_exporter": "python",
   "pygments_lexer": "ipython3",
   "version": "3.8.10"
  }
 },
 "nbformat": 4,
 "nbformat_minor": 5
}
