{
 "cells": [
  {
   "cell_type": "code",
   "execution_count": 1,
   "id": "2bf5543f",
   "metadata": {},
   "outputs": [],
   "source": [
    "s = \"HELLO WORLD\""
   ]
  },
  {
   "cell_type": "code",
   "execution_count": 2,
   "id": "ac520b3b",
   "metadata": {},
   "outputs": [
    {
     "data": {
      "text/plain": [
       "'E'"
      ]
     },
     "execution_count": 2,
     "metadata": {},
     "output_type": "execute_result"
    }
   ],
   "source": [
    "s[1]"
   ]
  },
  {
   "cell_type": "code",
   "execution_count": 3,
   "id": "1c7d2221",
   "metadata": {},
   "outputs": [
    {
     "data": {
      "text/plain": [
       "'H'"
      ]
     },
     "execution_count": 3,
     "metadata": {},
     "output_type": "execute_result"
    }
   ],
   "source": [
    "s[0]"
   ]
  },
  {
   "cell_type": "code",
   "execution_count": 6,
   "id": "9009f4cc",
   "metadata": {},
   "outputs": [
    {
     "data": {
      "text/plain": [
       "11"
      ]
     },
     "execution_count": 6,
     "metadata": {},
     "output_type": "execute_result"
    }
   ],
   "source": [
    "len(s)"
   ]
  },
  {
   "cell_type": "code",
   "execution_count": 9,
   "id": "6f6d0009",
   "metadata": {},
   "outputs": [
    {
     "name": "stdout",
     "output_type": "stream",
     "text": [
      "0\n",
      "1\n",
      "2\n",
      "3\n",
      "4\n"
     ]
    }
   ],
   "source": [
    "for index in range(0,5,1):\n",
    "    print(index)"
   ]
  },
  {
   "cell_type": "code",
   "execution_count": 10,
   "id": "b2d012f4",
   "metadata": {},
   "outputs": [
    {
     "name": "stdout",
     "output_type": "stream",
     "text": [
      "The index is 0 and the letter is H\n",
      "The index is 1 and the letter is E\n",
      "The index is 2 and the letter is L\n",
      "The index is 3 and the letter is L\n",
      "The index is 4 and the letter is O\n",
      "The index is 5 and the letter is  \n",
      "The index is 6 and the letter is W\n",
      "The index is 7 and the letter is O\n",
      "The index is 8 and the letter is R\n",
      "The index is 9 and the letter is L\n",
      "The index is 10 and the letter is D\n"
     ]
    }
   ],
   "source": [
    "s = \"HELLO WORLD\"\n",
    "start = 0\n",
    "step = 1\n",
    "stop = len(s)\n",
    "\n",
    "for index in range(start,stop,step):\n",
    "    letter = s[index]\n",
    "    print(\"The index is {} and the letter is {}\".format(index, letter))"
   ]
  },
  {
   "cell_type": "code",
   "execution_count": 22,
   "id": "3021af8b",
   "metadata": {},
   "outputs": [
    {
     "name": "stdout",
     "output_type": "stream",
     "text": [
      "The index is 10 and the letter is D\n",
      "The index is 9 and the letter is L\n",
      "The index is 8 and the letter is R\n",
      "The index is 7 and the letter is O\n",
      "The index is 6 and the letter is W\n",
      "The index is 5 and the letter is  \n",
      "The index is 4 and the letter is O\n",
      "The index is 3 and the letter is L\n",
      "The index is 2 and the letter is L\n",
      "The index is 1 and the letter is E\n",
      "The index is 0 and the letter is H\n"
     ]
    }
   ],
   "source": [
    "s = \"HELLO WORLD\"\n",
    "start = len(s) -1\n",
    "step = -1\n",
    "stop = -1\n",
    "for index in range(start,stop,step):\n",
    "    letter = s[index]\n",
    "    print(\"The index is {} and the letter is {}\" .format(index, letter))"
   ]
  },
  {
   "cell_type": "code",
   "execution_count": null,
   "id": "7c63c8c9",
   "metadata": {},
   "outputs": [],
   "source": []
  }
 ],
 "metadata": {
  "kernelspec": {
   "display_name": "Python 3 (ipykernel)",
   "language": "python",
   "name": "python3"
  },
  "language_info": {
   "codemirror_mode": {
    "name": "ipython",
    "version": 3
   },
   "file_extension": ".py",
   "mimetype": "text/x-python",
   "name": "python",
   "nbconvert_exporter": "python",
   "pygments_lexer": "ipython3",
   "version": "3.8.10"
  }
 },
 "nbformat": 4,
 "nbformat_minor": 5
}
