{
 "cells": [
  {
   "cell_type": "code",
   "execution_count": 1,
   "id": "351cacb3",
   "metadata": {},
   "outputs": [],
   "source": [
    "txt = \"Bi$how\""
   ]
  },
  {
   "cell_type": "code",
   "execution_count": 3,
   "id": "c84e9622",
   "metadata": {},
   "outputs": [
    {
     "data": {
      "text/plain": [
       "'$'"
      ]
     },
     "execution_count": 3,
     "metadata": {},
     "output_type": "execute_result"
    }
   ],
   "source": [
    "txt[2]"
   ]
  },
  {
   "cell_type": "code",
   "execution_count": 9,
   "id": "76187786",
   "metadata": {},
   "outputs": [
    {
     "data": {
      "text/plain": [
       "'MALE'"
      ]
     },
     "execution_count": 9,
     "metadata": {},
     "output_type": "execute_result"
    }
   ],
   "source": [
    "txt"
   ]
  },
  {
   "cell_type": "code",
   "execution_count": 8,
   "id": "51cf2c5d",
   "metadata": {},
   "outputs": [
    {
     "data": {
      "text/plain": [
       "'MALE'"
      ]
     },
     "execution_count": 8,
     "metadata": {},
     "output_type": "execute_result"
    }
   ],
   "source": [
    "txt.replace(\"$\" , \"s\")"
   ]
  },
  {
   "cell_type": "code",
   "execution_count": 6,
   "id": "88073286",
   "metadata": {},
   "outputs": [],
   "source": [
    "txt = \"MALE\""
   ]
  },
  {
   "cell_type": "code",
   "execution_count": 14,
   "id": "9d6bfb51",
   "metadata": {},
   "outputs": [],
   "source": [
    "txt = txt.lower()"
   ]
  },
  {
   "cell_type": "code",
   "execution_count": 15,
   "id": "39003ce6",
   "metadata": {},
   "outputs": [
    {
     "data": {
      "text/plain": [
       "'male'"
      ]
     },
     "execution_count": 15,
     "metadata": {},
     "output_type": "execute_result"
    }
   ],
   "source": [
    "txt"
   ]
  },
  {
   "cell_type": "code",
   "execution_count": 19,
   "id": "0c33b24c",
   "metadata": {},
   "outputs": [],
   "source": [
    "txt = txt.upper()"
   ]
  },
  {
   "cell_type": "code",
   "execution_count": 20,
   "id": "ed94497e",
   "metadata": {},
   "outputs": [
    {
     "data": {
      "text/plain": [
       "'MALE'"
      ]
     },
     "execution_count": 20,
     "metadata": {},
     "output_type": "execute_result"
    }
   ],
   "source": [
    "txt"
   ]
  },
  {
   "cell_type": "code",
   "execution_count": 44,
   "id": "cecd030f",
   "metadata": {},
   "outputs": [],
   "source": [
    "txt = 'This will split all words.'"
   ]
  },
  {
   "cell_type": "code",
   "execution_count": 45,
   "id": "f682a3b6",
   "metadata": {},
   "outputs": [
    {
     "data": {
      "text/plain": [
       "'This will split all words.'"
      ]
     },
     "execution_count": 45,
     "metadata": {},
     "output_type": "execute_result"
    }
   ],
   "source": [
    "txt"
   ]
  },
  {
   "cell_type": "code",
   "execution_count": 46,
   "id": "71aa7415",
   "metadata": {},
   "outputs": [
    {
     "data": {
      "text/plain": [
       "['This', 'will', 'split', 'all', 'words.']"
      ]
     },
     "execution_count": 46,
     "metadata": {},
     "output_type": "execute_result"
    }
   ],
   "source": [
    "txt.split(' ')"
   ]
  },
  {
   "cell_type": "code",
   "execution_count": 47,
   "id": "20911500",
   "metadata": {},
   "outputs": [
    {
     "data": {
      "text/plain": [
       "str"
      ]
     },
     "execution_count": 47,
     "metadata": {},
     "output_type": "execute_result"
    }
   ],
   "source": [
    "type(txt)\n"
   ]
  },
  {
   "cell_type": "code",
   "execution_count": null,
   "id": "eefb56e4",
   "metadata": {},
   "outputs": [],
   "source": []
  }
 ],
 "metadata": {
  "kernelspec": {
   "display_name": "Python 3 (ipykernel)",
   "language": "python",
   "name": "python3"
  },
  "language_info": {
   "codemirror_mode": {
    "name": "ipython",
    "version": 3
   },
   "file_extension": ".py",
   "mimetype": "text/x-python",
   "name": "python",
   "nbconvert_exporter": "python",
   "pygments_lexer": "ipython3",
   "version": "3.8.10"
  }
 },
 "nbformat": 4,
 "nbformat_minor": 5
}
