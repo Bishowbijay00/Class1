{
 "cells": [
  {
   "cell_type": "markdown",
   "id": "803c17f7",
   "metadata": {},
   "source": [
    "```python\n",
    "# cruid\n",
    "# C: create database\n",
    "# R: read\n",
    "# U: update\n",
    "# I: insert\n",
    "# D: delete\n",
    "```"
   ]
  },
  {
   "cell_type": "code",
   "execution_count": 1,
   "id": "606a09fa",
   "metadata": {},
   "outputs": [],
   "source": [
    "import sqlite3"
   ]
  },
  {
   "cell_type": "code",
   "execution_count": 2,
   "id": "e44c456b",
   "metadata": {},
   "outputs": [],
   "source": [
    "con = sqlite3.connect('class1.db')"
   ]
  },
  {
   "cell_type": "code",
   "execution_count": 3,
   "id": "f21526cc",
   "metadata": {},
   "outputs": [
    {
     "data": {
      "text/plain": [
       "<sqlite3.Cursor at 0x7fc085cc3880>"
      ]
     },
     "execution_count": 3,
     "metadata": {},
     "output_type": "execute_result"
    }
   ],
   "source": [
    "con.cursor()"
   ]
  },
  {
   "cell_type": "code",
   "execution_count": 4,
   "id": "3d26243b",
   "metadata": {},
   "outputs": [],
   "source": [
    "cur = con.cursor()"
   ]
  },
  {
   "cell_type": "markdown",
   "id": "4503f82d",
   "metadata": {},
   "source": [
    "# create syntax in SQL"
   ]
  },
  {
   "cell_type": "code",
   "execution_count": 5,
   "id": "274420a8",
   "metadata": {},
   "outputs": [],
   "source": [
    "query = '''\n",
    "create table class1(rollno int,\n",
    "name varchar(50)\n",
    ")\n",
    "'''"
   ]
  },
  {
   "cell_type": "code",
   "execution_count": 6,
   "id": "32fff661",
   "metadata": {},
   "outputs": [
    {
     "ename": "OperationalError",
     "evalue": "table class1 already exists",
     "output_type": "error",
     "traceback": [
      "\u001b[0;31m---------------------------------------------------------------------------\u001b[0m",
      "\u001b[0;31mOperationalError\u001b[0m                          Traceback (most recent call last)",
      "Input \u001b[0;32mIn [6]\u001b[0m, in \u001b[0;36m<cell line: 1>\u001b[0;34m()\u001b[0m\n\u001b[0;32m----> 1\u001b[0m \u001b[43mcon\u001b[49m\u001b[38;5;241;43m.\u001b[39;49m\u001b[43mexecute\u001b[49m\u001b[43m(\u001b[49m\u001b[43mquery\u001b[49m\u001b[43m)\u001b[49m\n",
      "\u001b[0;31mOperationalError\u001b[0m: table class1 already exists"
     ]
    }
   ],
   "source": [
    "con.execute(query)"
   ]
  },
  {
   "cell_type": "code",
   "execution_count": null,
   "id": "a314e735",
   "metadata": {},
   "outputs": [],
   "source": [
    "con.commit()"
   ]
  },
  {
   "cell_type": "markdown",
   "id": "58e75093",
   "metadata": {},
   "source": [
    "# insert statement in SQL"
   ]
  },
  {
   "cell_type": "code",
   "execution_count": 7,
   "id": "cb754a88",
   "metadata": {},
   "outputs": [],
   "source": [
    "insert_query = \"\"\"\n",
    "insert into class1\n",
    "(rollno, name)values\n",
    "(1, 'prajay'),\n",
    "(2, 'BIshow'),\n",
    "(3, 'upama'),\n",
    "(4, 'krishna')\n",
    "\"\"\""
   ]
  },
  {
   "cell_type": "code",
   "execution_count": 8,
   "id": "da1978ce",
   "metadata": {},
   "outputs": [
    {
     "data": {
      "text/plain": [
       "<sqlite3.Cursor at 0x7fc086a12b20>"
      ]
     },
     "execution_count": 8,
     "metadata": {},
     "output_type": "execute_result"
    }
   ],
   "source": [
    "con.execute(insert_query)"
   ]
  },
  {
   "cell_type": "code",
   "execution_count": 9,
   "id": "cc14c9e0",
   "metadata": {},
   "outputs": [],
   "source": [
    "con.commit()"
   ]
  },
  {
   "cell_type": "markdown",
   "id": "73f178c8",
   "metadata": {},
   "source": [
    "# select statement in SQL\n",
    "```sql\n",
    "# select * from table_name\n",
    "```"
   ]
  },
  {
   "cell_type": "code",
   "execution_count": 10,
   "id": "6331adf1",
   "metadata": {},
   "outputs": [],
   "source": [
    "read_query = 'select * from {}'.format('class1')"
   ]
  },
  {
   "cell_type": "code",
   "execution_count": 11,
   "id": "8adb13ac",
   "metadata": {},
   "outputs": [
    {
     "data": {
      "text/plain": [
       "'select * from class1'"
      ]
     },
     "execution_count": 11,
     "metadata": {},
     "output_type": "execute_result"
    }
   ],
   "source": [
    "read_query"
   ]
  },
  {
   "cell_type": "code",
   "execution_count": 12,
   "id": "08a0c19c",
   "metadata": {},
   "outputs": [
    {
     "data": {
      "text/plain": [
       "[(1, 'prajay'),\n",
       " (2, 'BIshow'),\n",
       " (3, 'upama'),\n",
       " (4, 'krishna'),\n",
       " (1, 'prajay'),\n",
       " (2, 'BIshow'),\n",
       " (3, 'upama'),\n",
       " (4, 'krishna'),\n",
       " (1, 'prajay'),\n",
       " (2, 'BIshow'),\n",
       " (3, 'upama'),\n",
       " (4, 'krishna'),\n",
       " (1, 'prajay'),\n",
       " (2, 'BIshow'),\n",
       " (3, 'upama'),\n",
       " (4, 'krishna'),\n",
       " (1, 'prajay'),\n",
       " (2, 'BIshow'),\n",
       " (3, 'upama'),\n",
       " (4, 'krishna')]"
      ]
     },
     "execution_count": 12,
     "metadata": {},
     "output_type": "execute_result"
    }
   ],
   "source": [
    "con.execute(read_query).fetchall()"
   ]
  },
  {
   "cell_type": "code",
   "execution_count": 13,
   "id": "c6693609",
   "metadata": {},
   "outputs": [
    {
     "data": {
      "text/plain": [
       "[(2, 'BIshow'), (2, 'BIshow'), (2, 'BIshow'), (2, 'BIshow'), (2, 'BIshow')]"
      ]
     },
     "execution_count": 13,
     "metadata": {},
     "output_type": "execute_result"
    }
   ],
   "source": [
    "q = '''\n",
    "select * from class1 where rollno = 2\n",
    "'''\n",
    "con.execute(q).fetchall()"
   ]
  },
  {
   "cell_type": "markdown",
   "id": "9b8b7e60",
   "metadata": {},
   "source": [
    "# update statement in SQL"
   ]
  },
  {
   "cell_type": "code",
   "execution_count": 14,
   "id": "dcd76d2e",
   "metadata": {},
   "outputs": [],
   "source": [
    "up_query = \"\"\"\n",
    "update class1\n",
    "set name = 'prajay kc'\n",
    "where\n",
    "rollno = 1\n",
    "\"\"\""
   ]
  },
  {
   "cell_type": "code",
   "execution_count": 15,
   "id": "8990f61e",
   "metadata": {},
   "outputs": [
    {
     "data": {
      "text/plain": [
       "<sqlite3.Cursor at 0x7fc085cc3960>"
      ]
     },
     "execution_count": 15,
     "metadata": {},
     "output_type": "execute_result"
    }
   ],
   "source": [
    "cur.execute(up_query)"
   ]
  },
  {
   "cell_type": "code",
   "execution_count": 16,
   "id": "8c4845dd",
   "metadata": {},
   "outputs": [],
   "source": [
    "con.commit()"
   ]
  },
  {
   "cell_type": "code",
   "execution_count": 17,
   "id": "b8e290f9",
   "metadata": {},
   "outputs": [
    {
     "data": {
      "text/plain": [
       "[(1, 'prajay kc'),\n",
       " (2, 'BIshow'),\n",
       " (3, 'upama'),\n",
       " (4, 'krishna'),\n",
       " (1, 'prajay kc'),\n",
       " (2, 'BIshow'),\n",
       " (3, 'upama'),\n",
       " (4, 'krishna'),\n",
       " (1, 'prajay kc'),\n",
       " (2, 'BIshow'),\n",
       " (3, 'upama'),\n",
       " (4, 'krishna'),\n",
       " (1, 'prajay kc'),\n",
       " (2, 'BIshow'),\n",
       " (3, 'upama'),\n",
       " (4, 'krishna'),\n",
       " (1, 'prajay kc'),\n",
       " (2, 'BIshow'),\n",
       " (3, 'upama'),\n",
       " (4, 'krishna')]"
      ]
     },
     "execution_count": 17,
     "metadata": {},
     "output_type": "execute_result"
    }
   ],
   "source": [
    "cur.execute(\"select * from class1\").fetchall()"
   ]
  },
  {
   "cell_type": "markdown",
   "id": "0fcd1890",
   "metadata": {},
   "source": [
    "# executemany"
   ]
  },
  {
   "cell_type": "code",
   "execution_count": 18,
   "id": "f7048106",
   "metadata": {},
   "outputs": [],
   "source": [
    "data = [\n",
    "    (5, \"apurba Dhakal\"),\n",
    "    (6, \"Swatika yogi\")\n",
    "]"
   ]
  },
  {
   "cell_type": "code",
   "execution_count": 19,
   "id": "ee111206",
   "metadata": {},
   "outputs": [
    {
     "data": {
      "text/plain": [
       "<sqlite3.Cursor at 0x7fc086a12500>"
      ]
     },
     "execution_count": 19,
     "metadata": {},
     "output_type": "execute_result"
    }
   ],
   "source": [
    "con.executemany('Insert Into class1(rollno,name)values(?,?)',data)"
   ]
  },
  {
   "cell_type": "code",
   "execution_count": 20,
   "id": "4c7caf2f",
   "metadata": {},
   "outputs": [
    {
     "data": {
      "text/plain": [
       "[(1, 'prajay kc'),\n",
       " (2, 'BIshow'),\n",
       " (3, 'upama'),\n",
       " (4, 'krishna'),\n",
       " (1, 'prajay kc'),\n",
       " (2, 'BIshow'),\n",
       " (3, 'upama'),\n",
       " (4, 'krishna'),\n",
       " (1, 'prajay kc'),\n",
       " (2, 'BIshow'),\n",
       " (3, 'upama'),\n",
       " (4, 'krishna'),\n",
       " (1, 'prajay kc'),\n",
       " (2, 'BIshow'),\n",
       " (3, 'upama'),\n",
       " (4, 'krishna'),\n",
       " (1, 'prajay kc'),\n",
       " (2, 'BIshow'),\n",
       " (3, 'upama'),\n",
       " (4, 'krishna'),\n",
       " (5, 'apurba Dhakal'),\n",
       " (6, 'Swatika yogi')]"
      ]
     },
     "execution_count": 20,
     "metadata": {},
     "output_type": "execute_result"
    }
   ],
   "source": [
    "con.execute(\"select * from class1\").fetchall()"
   ]
  },
  {
   "cell_type": "code",
   "execution_count": 23,
   "id": "980188ab",
   "metadata": {},
   "outputs": [],
   "source": [
    "# DELETE from table where condition;"
   ]
  },
  {
   "cell_type": "code",
   "execution_count": 24,
   "id": "94ce608c",
   "metadata": {},
   "outputs": [
    {
     "data": {
      "text/plain": [
       "<sqlite3.Cursor at 0x7fc0868fb5e0>"
      ]
     },
     "execution_count": 24,
     "metadata": {},
     "output_type": "execute_result"
    }
   ],
   "source": [
    "con.execute('DELETE from class1 where rollno = 6')"
   ]
  },
  {
   "cell_type": "code",
   "execution_count": 25,
   "id": "9c6dc08d",
   "metadata": {},
   "outputs": [
    {
     "data": {
      "text/plain": [
       "[(1, 'prajay kc'),\n",
       " (2, 'BIshow'),\n",
       " (3, 'upama'),\n",
       " (4, 'krishna'),\n",
       " (1, 'prajay kc'),\n",
       " (2, 'BIshow'),\n",
       " (3, 'upama'),\n",
       " (4, 'krishna'),\n",
       " (1, 'prajay kc'),\n",
       " (2, 'BIshow'),\n",
       " (3, 'upama'),\n",
       " (4, 'krishna'),\n",
       " (1, 'prajay kc'),\n",
       " (2, 'BIshow'),\n",
       " (3, 'upama'),\n",
       " (4, 'krishna'),\n",
       " (1, 'prajay kc'),\n",
       " (2, 'BIshow'),\n",
       " (3, 'upama'),\n",
       " (4, 'krishna'),\n",
       " (5, 'apurba Dhakal')]"
      ]
     },
     "execution_count": 25,
     "metadata": {},
     "output_type": "execute_result"
    }
   ],
   "source": [
    "con.execute(\"select * from class1\").fetchall()"
   ]
  },
  {
   "cell_type": "code",
   "execution_count": null,
   "id": "b6392afb",
   "metadata": {},
   "outputs": [],
   "source": []
  }
 ],
 "metadata": {
  "kernelspec": {
   "display_name": "Python 3 (ipykernel)",
   "language": "python",
   "name": "python3"
  },
  "language_info": {
   "codemirror_mode": {
    "name": "ipython",
    "version": 3
   },
   "file_extension": ".py",
   "mimetype": "text/x-python",
   "name": "python",
   "nbconvert_exporter": "python",
   "pygments_lexer": "ipython3",
   "version": "3.8.10"
  }
 },
 "nbformat": 4,
 "nbformat_minor": 5
}
