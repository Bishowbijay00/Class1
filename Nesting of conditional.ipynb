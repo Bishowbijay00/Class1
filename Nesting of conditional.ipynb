{
 "cells": [
  {
   "cell_type": "markdown",
   "id": "d846d7dc",
   "metadata": {},
   "source": [
    "#Nesting of conditionals\n",
    "WAP to check if the user input is zero,positive and negative,and print respective message- Nesting conditionals."
   ]
  },
  {
   "cell_type": "code",
   "execution_count": 1,
   "id": "8112be83",
   "metadata": {},
   "outputs": [
    {
     "name": "stdout",
     "output_type": "stream",
     "text": [
      "Enter a number:5\n",
      "The number is positive\n"
     ]
    }
   ],
   "source": [
    "user_input = int(input(\"Enter a number:\"))\n",
    "\n",
    "if user_input < 0:\n",
    "    print(\"The number is negative\")\n",
    "else:\n",
    "        if user_input == 0:\n",
    "            print(\"The number is zero\")\n",
    "        else:\n",
    "            print(\"The number is positive\")"
   ]
  },
  {
   "cell_type": "code",
   "execution_count": 12,
   "id": "8988a9c8",
   "metadata": {},
   "outputs": [
    {
     "name": "stdout",
     "output_type": "stream",
     "text": [
      "Enter a numer:8\n",
      "The number is positive\n"
     ]
    }
   ],
   "source": [
    "user_input = int(input(\"Enter a numer:\"))\n",
    "\n",
    "if user_input < 0:\n",
    "    print(\"The number is negative\")\n",
    "    \n",
    "elif user_input == 0:\n",
    "     print(\"The number is zero\")\n",
    "        \n",
    "else:\n",
    "    print(\"The number is positive\")"
   ]
  },
  {
   "cell_type": "code",
   "execution_count": 25,
   "id": "d426da0d",
   "metadata": {},
   "outputs": [
    {
     "ename": "IndentationError",
     "evalue": "unexpected indent (3669616436.py, line 8)",
     "output_type": "error",
     "traceback": [
      "\u001b[0;36m  Input \u001b[0;32mIn [25]\u001b[0;36m\u001b[0m\n\u001b[0;31m    if user_input % 2 == 0:\u001b[0m\n\u001b[0m    ^\u001b[0m\n\u001b[0;31mIndentationError\u001b[0m\u001b[0;31m:\u001b[0m unexpected indent\n"
     ]
    }
   ],
   "source": [
    "user_input = int(input(\"Enter a number\"))\n",
    "\n",
    "if user_input < 0:\n",
    "    print(\"The number is negative\")\n",
    "    \n",
    "elif user_input > 0:\n",
    "     print(\"The number is positive\")\n",
    "        if user_input % 2 == 0:\n",
    "                  print(\"even\")\n",
    "        else:\n",
    "            print(\"odd\")\n",
    "else:\n",
    "    print(\"The number is zero\")\n",
    "    "
   ]
  },
  {
   "cell_type": "code",
   "execution_count": null,
   "id": "67d43352",
   "metadata": {},
   "outputs": [],
   "source": []
  }
 ],
 "metadata": {
  "kernelspec": {
   "display_name": "Python 3 (ipykernel)",
   "language": "python",
   "name": "python3"
  },
  "language_info": {
   "codemirror_mode": {
    "name": "ipython",
    "version": 3
   },
   "file_extension": ".py",
   "mimetype": "text/x-python",
   "name": "python",
   "nbconvert_exporter": "python",
   "pygments_lexer": "ipython3",
   "version": "3.8.10"
  }
 },
 "nbformat": 4,
 "nbformat_minor": 5
}
