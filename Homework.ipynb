{
 "cells": [
  {
   "cell_type": "code",
   "execution_count": null,
   "id": "537f31a1",
   "metadata": {},
   "outputs": [],
   "source": [
    "The volume of a sphere with radius r is 4/3pir^3.what is the volume of a sphere with radius5?"
   ]
  },
  {
   "cell_type": "code",
   "execution_count": 1,
   "id": "d79f87b2",
   "metadata": {},
   "outputs": [],
   "source": [
    "r = 5"
   ]
  },
  {
   "cell_type": "code",
   "execution_count": 2,
   "id": "dfacc2bf",
   "metadata": {},
   "outputs": [],
   "source": [
    "pi = 3.14"
   ]
  },
  {
   "cell_type": "code",
   "execution_count": 17,
   "id": "9f750fe4",
   "metadata": {},
   "outputs": [],
   "source": [
    "V = 4/3* pi* r**3"
   ]
  },
  {
   "cell_type": "code",
   "execution_count": 18,
   "id": "85d1161e",
   "metadata": {},
   "outputs": [
    {
     "ename": "SyntaxError",
     "evalue": "invalid syntax (1960813180.py, line 1)",
     "output_type": "error",
     "traceback": [
      "\u001b[0;36m  Input \u001b[0;32mIn [18]\u001b[0;36m\u001b[0m\n\u001b[0;31m    print(\"The value of sphere is:,\" v)\u001b[0m\n\u001b[0m                                     ^\u001b[0m\n\u001b[0;31mSyntaxError\u001b[0m\u001b[0;31m:\u001b[0m invalid syntax\n"
     ]
    }
   ],
   "source": [
    "print(\"The value of sphere is:,\" v)"
   ]
  },
  {
   "cell_type": "code",
   "execution_count": null,
   "id": "dd099346",
   "metadata": {},
   "outputs": [],
   "source": []
  },
  {
   "cell_type": "code",
   "execution_count": null,
   "id": "e2051456",
   "metadata": {},
   "outputs": [],
   "source": []
  }
 ],
 "metadata": {
  "kernelspec": {
   "display_name": "Python 3 (ipykernel)",
   "language": "python",
   "name": "python3"
  },
  "language_info": {
   "codemirror_mode": {
    "name": "ipython",
    "version": 3
   },
   "file_extension": ".py",
   "mimetype": "text/x-python",
   "name": "python",
   "nbconvert_exporter": "python",
   "pygments_lexer": "ipython3",
   "version": "3.8.10"
  }
 },
 "nbformat": 4,
 "nbformat_minor": 5
}
