{
 "cells": [
  {
   "cell_type": "code",
   "execution_count": 10,
   "id": "ce2c2a74",
   "metadata": {},
   "outputs": [],
   "source": [
    "time_in_sec = 42 * 60 + 42"
   ]
  },
  {
   "cell_type": "code",
   "execution_count": 11,
   "id": "0e0e294f",
   "metadata": {},
   "outputs": [],
   "source": [
    "time_in_min = 42 + 42/60"
   ]
  },
  {
   "cell_type": "code",
   "execution_count": 12,
   "id": "2fd8a15d",
   "metadata": {},
   "outputs": [
    {
     "ename": "SyntaxError",
     "evalue": "invalid syntax (4170467162.py, line 1)",
     "output_type": "error",
     "traceback": [
      "\u001b[0;36m  Input \u001b[0;32mIn [12]\u001b[0;36m\u001b[0m\n\u001b[0;31m    distance_travelled_10_kmin_miles 10/1.609\u001b[0m\n\u001b[0m                                     ^\u001b[0m\n\u001b[0;31mSyntaxError\u001b[0m\u001b[0;31m:\u001b[0m invalid syntax\n"
     ]
    }
   ],
   "source": [
    "distance_travelled_10_kmin_miles 10/1.609"
   ]
  },
  {
   "cell_type": "code",
   "execution_count": 15,
   "id": "af4309f3",
   "metadata": {},
   "outputs": [
    {
     "ename": "NameError",
     "evalue": "name 'distance_travelled_10_kmin_miles' is not defined",
     "output_type": "error",
     "traceback": [
      "\u001b[0;31m---------------------------------------------------------------------------\u001b[0m",
      "\u001b[0;31mNameError\u001b[0m                                 Traceback (most recent call last)",
      "Input \u001b[0;32mIn [15]\u001b[0m, in \u001b[0;36m<cell line: 1>\u001b[0;34m()\u001b[0m\n\u001b[0;32m----> 1\u001b[0m \u001b[43mdistance_travelled_10_kmin_miles\u001b[49m\n",
      "\u001b[0;31mNameError\u001b[0m: name 'distance_travelled_10_kmin_miles' is not defined"
     ]
    }
   ],
   "source": [
    "distance_travelled_10_kmin_miles"
   ]
  },
  {
   "cell_type": "code",
   "execution_count": null,
   "id": "7db172c9",
   "metadata": {},
   "outputs": [],
   "source": []
  },
  {
   "cell_type": "code",
   "execution_count": null,
   "id": "aecb81f0",
   "metadata": {},
   "outputs": [],
   "source": []
  },
  {
   "cell_type": "code",
   "execution_count": 2,
   "id": "18f4b032",
   "metadata": {},
   "outputs": [],
   "source": [
    "PI = 22/7"
   ]
  },
  {
   "cell_type": "code",
   "execution_count": 5,
   "id": "24e55a98",
   "metadata": {},
   "outputs": [],
   "source": [
    "r = 5"
   ]
  },
  {
   "cell_type": "code",
   "execution_count": 8,
   "id": "678d8166",
   "metadata": {},
   "outputs": [],
   "source": [
    "volume = 4/3 * PI * r**3"
   ]
  },
  {
   "cell_type": "code",
   "execution_count": 9,
   "id": "09a8362d",
   "metadata": {},
   "outputs": [
    {
     "data": {
      "text/plain": [
       "523.8095238095237"
      ]
     },
     "execution_count": 9,
     "metadata": {},
     "output_type": "execute_result"
    }
   ],
   "source": [
    "volume"
   ]
  },
  {
   "cell_type": "code",
   "execution_count": null,
   "id": "b7576e07",
   "metadata": {},
   "outputs": [],
   "source": []
  },
  {
   "cell_type": "code",
   "execution_count": 13,
   "id": "c28651fd",
   "metadata": {},
   "outputs": [],
   "source": [
    "port_adress = 9001"
   ]
  },
  {
   "cell_type": "code",
   "execution_count": 14,
   "id": "98c68f3b",
   "metadata": {},
   "outputs": [
    {
     "name": "stdout",
     "output_type": "stream",
     "text": [
      "<class 'int'>\n"
     ]
    }
   ],
   "source": [
    "print(type (port_adress))"
   ]
  },
  {
   "cell_type": "code",
   "execution_count": null,
   "id": "34adb397",
   "metadata": {},
   "outputs": [],
   "source": []
  }
 ],
 "metadata": {
  "kernelspec": {
   "display_name": "Python 3 (ipykernel)",
   "language": "python",
   "name": "python3"
  },
  "language_info": {
   "codemirror_mode": {
    "name": "ipython",
    "version": 3
   },
   "file_extension": ".py",
   "mimetype": "text/x-python",
   "name": "python",
   "nbconvert_exporter": "python",
   "pygments_lexer": "ipython3",
   "version": "3.8.10"
  }
 },
 "nbformat": 4,
 "nbformat_minor": 5
}
