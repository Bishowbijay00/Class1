{
 "cells": [
  {
   "cell_type": "markdown",
   "id": "2d92474e",
   "metadata": {},
   "source": [
    "#Write a program to check whether a person is eligible for voting or not.(accept age from user)"
   ]
  },
  {
   "cell_type": "code",
   "execution_count": 2,
   "id": "7c66d065",
   "metadata": {},
   "outputs": [
    {
     "name": "stdout",
     "output_type": "stream",
     "text": [
      "Enter your age:18\n",
      "You are not eligible to vote:\n"
     ]
    }
   ],
   "source": [
    "age = int(input(\"Enter your age:\"))\n",
    "\n",
    "if age > 18:\n",
    "    print(\"You are eligible to vote:\")\n",
    "else:\n",
    "        print(\"You are not eligible to vote:\")"
   ]
  },
  {
   "cell_type": "code",
   "execution_count": 4,
   "id": "ff90987a",
   "metadata": {},
   "outputs": [
    {
     "name": "stdout",
     "output_type": "stream",
     "text": [
      "Enter your age:19\n",
      "you are eligible for vote\n"
     ]
    }
   ],
   "source": [
    "age = int(input('Enter your age:'))\n",
    "if age > 18:\n",
    "    print('you are eligible for vote')\n",
    "else:\n",
    "    print('you are not eligible for vote')"
   ]
  },
  {
   "cell_type": "code",
   "execution_count": null,
   "id": "0e0b7369",
   "metadata": {},
   "outputs": [],
   "source": []
  }
 ],
 "metadata": {
  "kernelspec": {
   "display_name": "Python 3 (ipykernel)",
   "language": "python",
   "name": "python3"
  },
  "language_info": {
   "codemirror_mode": {
    "name": "ipython",
    "version": 3
   },
   "file_extension": ".py",
   "mimetype": "text/x-python",
   "name": "python",
   "nbconvert_exporter": "python",
   "pygments_lexer": "ipython3",
   "version": "3.8.10"
  }
 },
 "nbformat": 4,
 "nbformat_minor": 5
}
