{
 "cells": [
  {
   "cell_type": "code",
   "execution_count": 2,
   "id": "42aa8fff",
   "metadata": {},
   "outputs": [
    {
     "data": {
      "text/plain": [
       "True"
      ]
     },
     "execution_count": 2,
     "metadata": {},
     "output_type": "execute_result"
    }
   ],
   "source": [
    "txt1 = 'hi'\n",
    "\n",
    "txt2 = \"hi\"\n",
    "\n",
    "txt1 == txt2"
   ]
  },
  {
   "cell_type": "code",
   "execution_count": 3,
   "id": "325331d6",
   "metadata": {},
   "outputs": [],
   "source": [
    "assert txt1 == txt2"
   ]
  },
  {
   "cell_type": "code",
   "execution_count": 4,
   "id": "12ad2c99",
   "metadata": {},
   "outputs": [
    {
     "ename": "SyntaxError",
     "evalue": "EOL while scanning string literal (4288302608.py, line 1)",
     "output_type": "error",
     "traceback": [
      "\u001b[0;36m  Input \u001b[0;32mIn [4]\u001b[0;36m\u001b[0m\n\u001b[0;31m    txt = \"my name is\u001b[0m\n\u001b[0m                     ^\u001b[0m\n\u001b[0;31mSyntaxError\u001b[0m\u001b[0;31m:\u001b[0m EOL while scanning string literal\n"
     ]
    }
   ],
   "source": [
    "txt = \"my name is\n",
    "his name is\n",
    "we live in kathmandu\""
   ]
  },
  {
   "cell_type": "code",
   "execution_count": 5,
   "id": "fb43a03a",
   "metadata": {},
   "outputs": [
    {
     "data": {
      "text/plain": [
       "'my name is\\nhis name is\\nwe live in kathmandu'"
      ]
     },
     "execution_count": 5,
     "metadata": {},
     "output_type": "execute_result"
    }
   ],
   "source": [
    "txt = \"\"\"my name is\n",
    "his name is\n",
    "we live in kathmandu\"\"\"\n",
    "txt"
   ]
  },
  {
   "cell_type": "code",
   "execution_count": 6,
   "id": "63b2b615",
   "metadata": {},
   "outputs": [
    {
     "data": {
      "text/plain": [
       "str"
      ]
     },
     "execution_count": 6,
     "metadata": {},
     "output_type": "execute_result"
    }
   ],
   "source": [
    "type(txt)"
   ]
  },
  {
   "cell_type": "code",
   "execution_count": null,
   "id": "ce4c9f0a",
   "metadata": {},
   "outputs": [],
   "source": []
  }
 ],
 "metadata": {
  "kernelspec": {
   "display_name": "Python 3 (ipykernel)",
   "language": "python",
   "name": "python3"
  },
  "language_info": {
   "codemirror_mode": {
    "name": "ipython",
    "version": 3
   },
   "file_extension": ".py",
   "mimetype": "text/x-python",
   "name": "python",
   "nbconvert_exporter": "python",
   "pygments_lexer": "ipython3",
   "version": "3.8.10"
  }
 },
 "nbformat": 4,
 "nbformat_minor": 5
}
