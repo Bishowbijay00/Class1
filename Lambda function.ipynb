{
 "cells": [
  {
   "cell_type": "code",
   "execution_count": 2,
   "id": "a56e8397",
   "metadata": {},
   "outputs": [],
   "source": [
    "square_of_num = lambda x: x**2\n"
   ]
  },
  {
   "cell_type": "code",
   "execution_count": 3,
   "id": "9e802e55",
   "metadata": {},
   "outputs": [
    {
     "data": {
      "text/plain": [
       "25"
      ]
     },
     "execution_count": 3,
     "metadata": {},
     "output_type": "execute_result"
    }
   ],
   "source": [
    "square_of_num(5)"
   ]
  },
  {
   "cell_type": "code",
   "execution_count": 4,
   "id": "313b2089",
   "metadata": {},
   "outputs": [],
   "source": [
    "def sqaure_of_no(x):\n",
    "    return x ** 2"
   ]
  },
  {
   "cell_type": "code",
   "execution_count": 5,
   "id": "874c5bab",
   "metadata": {},
   "outputs": [
    {
     "data": {
      "text/plain": [
       "25"
      ]
     },
     "execution_count": 5,
     "metadata": {},
     "output_type": "execute_result"
    }
   ],
   "source": [
    "square_of_num(5)"
   ]
  },
  {
   "cell_type": "code",
   "execution_count": 6,
   "id": "5c0449b6",
   "metadata": {},
   "outputs": [],
   "source": [
    "# lambda: filter, map sanga use hunxha esko barema padera aauney"
   ]
  },
  {
   "cell_type": "code",
   "execution_count": 7,
   "id": "28f23cd6",
   "metadata": {},
   "outputs": [],
   "source": [
    "list1 = [[1,2,3,4],[3,4],[6,7,8,9],[5,5,5]]"
   ]
  },
  {
   "cell_type": "code",
   "execution_count": 8,
   "id": "92e1c63c",
   "metadata": {},
   "outputs": [
    {
     "data": {
      "text/plain": [
       "[1, 2, 3, 4]"
      ]
     },
     "execution_count": 8,
     "metadata": {},
     "output_type": "execute_result"
    }
   ],
   "source": [
    "list1[0]"
   ]
  },
  {
   "cell_type": "code",
   "execution_count": 10,
   "id": "86185608",
   "metadata": {},
   "outputs": [
    {
     "name": "stdout",
     "output_type": "stream",
     "text": [
      "------\n",
      "i = 0\n",
      "------\n",
      "j = 0\n",
      "j = 1\n",
      "j = 2\n",
      "j = 3\n",
      "j = 4\n",
      "------\n",
      "i = 1\n",
      "------\n",
      "j = 0\n",
      "j = 1\n",
      "j = 2\n",
      "j = 3\n",
      "j = 4\n",
      "------\n",
      "i = 2\n",
      "------\n",
      "j = 0\n",
      "j = 1\n",
      "j = 2\n",
      "j = 3\n",
      "j = 4\n"
     ]
    }
   ],
   "source": [
    "for i in range(3):\n",
    "    print('------')\n",
    "    print('i = {}'.format(i))\n",
    "    print('------')\n",
    "    for j in range(5):\n",
    "        print('j = {}'.format(j))"
   ]
  },
  {
   "cell_type": "code",
   "execution_count": 15,
   "id": "cbc25164",
   "metadata": {},
   "outputs": [
    {
     "name": "stdout",
     "output_type": "stream",
     "text": [
      "[1, 2, 3, 4]\n",
      "[3, 4]\n",
      "[6, 7, 8, 9]\n",
      "[5, 5, 5]\n"
     ]
    }
   ],
   "source": [
    "list1 = [[1,2,3,4],[3,4],[6,7,8,9],[5,5,5]]\n",
    "all_total = []\n",
    "for i in list1:\n",
    "    total = 0\n",
    "    print(i)\n",
    "    for j in i:\n",
    "        total = total + j\n",
    "        all_total.append(total)"
   ]
  },
  {
   "cell_type": "code",
   "execution_count": 16,
   "id": "676acde4",
   "metadata": {},
   "outputs": [
    {
     "data": {
      "text/plain": [
       "[1, 3, 6, 10, 3, 7, 6, 13, 21, 30, 5, 10, 15]"
      ]
     },
     "execution_count": 16,
     "metadata": {},
     "output_type": "execute_result"
    }
   ],
   "source": [
    "all_total"
   ]
  },
  {
   "cell_type": "code",
   "execution_count": null,
   "id": "fb38361e",
   "metadata": {},
   "outputs": [],
   "source": []
  }
 ],
 "metadata": {
  "kernelspec": {
   "display_name": "Python 3 (ipykernel)",
   "language": "python",
   "name": "python3"
  },
  "language_info": {
   "codemirror_mode": {
    "name": "ipython",
    "version": 3
   },
   "file_extension": ".py",
   "mimetype": "text/x-python",
   "name": "python",
   "nbconvert_exporter": "python",
   "pygments_lexer": "ipython3",
   "version": "3.8.10"
  }
 },
 "nbformat": 4,
 "nbformat_minor": 5
}
