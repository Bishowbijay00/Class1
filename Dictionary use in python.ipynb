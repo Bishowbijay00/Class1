{
 "cells": [
  {
   "cell_type": "markdown",
   "id": "f9de09ec",
   "metadata": {},
   "source": [
    "```python\n",
    "\n",
    "{\n",
    "    key.value\n",
    "}\n",
    "\n",
    "```"
   ]
  },
  {
   "cell_type": "code",
   "execution_count": 7,
   "id": "32beedf2",
   "metadata": {},
   "outputs": [],
   "source": [
    "det={\n",
    "    'name':'Bishow',\n",
    "    'age':18\n",
    "}"
   ]
  },
  {
   "cell_type": "code",
   "execution_count": 8,
   "id": "b6fe1132",
   "metadata": {},
   "outputs": [
    {
     "data": {
      "text/plain": [
       "{'name': 'Bishow', 'age': 18}"
      ]
     },
     "execution_count": 8,
     "metadata": {},
     "output_type": "execute_result"
    }
   ],
   "source": [
    "det"
   ]
  },
  {
   "cell_type": "code",
   "execution_count": 9,
   "id": "23dcfa82",
   "metadata": {},
   "outputs": [
    {
     "data": {
      "text/plain": [
       "dict"
      ]
     },
     "execution_count": 9,
     "metadata": {},
     "output_type": "execute_result"
    }
   ],
   "source": [
    "type(det)"
   ]
  },
  {
   "cell_type": "code",
   "execution_count": 10,
   "id": "b7e2da2b",
   "metadata": {},
   "outputs": [],
   "source": [
    "a ={}"
   ]
  },
  {
   "cell_type": "code",
   "execution_count": 11,
   "id": "d12bcf4b",
   "metadata": {},
   "outputs": [
    {
     "data": {
      "text/plain": [
       "dict"
      ]
     },
     "execution_count": 11,
     "metadata": {},
     "output_type": "execute_result"
    }
   ],
   "source": [
    "type(a)"
   ]
  },
  {
   "cell_type": "code",
   "execution_count": 12,
   "id": "f8e94210",
   "metadata": {},
   "outputs": [],
   "source": [
    "a = dict()"
   ]
  },
  {
   "cell_type": "code",
   "execution_count": 13,
   "id": "768e8e34",
   "metadata": {},
   "outputs": [
    {
     "data": {
      "text/plain": [
       "dict"
      ]
     },
     "execution_count": 13,
     "metadata": {},
     "output_type": "execute_result"
    }
   ],
   "source": [
    "type(a)"
   ]
  },
  {
   "cell_type": "code",
   "execution_count": 14,
   "id": "847797a9",
   "metadata": {},
   "outputs": [
    {
     "data": {
      "text/plain": [
       "{1: 'one'}"
      ]
     },
     "execution_count": 14,
     "metadata": {},
     "output_type": "execute_result"
    }
   ],
   "source": [
    "{1:'one'}"
   ]
  },
  {
   "cell_type": "code",
   "execution_count": 18,
   "id": "4698ee25",
   "metadata": {},
   "outputs": [
    {
     "ename": "SyntaxError",
     "evalue": "invalid syntax (2430123015.py, line 1)",
     "output_type": "error",
     "traceback": [
      "\u001b[0;36m  Input \u001b[0;32mIn [18]\u001b[0;36m\u001b[0m\n\u001b[0;31m    {1:2'one 0 two'}\u001b[0m\n\u001b[0m        ^\u001b[0m\n\u001b[0;31mSyntaxError\u001b[0m\u001b[0;31m:\u001b[0m invalid syntax\n"
     ]
    }
   ],
   "source": [
    "{1:2'one  two'}"
   ]
  },
  {
   "cell_type": "markdown",
   "id": "dad84361",
   "metadata": {},
   "source": [
    "# Accessing values in dictionary"
   ]
  },
  {
   "cell_type": "code",
   "execution_count": 60,
   "id": "508de02b",
   "metadata": {},
   "outputs": [],
   "source": [
    "det={\n",
    "    'name':'Bishow',\n",
    "    'age':18,\n",
    "    'movies':['KGF','PUSPHA','RRR']\n",
    "}"
   ]
  },
  {
   "cell_type": "code",
   "execution_count": 61,
   "id": "6b24e21d",
   "metadata": {},
   "outputs": [
    {
     "data": {
      "text/plain": [
       "{'name': 'Bishow', 'age': 18, 'movies': ['KGF', 'PUSPHA', 'RRR']}"
      ]
     },
     "execution_count": 61,
     "metadata": {},
     "output_type": "execute_result"
    }
   ],
   "source": [
    "det"
   ]
  },
  {
   "cell_type": "code",
   "execution_count": 62,
   "id": "eb82dffd",
   "metadata": {},
   "outputs": [
    {
     "data": {
      "text/plain": [
       "'Bishow'"
      ]
     },
     "execution_count": 62,
     "metadata": {},
     "output_type": "execute_result"
    }
   ],
   "source": [
    "det['name']"
   ]
  },
  {
   "cell_type": "code",
   "execution_count": 63,
   "id": "e2b7b4d6",
   "metadata": {},
   "outputs": [
    {
     "data": {
      "text/plain": [
       "18"
      ]
     },
     "execution_count": 63,
     "metadata": {},
     "output_type": "execute_result"
    }
   ],
   "source": [
    "det['age']"
   ]
  },
  {
   "cell_type": "code",
   "execution_count": null,
   "id": "7e61cc2b",
   "metadata": {},
   "outputs": [],
   "source": []
  },
  {
   "cell_type": "code",
   "execution_count": 64,
   "id": "9cf0ea8a",
   "metadata": {},
   "outputs": [
    {
     "data": {
      "text/plain": [
       "'Bishow'"
      ]
     },
     "execution_count": 64,
     "metadata": {},
     "output_type": "execute_result"
    }
   ],
   "source": [
    "det.get('name')"
   ]
  },
  {
   "cell_type": "code",
   "execution_count": 65,
   "id": "2d1fc8e3",
   "metadata": {},
   "outputs": [
    {
     "data": {
      "text/plain": [
       "18"
      ]
     },
     "execution_count": 65,
     "metadata": {},
     "output_type": "execute_result"
    }
   ],
   "source": [
    "det.get('age')"
   ]
  },
  {
   "cell_type": "markdown",
   "id": "b8331303",
   "metadata": {},
   "source": [
    "# update values in dictionary"
   ]
  },
  {
   "cell_type": "code",
   "execution_count": 66,
   "id": "a9e4e8b5",
   "metadata": {},
   "outputs": [],
   "source": [
    "det={\n",
    "    'name':'Bishow',\n",
    "    'age':18,\n",
    "    'movies':['KGF','PUSPHA','RRR']\n",
    "}"
   ]
  },
  {
   "cell_type": "code",
   "execution_count": 67,
   "id": "eb1d76e0",
   "metadata": {},
   "outputs": [],
   "source": [
    "det.update({'gender':'m'})"
   ]
  },
  {
   "cell_type": "code",
   "execution_count": 68,
   "id": "354c1f1c",
   "metadata": {},
   "outputs": [
    {
     "data": {
      "text/plain": [
       "{'name': 'Bishow',\n",
       " 'age': 18,\n",
       " 'movies': ['KGF', 'PUSPHA', 'RRR'],\n",
       " 'gender': 'm'}"
      ]
     },
     "execution_count": 68,
     "metadata": {},
     "output_type": "execute_result"
    }
   ],
   "source": [
    "det"
   ]
  },
  {
   "cell_type": "code",
   "execution_count": 69,
   "id": "8d238c83",
   "metadata": {},
   "outputs": [],
   "source": [
    "det.update({'gender':'M'})"
   ]
  },
  {
   "cell_type": "code",
   "execution_count": 70,
   "id": "ad603363",
   "metadata": {},
   "outputs": [
    {
     "data": {
      "text/plain": [
       "{'name': 'Bishow',\n",
       " 'age': 18,\n",
       " 'movies': ['KGF', 'PUSPHA', 'RRR'],\n",
       " 'gender': 'M'}"
      ]
     },
     "execution_count": 70,
     "metadata": {},
     "output_type": "execute_result"
    }
   ],
   "source": [
    "det"
   ]
  },
  {
   "cell_type": "code",
   "execution_count": 71,
   "id": "db4d2f14",
   "metadata": {},
   "outputs": [],
   "source": [
    "det={\n",
    "    'name':'Bishow',\n",
    "    'age':18,\n",
    "    'movies':['KGF','PUSPHA','RRR']\n",
    "}"
   ]
  },
  {
   "cell_type": "code",
   "execution_count": 72,
   "id": "4580f0aa",
   "metadata": {},
   "outputs": [
    {
     "data": {
      "text/plain": [
       "dict_keys(['name', 'age', 'movies'])"
      ]
     },
     "execution_count": 72,
     "metadata": {},
     "output_type": "execute_result"
    }
   ],
   "source": [
    "det.keys()"
   ]
  },
  {
   "cell_type": "code",
   "execution_count": 73,
   "id": "3f4abe73",
   "metadata": {},
   "outputs": [
    {
     "data": {
      "text/plain": [
       "dict_values(['Bishow', 18, ['KGF', 'PUSPHA', 'RRR']])"
      ]
     },
     "execution_count": 73,
     "metadata": {},
     "output_type": "execute_result"
    }
   ],
   "source": [
    "det.values()"
   ]
  },
  {
   "cell_type": "code",
   "execution_count": 74,
   "id": "f02b518d",
   "metadata": {},
   "outputs": [
    {
     "data": {
      "text/plain": [
       "['name', 'age', 'movies']"
      ]
     },
     "execution_count": 74,
     "metadata": {},
     "output_type": "execute_result"
    }
   ],
   "source": [
    "list(det.keys())"
   ]
  },
  {
   "cell_type": "code",
   "execution_count": 75,
   "id": "3cc69dd0",
   "metadata": {},
   "outputs": [
    {
     "data": {
      "text/plain": [
       "('name', 'age', 'movies')"
      ]
     },
     "execution_count": 75,
     "metadata": {},
     "output_type": "execute_result"
    }
   ],
   "source": [
    "tuple(det.keys())"
   ]
  },
  {
   "cell_type": "markdown",
   "id": "331dbe5d",
   "metadata": {},
   "source": [
    "# lopping in dictionary"
   ]
  },
  {
   "cell_type": "code",
   "execution_count": 76,
   "id": "ea8887d7",
   "metadata": {},
   "outputs": [],
   "source": [
    "det={\n",
    "    'name':'Bishow',\n",
    "    'age':18,\n",
    "    'movies':['KGF','PUSPHA','RRR']\n",
    "}"
   ]
  },
  {
   "cell_type": "code",
   "execution_count": 77,
   "id": "99e9e84d",
   "metadata": {},
   "outputs": [
    {
     "name": "stdout",
     "output_type": "stream",
     "text": [
      "name\n",
      "age\n",
      "movies\n"
     ]
    }
   ],
   "source": [
    "for item in det:\n",
    "    print(item)"
   ]
  },
  {
   "cell_type": "code",
   "execution_count": 78,
   "id": "eefbbb0e",
   "metadata": {},
   "outputs": [
    {
     "data": {
      "text/plain": [
       "dict_items([('name', 'Bishow'), ('age', 18), ('movies', ['KGF', 'PUSPHA', 'RRR'])])"
      ]
     },
     "execution_count": 78,
     "metadata": {},
     "output_type": "execute_result"
    }
   ],
   "source": [
    "det.items()"
   ]
  },
  {
   "cell_type": "code",
   "execution_count": 79,
   "id": "4eab9e27",
   "metadata": {},
   "outputs": [],
   "source": [
    "a, b = (2,3)"
   ]
  },
  {
   "cell_type": "code",
   "execution_count": 58,
   "id": "b2406b73",
   "metadata": {},
   "outputs": [
    {
     "data": {
      "text/plain": [
       "2"
      ]
     },
     "execution_count": 58,
     "metadata": {},
     "output_type": "execute_result"
    }
   ],
   "source": [
    "a"
   ]
  },
  {
   "cell_type": "code",
   "execution_count": 59,
   "id": "6fe11607",
   "metadata": {},
   "outputs": [
    {
     "data": {
      "text/plain": [
       "3"
      ]
     },
     "execution_count": 59,
     "metadata": {},
     "output_type": "execute_result"
    }
   ],
   "source": [
    "b"
   ]
  },
  {
   "cell_type": "code",
   "execution_count": 80,
   "id": "9437ec33",
   "metadata": {},
   "outputs": [
    {
     "name": "stdout",
     "output_type": "stream",
     "text": [
      "key = name and value = Bishow\n",
      "key = age and value = 18\n",
      "key = movies and value = ['KGF', 'PUSPHA', 'RRR']\n"
     ]
    }
   ],
   "source": [
    "for key,val in det.items():\n",
    "    print('key = {} and value = {}'.format(key,val))"
   ]
  },
  {
   "cell_type": "markdown",
   "id": "ce7bdd31",
   "metadata": {},
   "source": [
    "# Nesting of dictionary"
   ]
  },
  {
   "cell_type": "code",
   "execution_count": 83,
   "id": "950d20f4",
   "metadata": {},
   "outputs": [],
   "source": [
    "andrew = {\n",
    "'child1': {'name':'john','year':2005,'gender':'Male'},\n",
    "'child2': {'name':'adam','year':2011},\n",
    "'child3': {'name':'tom','year':2012}\n",
    "}"
   ]
  },
  {
   "cell_type": "code",
   "execution_count": 84,
   "id": "bb5be1f1",
   "metadata": {},
   "outputs": [
    {
     "data": {
      "text/plain": [
       "{'name': 'adam', 'year': 2011}"
      ]
     },
     "execution_count": 84,
     "metadata": {},
     "output_type": "execute_result"
    }
   ],
   "source": [
    "andrew['child2']"
   ]
  },
  {
   "cell_type": "code",
   "execution_count": 85,
   "id": "a6d73554",
   "metadata": {},
   "outputs": [
    {
     "data": {
      "text/plain": [
       "'tom'"
      ]
     },
     "execution_count": 85,
     "metadata": {},
     "output_type": "execute_result"
    }
   ],
   "source": [
    "andrew['child3']['name']"
   ]
  },
  {
   "cell_type": "code",
   "execution_count": 86,
   "id": "247a944a",
   "metadata": {},
   "outputs": [
    {
     "data": {
      "text/plain": [
       "dict_keys(['name', 'year'])"
      ]
     },
     "execution_count": 86,
     "metadata": {},
     "output_type": "execute_result"
    }
   ],
   "source": [
    "andrew['child3'].keys()"
   ]
  },
  {
   "cell_type": "code",
   "execution_count": 87,
   "id": "1830cbca",
   "metadata": {},
   "outputs": [
    {
     "data": {
      "text/plain": [
       "'Male'"
      ]
     },
     "execution_count": 87,
     "metadata": {},
     "output_type": "execute_result"
    }
   ],
   "source": [
    "andrew['child1']['gender']"
   ]
  },
  {
   "cell_type": "code",
   "execution_count": null,
   "id": "0bb8a0be",
   "metadata": {},
   "outputs": [],
   "source": []
  }
 ],
 "metadata": {
  "kernelspec": {
   "display_name": "Python 3 (ipykernel)",
   "language": "python",
   "name": "python3"
  },
  "language_info": {
   "codemirror_mode": {
    "name": "ipython",
    "version": 3
   },
   "file_extension": ".py",
   "mimetype": "text/x-python",
   "name": "python",
   "nbconvert_exporter": "python",
   "pygments_lexer": "ipython3",
   "version": "3.8.10"
  }
 },
 "nbformat": 4,
 "nbformat_minor": 5
}
