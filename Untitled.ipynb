{
 "cells": [
  {
   "cell_type": "markdown",
   "id": "ccb2c834",
   "metadata": {},
   "source": [
    "#write a program to check if the user given input input is odd or even.if it is even print even else print odd. "
   ]
  },
  {
   "cell_type": "markdown",
   "id": "65f9bb48",
   "metadata": {},
   "source": [
    "*==is comparison operator;return true or false"
   ]
  },
  {
   "cell_type": "markdown",
   "id": "5604c16f",
   "metadata": {},
   "source": [
    "*=is assignment operator"
   ]
  },
  {
   "cell_type": "code",
   "execution_count": 2,
   "id": "f0f3d9ec",
   "metadata": {},
   "outputs": [
    {
     "data": {
      "text/plain": [
       "False"
      ]
     },
     "execution_count": 2,
     "metadata": {},
     "output_type": "execute_result"
    }
   ],
   "source": [
    "5%2 == 0"
   ]
  },
  {
   "cell_type": "code",
   "execution_count": 2,
   "id": "448aac36",
   "metadata": {},
   "outputs": [
    {
     "name": "stdout",
     "output_type": "stream",
     "text": [
      "Enter a number:4\n",
      "even\n"
     ]
    }
   ],
   "source": [
    "input_number = int(input(\"Enter a number:\"))\n",
    "if input_number % 2 == 0:\n",
    "        print(\"even\")\n",
    "else:\n",
    "    print(\"odd\")"
   ]
  },
  {
   "cell_type": "code",
   "execution_count": 6,
   "id": "6db2df9f",
   "metadata": {},
   "outputs": [
    {
     "name": "stdout",
     "output_type": "stream",
     "text": [
      "Enter a number:8\n",
      "Even\n"
     ]
    }
   ],
   "source": [
    "input_number = int(input('Enter a number:'))\n",
    "if input_number % 2 == 0:\n",
    "    print('Even')\n",
    "else:\n",
    "    print('Odd')"
   ]
  },
  {
   "cell_type": "code",
   "execution_count": null,
   "id": "1e09b372",
   "metadata": {},
   "outputs": [],
   "source": []
  }
 ],
 "metadata": {
  "kernelspec": {
   "display_name": "Python 3 (ipykernel)",
   "language": "python",
   "name": "python3"
  },
  "language_info": {
   "codemirror_mode": {
    "name": "ipython",
    "version": 3
   },
   "file_extension": ".py",
   "mimetype": "text/x-python",
   "name": "python",
   "nbconvert_exporter": "python",
   "pygments_lexer": "ipython3",
   "version": "3.8.10"
  },
  "vscode": {
   "interpreter": {
    "hash": "aee8b7b246df8f9039afb4144a1f6fd8d2ca17a180786b69acc140d282b71a49"
   }
  }
 },
 "nbformat": 4,
 "nbformat_minor": 5
}
