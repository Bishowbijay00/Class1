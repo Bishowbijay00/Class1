{
 "cells": [
  {
   "cell_type": "code",
   "execution_count": 1,
   "id": "95e1f573",
   "metadata": {},
   "outputs": [],
   "source": [
    "if 2 == 2:\n",
    "    pass"
   ]
  },
  {
   "cell_type": "code",
   "execution_count": 2,
   "id": "f6c0eba4",
   "metadata": {},
   "outputs": [],
   "source": [
    "for index in range(5):\n",
    "    pass"
   ]
  },
  {
   "cell_type": "code",
   "execution_count": 3,
   "id": "7ac273e2",
   "metadata": {},
   "outputs": [],
   "source": [
    "def test():\n",
    "    pass"
   ]
  },
  {
   "cell_type": "markdown",
   "id": "0c2c26fc",
   "metadata": {},
   "source": [
    "# Break , continue , pass in loops"
   ]
  },
  {
   "cell_type": "code",
   "execution_count": 4,
   "id": "49634efa",
   "metadata": {},
   "outputs": [],
   "source": [
    "fruits = ['apple','kiwi','mango','banana']"
   ]
  },
  {
   "cell_type": "code",
   "execution_count": 10,
   "id": "c351e74a",
   "metadata": {},
   "outputs": [
    {
     "name": "stdout",
     "output_type": "stream",
     "text": [
      "apple\n",
      "kiwi\n"
     ]
    }
   ],
   "source": [
    "for item in fruits:\n",
    "    if item == 'mango':\n",
    "        break\n",
    "        print(item)\n",
    "    else:\n",
    "        print(item)"
   ]
  },
  {
   "cell_type": "code",
   "execution_count": 12,
   "id": "6219a85e",
   "metadata": {},
   "outputs": [
    {
     "name": "stdout",
     "output_type": "stream",
     "text": [
      "apple\n",
      "kiwi\n",
      "banana\n"
     ]
    }
   ],
   "source": [
    "for item in fruits:\n",
    "    if item == 'mango':\n",
    "        continue\n",
    "        print(item)\n",
    "    else:\n",
    "        print(item)"
   ]
  },
  {
   "cell_type": "code",
   "execution_count": 13,
   "id": "f56fcfb4",
   "metadata": {},
   "outputs": [
    {
     "name": "stdout",
     "output_type": "stream",
     "text": [
      "apple\n",
      "kiwi\n",
      "mango\n",
      "banana\n"
     ]
    }
   ],
   "source": [
    "for item in fruits:\n",
    "    if item == 'mango':\n",
    "        pass\n",
    "        print(item)\n",
    "    else:\n",
    "        print(item)"
   ]
  },
  {
   "cell_type": "code",
   "execution_count": null,
   "id": "b41893e6",
   "metadata": {},
   "outputs": [],
   "source": []
  }
 ],
 "metadata": {
  "kernelspec": {
   "display_name": "Python 3 (ipykernel)",
   "language": "python",
   "name": "python3"
  },
  "language_info": {
   "codemirror_mode": {
    "name": "ipython",
    "version": 3
   },
   "file_extension": ".py",
   "mimetype": "text/x-python",
   "name": "python",
   "nbconvert_exporter": "python",
   "pygments_lexer": "ipython3",
   "version": "3.8.10"
  }
 },
 "nbformat": 4,
 "nbformat_minor": 5
}
