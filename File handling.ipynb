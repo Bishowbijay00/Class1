{
 "cells": [
  {
   "cell_type": "code",
   "execution_count": 1,
   "id": "6cd4dc34",
   "metadata": {},
   "outputs": [],
   "source": [
    "# Read text file in python"
   ]
  },
  {
   "cell_type": "code",
   "execution_count": 15,
   "id": "6fae7532",
   "metadata": {},
   "outputs": [],
   "source": [
    "f = open('file.txt','r')\n"
   ]
  },
  {
   "cell_type": "code",
   "execution_count": 18,
   "id": "626e88ba",
   "metadata": {},
   "outputs": [],
   "source": [
    "content = f.read()"
   ]
  },
  {
   "cell_type": "code",
   "execution_count": 19,
   "id": "ec3d6c24",
   "metadata": {},
   "outputs": [
    {
     "data": {
      "text/plain": [
       "'Ruling parties’ lawmakers say the upper house chairperson cannot hold the bill for long.\\n\\nhttps://kathmandupost.com/national\\nExperts say verbal abuse and threats hurled at women for dancing are nothing but an attempt to control women and their freedom.\\n\\nhttps://kathmandupost.com/national'"
      ]
     },
     "execution_count": 19,
     "metadata": {},
     "output_type": "execute_result"
    }
   ],
   "source": [
    "content"
   ]
  },
  {
   "cell_type": "code",
   "execution_count": 25,
   "id": "6555a670",
   "metadata": {},
   "outputs": [],
   "source": [
    "f = open('file.txt','r')\n",
    "content = f.readlines()\n",
    "f.close()"
   ]
  },
  {
   "cell_type": "code",
   "execution_count": 26,
   "id": "dd4cf282",
   "metadata": {},
   "outputs": [
    {
     "data": {
      "text/plain": [
       "['Ruling parties’ lawmakers say the upper house chairperson cannot hold the bill for long.\\n',\n",
       " '\\n',\n",
       " 'https://kathmandupost.com/national\\n',\n",
       " 'Experts say verbal abuse and threats hurled at women for dancing are nothing but an attempt to control women and their freedom.\\n',\n",
       " '\\n',\n",
       " 'https://kathmandupost.com/national']"
      ]
     },
     "execution_count": 26,
     "metadata": {},
     "output_type": "execute_result"
    }
   ],
   "source": [
    "content\n"
   ]
  },
  {
   "cell_type": "code",
   "execution_count": 27,
   "id": "b5426822",
   "metadata": {},
   "outputs": [],
   "source": [
    "with open('file.txt','r') as f :\n",
    "    content = f.readlines()"
   ]
  },
  {
   "cell_type": "code",
   "execution_count": 28,
   "id": "902fff0e",
   "metadata": {},
   "outputs": [
    {
     "data": {
      "text/plain": [
       "['Ruling parties’ lawmakers say the upper house chairperson cannot hold the bill for long.\\n',\n",
       " '\\n',\n",
       " 'https://kathmandupost.com/national\\n',\n",
       " 'Experts say verbal abuse and threats hurled at women for dancing are nothing but an attempt to control women and their freedom.\\n',\n",
       " '\\n',\n",
       " 'https://kathmandupost.com/national']"
      ]
     },
     "execution_count": 28,
     "metadata": {},
     "output_type": "execute_result"
    }
   ],
   "source": [
    "content"
   ]
  },
  {
   "cell_type": "code",
   "execution_count": 29,
   "id": "2989ff97",
   "metadata": {},
   "outputs": [],
   "source": [
    "# write in files"
   ]
  },
  {
   "cell_type": "code",
   "execution_count": 30,
   "id": "4a7014de",
   "metadata": {},
   "outputs": [],
   "source": [
    "with open('write.txt','w') as f:\n",
    "    f.write('This is first line\\n')"
   ]
  },
  {
   "cell_type": "code",
   "execution_count": 31,
   "id": "d5493317",
   "metadata": {},
   "outputs": [],
   "source": [
    "with open('write.txt','r') as f:\n",
    "    text = f.read()"
   ]
  },
  {
   "cell_type": "code",
   "execution_count": 32,
   "id": "436a918a",
   "metadata": {},
   "outputs": [
    {
     "data": {
      "text/plain": [
       "'This is first line\\n'"
      ]
     },
     "execution_count": 32,
     "metadata": {},
     "output_type": "execute_result"
    }
   ],
   "source": [
    "text"
   ]
  },
  {
   "cell_type": "code",
   "execution_count": 36,
   "id": "f5c0bc2f",
   "metadata": {},
   "outputs": [],
   "source": [
    "# write overwrite the file"
   ]
  },
  {
   "cell_type": "code",
   "execution_count": 37,
   "id": "d76219b3",
   "metadata": {},
   "outputs": [],
   "source": [
    "with open('write.txt','w') as f:\n",
    "    f.write('This is second line\\n')"
   ]
  },
  {
   "cell_type": "code",
   "execution_count": 38,
   "id": "b5d10cb6",
   "metadata": {},
   "outputs": [],
   "source": [
    "with open('write.txt','r') as f:\n",
    "    text = f.read()"
   ]
  },
  {
   "cell_type": "code",
   "execution_count": 39,
   "id": "d1bfbed9",
   "metadata": {},
   "outputs": [
    {
     "data": {
      "text/plain": [
       "'This is second line\\n'"
      ]
     },
     "execution_count": 39,
     "metadata": {},
     "output_type": "execute_result"
    }
   ],
   "source": [
    "text"
   ]
  },
  {
   "cell_type": "code",
   "execution_count": 40,
   "id": "0114d3c2",
   "metadata": {},
   "outputs": [],
   "source": [
    "# append mode in file handling"
   ]
  },
  {
   "cell_type": "code",
   "execution_count": 44,
   "id": "7fd1c24b",
   "metadata": {},
   "outputs": [],
   "source": [
    "with open('write.txt','a') as f:\n",
    "    f.write('This is appended text.')"
   ]
  },
  {
   "cell_type": "code",
   "execution_count": 45,
   "id": "f9bcfc21",
   "metadata": {},
   "outputs": [],
   "source": [
    "with open('write.txt','r') as f:\n",
    "    text = f.read()"
   ]
  },
  {
   "cell_type": "code",
   "execution_count": 46,
   "id": "c2a282d7",
   "metadata": {},
   "outputs": [
    {
     "data": {
      "text/plain": [
       "'This is appended text.This is appended text.'"
      ]
     },
     "execution_count": 46,
     "metadata": {},
     "output_type": "execute_result"
    }
   ],
   "source": [
    "text"
   ]
  },
  {
   "cell_type": "code",
   "execution_count": 52,
   "id": "afc691e5",
   "metadata": {},
   "outputs": [],
   "source": [
    "with open('newfile.txt','a') as f:\n",
    "    f.write('This is appended text.')"
   ]
  },
  {
   "cell_type": "code",
   "execution_count": 53,
   "id": "277c9a4a",
   "metadata": {},
   "outputs": [],
   "source": [
    "with open('newfile.txt','r') as f:\n",
    "    text = f.read()"
   ]
  },
  {
   "cell_type": "code",
   "execution_count": 54,
   "id": "cdfbdd53",
   "metadata": {},
   "outputs": [
    {
     "data": {
      "text/plain": [
       "'This is appended text.'"
      ]
     },
     "execution_count": 54,
     "metadata": {},
     "output_type": "execute_result"
    }
   ],
   "source": [
    "text"
   ]
  },
  {
   "cell_type": "markdown",
   "id": "046923fe",
   "metadata": {},
   "source": [
    "# remove file in python"
   ]
  },
  {
   "cell_type": "code",
   "execution_count": null,
   "id": "9b384872",
   "metadata": {},
   "outputs": [],
   "source": []
  },
  {
   "cell_type": "code",
   "execution_count": 55,
   "id": "719f151b",
   "metadata": {},
   "outputs": [],
   "source": [
    "import os"
   ]
  },
  {
   "cell_type": "code",
   "execution_count": 56,
   "id": "3f73b533",
   "metadata": {},
   "outputs": [
    {
     "data": {
      "text/plain": [
       "True"
      ]
     },
     "execution_count": 56,
     "metadata": {},
     "output_type": "execute_result"
    }
   ],
   "source": [
    "os.path.exists('newfile.txt')"
   ]
  },
  {
   "cell_type": "code",
   "execution_count": 61,
   "id": "be476f4b",
   "metadata": {},
   "outputs": [
    {
     "name": "stdout",
     "output_type": "stream",
     "text": [
      "file dont exist\n"
     ]
    }
   ],
   "source": [
    "if os.path.exists('newfile.txt'):\n",
    "    os.remove('newfile.txt')\n",
    "    print('file removed')\n",
    "else:\n",
    "    print('file dont exist')"
   ]
  },
  {
   "cell_type": "code",
   "execution_count": null,
   "id": "13125462",
   "metadata": {},
   "outputs": [],
   "source": []
  }
 ],
 "metadata": {
  "kernelspec": {
   "display_name": "Python 3 (ipykernel)",
   "language": "python",
   "name": "python3"
  },
  "language_info": {
   "codemirror_mode": {
    "name": "ipython",
    "version": 3
   },
   "file_extension": ".py",
   "mimetype": "text/x-python",
   "name": "python",
   "nbconvert_exporter": "python",
   "pygments_lexer": "ipython3",
   "version": "3.8.10"
  }
 },
 "nbformat": 4,
 "nbformat_minor": 5
}
