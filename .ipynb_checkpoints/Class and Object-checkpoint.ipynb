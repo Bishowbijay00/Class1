{
 "cells": [
  {
   "cell_type": "code",
   "execution_count": 1,
   "id": "cebe30e8",
   "metadata": {},
   "outputs": [],
   "source": [
    "class alpha:\n",
    "    pass"
   ]
  },
  {
   "cell_type": "code",
   "execution_count": 2,
   "id": "5be865f3",
   "metadata": {},
   "outputs": [],
   "source": [
    "obj = alpha()"
   ]
  },
  {
   "cell_type": "code",
   "execution_count": 3,
   "id": "5e9910b4",
   "metadata": {},
   "outputs": [
    {
     "data": {
      "text/plain": [
       "__main__.alpha"
      ]
     },
     "execution_count": 3,
     "metadata": {},
     "output_type": "execute_result"
    }
   ],
   "source": [
    "type(obj)"
   ]
  },
  {
   "cell_type": "code",
   "execution_count": 11,
   "id": "1268b2dc",
   "metadata": {},
   "outputs": [
    {
     "name": "stdout",
     "output_type": "stream",
     "text": [
      "<class '__main__.alpha'>\n"
     ]
    }
   ],
   "source": [
    "if __name__ == '__main__': # entry point of pyhton\n",
    "    obj = alpha()\n",
    "    print(type(obj))"
   ]
  },
  {
   "cell_type": "code",
   "execution_count": 12,
   "id": "e452d48b",
   "metadata": {},
   "outputs": [
    {
     "data": {
      "text/plain": [
       "'__main__'"
      ]
     },
     "execution_count": 12,
     "metadata": {},
     "output_type": "execute_result"
    }
   ],
   "source": [
    "__name__"
   ]
  },
  {
   "cell_type": "code",
   "execution_count": 14,
   "id": "eeb4ebdd",
   "metadata": {},
   "outputs": [],
   "source": [
    "class vechicle: \n",
    "    wheeler = 4 # class atribute"
   ]
  },
  {
   "cell_type": "code",
   "execution_count": 15,
   "id": "ce7d05af",
   "metadata": {},
   "outputs": [],
   "source": [
    "car = vechicle()"
   ]
  },
  {
   "cell_type": "code",
   "execution_count": 16,
   "id": "e1ae18b8",
   "metadata": {},
   "outputs": [
    {
     "data": {
      "text/plain": [
       "__main__.vechicle"
      ]
     },
     "execution_count": 16,
     "metadata": {},
     "output_type": "execute_result"
    }
   ],
   "source": [
    "type(car)"
   ]
  },
  {
   "cell_type": "code",
   "execution_count": 17,
   "id": "372ebbd1",
   "metadata": {},
   "outputs": [
    {
     "data": {
      "text/plain": [
       "4"
      ]
     },
     "execution_count": 17,
     "metadata": {},
     "output_type": "execute_result"
    }
   ],
   "source": [
    "car.wheeler"
   ]
  },
  {
   "cell_type": "code",
   "execution_count": 18,
   "id": "21860162",
   "metadata": {},
   "outputs": [],
   "source": [
    "bus = vechicle()"
   ]
  },
  {
   "cell_type": "code",
   "execution_count": 19,
   "id": "66d89b8d",
   "metadata": {},
   "outputs": [
    {
     "data": {
      "text/plain": [
       "4"
      ]
     },
     "execution_count": 19,
     "metadata": {},
     "output_type": "execute_result"
    }
   ],
   "source": [
    "bus.wheeler"
   ]
  },
  {
   "cell_type": "code",
   "execution_count": 21,
   "id": "08b0b555",
   "metadata": {},
   "outputs": [],
   "source": [
    "class vechicle: \n",
    "    wheeler = 4 # class atribute\n",
    "    \n",
    "    def __init__(self, no_seat):\n",
    "        print(type(self))\n",
    "        self.no_seat = no_seat # object atribute"
   ]
  },
  {
   "cell_type": "code",
   "execution_count": 22,
   "id": "070d6f8c",
   "metadata": {},
   "outputs": [
    {
     "name": "stdout",
     "output_type": "stream",
     "text": [
      "<class '__main__.vechicle'>\n"
     ]
    }
   ],
   "source": [
    "car = vechicle(6)"
   ]
  },
  {
   "cell_type": "code",
   "execution_count": 23,
   "id": "441092ad",
   "metadata": {},
   "outputs": [
    {
     "data": {
      "text/plain": [
       "4"
      ]
     },
     "execution_count": 23,
     "metadata": {},
     "output_type": "execute_result"
    }
   ],
   "source": [
    "car.wheeler"
   ]
  },
  {
   "cell_type": "code",
   "execution_count": 24,
   "id": "926b0429",
   "metadata": {},
   "outputs": [
    {
     "data": {
      "text/plain": [
       "6"
      ]
     },
     "execution_count": 24,
     "metadata": {},
     "output_type": "execute_result"
    }
   ],
   "source": [
    "car.no_seat"
   ]
  },
  {
   "cell_type": "code",
   "execution_count": 25,
   "id": "a54d0b7b",
   "metadata": {},
   "outputs": [
    {
     "name": "stdout",
     "output_type": "stream",
     "text": [
      "<class '__main__.vechicle'>\n"
     ]
    }
   ],
   "source": [
    "bus = vechicle(40)"
   ]
  },
  {
   "cell_type": "code",
   "execution_count": 26,
   "id": "eefddf84",
   "metadata": {},
   "outputs": [
    {
     "data": {
      "text/plain": [
       "4"
      ]
     },
     "execution_count": 26,
     "metadata": {},
     "output_type": "execute_result"
    }
   ],
   "source": [
    "bus.wheeler"
   ]
  },
  {
   "cell_type": "code",
   "execution_count": 27,
   "id": "73f5014e",
   "metadata": {},
   "outputs": [
    {
     "data": {
      "text/plain": [
       "40"
      ]
     },
     "execution_count": 27,
     "metadata": {},
     "output_type": "execute_result"
    }
   ],
   "source": [
    "bus.no_seat"
   ]
  },
  {
   "cell_type": "code",
   "execution_count": null,
   "id": "eb459902",
   "metadata": {},
   "outputs": [],
   "source": []
  }
 ],
 "metadata": {
  "kernelspec": {
   "display_name": "Python 3 (ipykernel)",
   "language": "python",
   "name": "python3"
  },
  "language_info": {
   "codemirror_mode": {
    "name": "ipython",
    "version": 3
   },
   "file_extension": ".py",
   "mimetype": "text/x-python",
   "name": "python",
   "nbconvert_exporter": "python",
   "pygments_lexer": "ipython3",
   "version": "3.8.10"
  }
 },
 "nbformat": 4,
 "nbformat_minor": 5
}
