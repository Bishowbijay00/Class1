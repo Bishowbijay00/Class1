{
 "cells": [
  {
   "cell_type": "code",
   "execution_count": 1,
   "id": "7c2d1a38",
   "metadata": {},
   "outputs": [],
   "source": [
    "def greet():\n",
    "    print('Hello, World!')"
   ]
  },
  {
   "cell_type": "code",
   "execution_count": 2,
   "id": "fbd84d76",
   "metadata": {},
   "outputs": [
    {
     "name": "stdout",
     "output_type": "stream",
     "text": [
      "Hello, World!\n"
     ]
    }
   ],
   "source": [
    "greet()"
   ]
  },
  {
   "cell_type": "code",
   "execution_count": 5,
   "id": "1ea22331",
   "metadata": {},
   "outputs": [],
   "source": [
    "def add():\n",
    "    a = 2\n",
    "    b = 3\n",
    "    c = a + b\n",
    "    print(c)"
   ]
  },
  {
   "cell_type": "code",
   "execution_count": 6,
   "id": "e054ff03",
   "metadata": {},
   "outputs": [
    {
     "name": "stdout",
     "output_type": "stream",
     "text": [
      "5\n"
     ]
    }
   ],
   "source": [
    "add()"
   ]
  },
  {
   "cell_type": "code",
   "execution_count": 7,
   "id": "0afce4bb",
   "metadata": {},
   "outputs": [],
   "source": [
    "def add(a,b): # a , b are parameters or arguments\n",
    "    c = a + b\n",
    "    print(c)"
   ]
  },
  {
   "cell_type": "code",
   "execution_count": 8,
   "id": "89a7f998",
   "metadata": {},
   "outputs": [
    {
     "name": "stdout",
     "output_type": "stream",
     "text": [
      "55\n"
     ]
    }
   ],
   "source": [
    "add(33,22)"
   ]
  },
  {
   "cell_type": "code",
   "execution_count": 9,
   "id": "6530b3a2",
   "metadata": {},
   "outputs": [
    {
     "name": "stdout",
     "output_type": "stream",
     "text": [
      "11\n"
     ]
    }
   ],
   "source": [
    "add(-22,33)"
   ]
  },
  {
   "cell_type": "code",
   "execution_count": null,
   "id": "1bcbe975",
   "metadata": {},
   "outputs": [],
   "source": []
  },
  {
   "cell_type": "code",
   "execution_count": 12,
   "id": "52595c62",
   "metadata": {},
   "outputs": [],
   "source": [
    "def add(a,b,c):\n",
    "    '''\n",
    "     arguments:\n",
    "       a : int\n",
    "           first number\n",
    "       b : int\n",
    "           second number\n",
    "       c : int\n",
    "           third number\n",
    "        output :\n",
    "         d : int\n",
    "             a + b + c\n",
    "    '''\n",
    "    d = a + b + c\n",
    "    print(d)"
   ]
  },
  {
   "cell_type": "code",
   "execution_count": 13,
   "id": "a40b3bb4",
   "metadata": {},
   "outputs": [
    {
     "name": "stdout",
     "output_type": "stream",
     "text": [
      "110\n"
     ]
    }
   ],
   "source": [
    "add(22,33,55)"
   ]
  },
  {
   "cell_type": "code",
   "execution_count": 18,
   "id": "7a9972dc",
   "metadata": {},
   "outputs": [],
   "source": [
    "def add(a,b):\n",
    "    print(a)\n",
    "    print(b)\n",
    "    c = a + b\n",
    "    print(c)"
   ]
  },
  {
   "cell_type": "code",
   "execution_count": 19,
   "id": "809cc051",
   "metadata": {},
   "outputs": [
    {
     "name": "stdout",
     "output_type": "stream",
     "text": [
      "2\n",
      "3\n",
      "5\n"
     ]
    }
   ],
   "source": [
    "add(2,3)"
   ]
  },
  {
   "cell_type": "code",
   "execution_count": 20,
   "id": "6690596b",
   "metadata": {},
   "outputs": [],
   "source": [
    "x = 22\n",
    "y = 44"
   ]
  },
  {
   "cell_type": "code",
   "execution_count": 21,
   "id": "6b1a43d1",
   "metadata": {},
   "outputs": [
    {
     "name": "stdout",
     "output_type": "stream",
     "text": [
      "22\n",
      "44\n",
      "66\n"
     ]
    }
   ],
   "source": [
    "add(x,y)"
   ]
  },
  {
   "cell_type": "code",
   "execution_count": 22,
   "id": "1e3f50fb",
   "metadata": {},
   "outputs": [],
   "source": [
    "def add(a,b):\n",
    "    print(a)\n",
    "   # print(b)\n",
    "    c = a + b\n",
    "   # print(c)"
   ]
  },
  {
   "cell_type": "code",
   "execution_count": 23,
   "id": "d2f9f279",
   "metadata": {},
   "outputs": [],
   "source": [
    "x = 99\n",
    "y = 88"
   ]
  },
  {
   "cell_type": "code",
   "execution_count": 24,
   "id": "4ba4f0eb",
   "metadata": {},
   "outputs": [
    {
     "name": "stdout",
     "output_type": "stream",
     "text": [
      "99\n"
     ]
    }
   ],
   "source": [
    "add(x,y)"
   ]
  },
  {
   "cell_type": "code",
   "execution_count": 26,
   "id": "c527f85c",
   "metadata": {},
   "outputs": [
    {
     "name": "stdout",
     "output_type": "stream",
     "text": [
      "88\n"
     ]
    }
   ],
   "source": [
    "add(y,x)"
   ]
  },
  {
   "cell_type": "code",
   "execution_count": 27,
   "id": "9e8b050c",
   "metadata": {},
   "outputs": [
    {
     "name": "stdout",
     "output_type": "stream",
     "text": [
      "99\n"
     ]
    }
   ],
   "source": [
    "add(b = y, a = x)"
   ]
  },
  {
   "cell_type": "code",
   "execution_count": 40,
   "id": "ee2b69eb",
   "metadata": {},
   "outputs": [],
   "source": [
    "def power(a, b):\n",
    "    c = a ** b\n",
    "    return(c)"
   ]
  },
  {
   "cell_type": "code",
   "execution_count": 41,
   "id": "87937e26",
   "metadata": {},
   "outputs": [
    {
     "data": {
      "text/plain": [
       "8"
      ]
     },
     "execution_count": 41,
     "metadata": {},
     "output_type": "execute_result"
    }
   ],
   "source": [
    "power(2,3)"
   ]
  },
  {
   "cell_type": "code",
   "execution_count": 42,
   "id": "2ecca93f",
   "metadata": {},
   "outputs": [],
   "source": [
    "z = 7"
   ]
  },
  {
   "cell_type": "code",
   "execution_count": 43,
   "id": "bb8e3bb6",
   "metadata": {},
   "outputs": [
    {
     "data": {
      "text/plain": [
       "9"
      ]
     },
     "execution_count": 43,
     "metadata": {},
     "output_type": "execute_result"
    }
   ],
   "source": [
    "power(3,2)"
   ]
  },
  {
   "cell_type": "code",
   "execution_count": 44,
   "id": "1db2ad3e",
   "metadata": {},
   "outputs": [],
   "source": [
    "threesq = power(3,2)"
   ]
  },
  {
   "cell_type": "code",
   "execution_count": 45,
   "id": "d2ace936",
   "metadata": {},
   "outputs": [
    {
     "data": {
      "text/plain": [
       "9"
      ]
     },
     "execution_count": 45,
     "metadata": {},
     "output_type": "execute_result"
    }
   ],
   "source": [
    "threesq"
   ]
  },
  {
   "cell_type": "code",
   "execution_count": 46,
   "id": "ac867638",
   "metadata": {},
   "outputs": [],
   "source": [
    "total = threesq + z"
   ]
  },
  {
   "cell_type": "code",
   "execution_count": 47,
   "id": "70c73f23",
   "metadata": {},
   "outputs": [
    {
     "data": {
      "text/plain": [
       "16"
      ]
     },
     "execution_count": 47,
     "metadata": {},
     "output_type": "execute_result"
    }
   ],
   "source": [
    "total"
   ]
  },
  {
   "cell_type": "code",
   "execution_count": 55,
   "id": "0dcc1d08",
   "metadata": {},
   "outputs": [],
   "source": [
    "def floordiv(a,b):\n",
    "    c = a//b\n",
    "    return(c)"
   ]
  },
  {
   "cell_type": "code",
   "execution_count": 56,
   "id": "18fffaf8",
   "metadata": {},
   "outputs": [
    {
     "data": {
      "text/plain": [
       "3"
      ]
     },
     "execution_count": 56,
     "metadata": {},
     "output_type": "execute_result"
    }
   ],
   "source": [
    "floordiv(22,7)"
   ]
  },
  {
   "cell_type": "code",
   "execution_count": 57,
   "id": "eb68eac1",
   "metadata": {},
   "outputs": [],
   "source": [
    "z = 5"
   ]
  },
  {
   "cell_type": "code",
   "execution_count": 58,
   "id": "08d7026a",
   "metadata": {},
   "outputs": [],
   "source": [
    "fd = floordiv(22,7)"
   ]
  },
  {
   "cell_type": "code",
   "execution_count": 59,
   "id": "b002cea8",
   "metadata": {},
   "outputs": [
    {
     "data": {
      "text/plain": [
       "3"
      ]
     },
     "execution_count": 59,
     "metadata": {},
     "output_type": "execute_result"
    }
   ],
   "source": [
    "fd"
   ]
  },
  {
   "cell_type": "code",
   "execution_count": 60,
   "id": "1029c6d6",
   "metadata": {},
   "outputs": [],
   "source": [
    "total = fd + z"
   ]
  },
  {
   "cell_type": "code",
   "execution_count": 61,
   "id": "bd19d193",
   "metadata": {},
   "outputs": [
    {
     "data": {
      "text/plain": [
       "8"
      ]
     },
     "execution_count": 61,
     "metadata": {},
     "output_type": "execute_result"
    }
   ],
   "source": [
    "total"
   ]
  },
  {
   "cell_type": "markdown",
   "id": "c618e218",
   "metadata": {},
   "source": [
    "# default argument in python function"
   ]
  },
  {
   "cell_type": "code",
   "execution_count": 70,
   "id": "37acba28",
   "metadata": {},
   "outputs": [],
   "source": [
    "def greet(name, msg):\n",
    "    print('{} {}' .format(msg, name))"
   ]
  },
  {
   "cell_type": "code",
   "execution_count": 72,
   "id": "bd5c3e49",
   "metadata": {},
   "outputs": [
    {
     "name": "stdout",
     "output_type": "stream",
     "text": [
      "Good Morning Bishow\n"
     ]
    }
   ],
   "source": [
    "greet('Bishow','Good Morning')"
   ]
  },
  {
   "cell_type": "code",
   "execution_count": 73,
   "id": "7e481efb",
   "metadata": {},
   "outputs": [
    {
     "ename": "TypeError",
     "evalue": "greet() missing 1 required positional argument: 'msg'",
     "output_type": "error",
     "traceback": [
      "\u001b[0;31m---------------------------------------------------------------------------\u001b[0m",
      "\u001b[0;31mTypeError\u001b[0m                                 Traceback (most recent call last)",
      "Input \u001b[0;32mIn [73]\u001b[0m, in \u001b[0;36m<cell line: 1>\u001b[0;34m()\u001b[0m\n\u001b[0;32m----> 1\u001b[0m \u001b[43mgreet\u001b[49m\u001b[43m(\u001b[49m\u001b[38;5;124;43m'\u001b[39;49m\u001b[38;5;124;43mHarry\u001b[39;49m\u001b[38;5;124;43m'\u001b[39;49m\u001b[43m)\u001b[49m\n",
      "\u001b[0;31mTypeError\u001b[0m: greet() missing 1 required positional argument: 'msg'"
     ]
    }
   ],
   "source": [
    "greet('Harry')"
   ]
  },
  {
   "cell_type": "code",
   "execution_count": 74,
   "id": "5bcca820",
   "metadata": {},
   "outputs": [],
   "source": [
    "def greet(name,msg = 'Good Morning'): # msg is default arguments and name is positional argument\n",
    "    print('{} {}' .format(msg,name))"
   ]
  },
  {
   "cell_type": "code",
   "execution_count": 75,
   "id": "9bca2520",
   "metadata": {},
   "outputs": [
    {
     "name": "stdout",
     "output_type": "stream",
     "text": [
      "Good Morning Bishow\n"
     ]
    }
   ],
   "source": [
    "greet(\"Bishow\")"
   ]
  },
  {
   "cell_type": "code",
   "execution_count": 77,
   "id": "6202b7f6",
   "metadata": {},
   "outputs": [],
   "source": [
    "def add(a, b = 3, c = 5):\n",
    "    return a + b + c"
   ]
  },
  {
   "cell_type": "code",
   "execution_count": 78,
   "id": "3a41fce0",
   "metadata": {},
   "outputs": [
    {
     "data": {
      "text/plain": [
       "10"
      ]
     },
     "execution_count": 78,
     "metadata": {},
     "output_type": "execute_result"
    }
   ],
   "source": [
    "add(2)"
   ]
  },
  {
   "cell_type": "code",
   "execution_count": 81,
   "id": "9ceb8863",
   "metadata": {},
   "outputs": [
    {
     "data": {
      "text/plain": [
       "11"
      ]
     },
     "execution_count": 81,
     "metadata": {},
     "output_type": "execute_result"
    }
   ],
   "source": [
    "add(2,4)"
   ]
  },
  {
   "cell_type": "code",
   "execution_count": 82,
   "id": "c1b10a03",
   "metadata": {},
   "outputs": [
    {
     "data": {
      "text/plain": [
       "3"
      ]
     },
     "execution_count": 82,
     "metadata": {},
     "output_type": "execute_result"
    }
   ],
   "source": [
    "add(1,1,1)"
   ]
  },
  {
   "cell_type": "code",
   "execution_count": 83,
   "id": "2680ae0d",
   "metadata": {},
   "outputs": [],
   "source": [
    "def test():\n",
    "    name = 'some_name'"
   ]
  },
  {
   "cell_type": "code",
   "execution_count": 84,
   "id": "9375f7f3",
   "metadata": {},
   "outputs": [
    {
     "ename": "NameError",
     "evalue": "name 'name' is not defined",
     "output_type": "error",
     "traceback": [
      "\u001b[0;31m---------------------------------------------------------------------------\u001b[0m",
      "\u001b[0;31mNameError\u001b[0m                                 Traceback (most recent call last)",
      "Input \u001b[0;32mIn [84]\u001b[0m, in \u001b[0;36m<cell line: 1>\u001b[0;34m()\u001b[0m\n\u001b[0;32m----> 1\u001b[0m \u001b[43mname\u001b[49m\n",
      "\u001b[0;31mNameError\u001b[0m: name 'name' is not defined"
     ]
    }
   ],
   "source": [
    "name"
   ]
  },
  {
   "cell_type": "code",
   "execution_count": 85,
   "id": "24e8fb07",
   "metadata": {},
   "outputs": [],
   "source": [
    "def test():\n",
    "    return 'some_ name'"
   ]
  },
  {
   "cell_type": "code",
   "execution_count": 86,
   "id": "708da767",
   "metadata": {},
   "outputs": [],
   "source": [
    "name = test()"
   ]
  },
  {
   "cell_type": "code",
   "execution_count": 87,
   "id": "fce7afc5",
   "metadata": {},
   "outputs": [
    {
     "data": {
      "text/plain": [
       "'some_ name'"
      ]
     },
     "execution_count": 87,
     "metadata": {},
     "output_type": "execute_result"
    }
   ],
   "source": [
    "name"
   ]
  },
  {
   "cell_type": "code",
   "execution_count": 88,
   "id": "399251e2",
   "metadata": {},
   "outputs": [],
   "source": [
    "x = 'awesome'\n",
    "\n",
    "def display():\n",
    "    x = 'fantastic'\n",
    "    print(x)"
   ]
  },
  {
   "cell_type": "code",
   "execution_count": 89,
   "id": "8722b3ef",
   "metadata": {},
   "outputs": [
    {
     "data": {
      "text/plain": [
       "'awesome'"
      ]
     },
     "execution_count": 89,
     "metadata": {},
     "output_type": "execute_result"
    }
   ],
   "source": [
    "x"
   ]
  },
  {
   "cell_type": "code",
   "execution_count": 90,
   "id": "3fb539c2",
   "metadata": {},
   "outputs": [
    {
     "name": "stdout",
     "output_type": "stream",
     "text": [
      "fantastic\n"
     ]
    }
   ],
   "source": [
    "display()"
   ]
  },
  {
   "cell_type": "code",
   "execution_count": 91,
   "id": "4b802c41",
   "metadata": {},
   "outputs": [
    {
     "data": {
      "text/plain": [
       "'awesome'"
      ]
     },
     "execution_count": 91,
     "metadata": {},
     "output_type": "execute_result"
    }
   ],
   "source": [
    "x"
   ]
  },
  {
   "cell_type": "code",
   "execution_count": 92,
   "id": "5b5a982d",
   "metadata": {},
   "outputs": [],
   "source": [
    "x = 'awesome'\n",
    "\n",
    "def display():\n",
    "    global x\n",
    "    x = 'fantastic'\n",
    "    print(x)"
   ]
  },
  {
   "cell_type": "code",
   "execution_count": 93,
   "id": "65bd38a2",
   "metadata": {},
   "outputs": [
    {
     "data": {
      "text/plain": [
       "'awesome'"
      ]
     },
     "execution_count": 93,
     "metadata": {},
     "output_type": "execute_result"
    }
   ],
   "source": [
    "x"
   ]
  },
  {
   "cell_type": "code",
   "execution_count": 94,
   "id": "b60a8ce2",
   "metadata": {},
   "outputs": [
    {
     "name": "stdout",
     "output_type": "stream",
     "text": [
      "fantastic\n"
     ]
    }
   ],
   "source": [
    "display()"
   ]
  },
  {
   "cell_type": "code",
   "execution_count": 95,
   "id": "60f7a305",
   "metadata": {},
   "outputs": [
    {
     "data": {
      "text/plain": [
       "'fantastic'"
      ]
     },
     "execution_count": 95,
     "metadata": {},
     "output_type": "execute_result"
    }
   ],
   "source": [
    "x"
   ]
  },
  {
   "cell_type": "code",
   "execution_count": 105,
   "id": "2956a9b5",
   "metadata": {},
   "outputs": [],
   "source": [
    "def add(*args):\n",
    "    print(args)\n",
    "    print(type(args))"
   ]
  },
  {
   "cell_type": "code",
   "execution_count": 106,
   "id": "b39125f6",
   "metadata": {},
   "outputs": [
    {
     "name": "stdout",
     "output_type": "stream",
     "text": [
      "(2,)\n",
      "<class 'tuple'>\n"
     ]
    }
   ],
   "source": [
    "add(2)"
   ]
  },
  {
   "cell_type": "code",
   "execution_count": 107,
   "id": "55447ca2",
   "metadata": {},
   "outputs": [
    {
     "name": "stdout",
     "output_type": "stream",
     "text": [
      "(2, 3, 4, 5, 6, 7, 8)\n",
      "<class 'tuple'>\n"
     ]
    }
   ],
   "source": [
    "add(2,3,4,5,6,7,8)"
   ]
  },
  {
   "cell_type": "code",
   "execution_count": 110,
   "id": "0694a83a",
   "metadata": {},
   "outputs": [],
   "source": [
    "def add(*args):\n",
    "    total = 0\n",
    "    for item in args:\n",
    "        total = total + item\n",
    "    return total"
   ]
  },
  {
   "cell_type": "code",
   "execution_count": 111,
   "id": "f3934262",
   "metadata": {},
   "outputs": [
    {
     "data": {
      "text/plain": [
       "5"
      ]
     },
     "execution_count": 111,
     "metadata": {},
     "output_type": "execute_result"
    }
   ],
   "source": [
    "add(2,3)"
   ]
  },
  {
   "cell_type": "code",
   "execution_count": 112,
   "id": "83b786f6",
   "metadata": {},
   "outputs": [
    {
     "data": {
      "text/plain": [
       "55"
      ]
     },
     "execution_count": 112,
     "metadata": {},
     "output_type": "execute_result"
    }
   ],
   "source": [
    "add(1,2,3,4,5,6,7,8,9,10)"
   ]
  },
  {
   "cell_type": "code",
   "execution_count": 118,
   "id": "3865c39f",
   "metadata": {},
   "outputs": [],
   "source": [
    "def details(**kwargs):\n",
    "    print(type(kwargs))"
   ]
  },
  {
   "cell_type": "code",
   "execution_count": 122,
   "id": "f8f20bea",
   "metadata": {},
   "outputs": [
    {
     "ename": "TypeError",
     "evalue": "details() takes 0 positional arguments but 4 were given",
     "output_type": "error",
     "traceback": [
      "\u001b[0;31m---------------------------------------------------------------------------\u001b[0m",
      "\u001b[0;31mTypeError\u001b[0m                                 Traceback (most recent call last)",
      "Input \u001b[0;32mIn [122]\u001b[0m, in \u001b[0;36m<cell line: 1>\u001b[0;34m()\u001b[0m\n\u001b[0;32m----> 1\u001b[0m \u001b[43mdetails\u001b[49m\u001b[43m(\u001b[49m\u001b[38;5;241;43m1\u001b[39;49m\u001b[43m,\u001b[49m\u001b[38;5;241;43m2\u001b[39;49m\u001b[43m,\u001b[49m\u001b[38;5;241;43m3\u001b[39;49m\u001b[43m,\u001b[49m\u001b[38;5;241;43m4\u001b[39;49m\u001b[43m)\u001b[49m\n",
      "\u001b[0;31mTypeError\u001b[0m: details() takes 0 positional arguments but 4 were given"
     ]
    }
   ],
   "source": [
    "details(1,2,3,4)"
   ]
  },
  {
   "cell_type": "code",
   "execution_count": 123,
   "id": "33547164",
   "metadata": {},
   "outputs": [
    {
     "name": "stdout",
     "output_type": "stream",
     "text": [
      "<class 'dict'>\n"
     ]
    }
   ],
   "source": [
    "details(first_name = 'Bishow',age = 18, like = ['football','tabel tennis','basketball'])"
   ]
  },
  {
   "cell_type": "code",
   "execution_count": null,
   "id": "50bf101d",
   "metadata": {},
   "outputs": [],
   "source": []
  }
 ],
 "metadata": {
  "kernelspec": {
   "display_name": "Python 3 (ipykernel)",
   "language": "python",
   "name": "python3"
  },
  "language_info": {
   "codemirror_mode": {
    "name": "ipython",
    "version": 3
   },
   "file_extension": ".py",
   "mimetype": "text/x-python",
   "name": "python",
   "nbconvert_exporter": "python",
   "pygments_lexer": "ipython3",
   "version": "3.8.10"
  }
 },
 "nbformat": 4,
 "nbformat_minor": 5
}
