{
 "cells": [
  {
   "cell_type": "code",
   "execution_count": 10,
   "id": "fbc0f218",
   "metadata": {},
   "outputs": [
    {
     "name": "stdout",
     "output_type": "stream",
     "text": [
      "[]\n",
      "[25]\n",
      "[25, 16]\n",
      "[25, 16, 9]\n",
      "[25, 16, 9, 4]\n",
      "[25, 16, 9, 4, 1]\n",
      "[25, 16, 9, 4, 1, 0]\n",
      "[25, 16, 9, 4, 1, 0, 1]\n",
      "[25, 16, 9, 4, 1, 0, 1, 4]\n",
      "[25, 16, 9, 4, 1, 0, 1, 4, 9]\n"
     ]
    }
   ],
   "source": [
    "some_list = []\n",
    "\n",
    "for index in range(-5,5):\n",
    "    print(some_list)\n",
    "    some_list.append(index **2)"
   ]
  },
  {
   "cell_type": "code",
   "execution_count": 7,
   "id": "18947200",
   "metadata": {},
   "outputs": [],
   "source": [
    "some_list = []\n"
   ]
  },
  {
   "cell_type": "code",
   "execution_count": 8,
   "id": "fce2f06e",
   "metadata": {},
   "outputs": [],
   "source": [
    "some_list.append(5)"
   ]
  },
  {
   "cell_type": "code",
   "execution_count": 9,
   "id": "33d00803",
   "metadata": {},
   "outputs": [],
   "source": [
    "num = [2,5,7,11,13]"
   ]
  },
  {
   "cell_type": "code",
   "execution_count": 12,
   "id": "7ba3f24b",
   "metadata": {},
   "outputs": [],
   "source": [
    "squares = []\n",
    "\n",
    "for item in num:\n",
    "    sq = item **2\n",
    "    squares.append(sq)"
   ]
  },
  {
   "cell_type": "code",
   "execution_count": 13,
   "id": "39bb67a0",
   "metadata": {},
   "outputs": [
    {
     "data": {
      "text/plain": [
       "[4, 25, 49, 121, 169]"
      ]
     },
     "execution_count": 13,
     "metadata": {},
     "output_type": "execute_result"
    }
   ],
   "source": [
    "squares"
   ]
  },
  {
   "cell_type": "code",
   "execution_count": 15,
   "id": "a37bc5fb",
   "metadata": {},
   "outputs": [
    {
     "data": {
      "text/plain": [
       "[4, 25, 49, 121, 169]"
      ]
     },
     "execution_count": 15,
     "metadata": {},
     "output_type": "execute_result"
    }
   ],
   "source": [
    "[item ** 2 for item in num] # list comprehension"
   ]
  },
  {
   "cell_type": "code",
   "execution_count": 17,
   "id": "c4451d0d",
   "metadata": {},
   "outputs": [
    {
     "data": {
      "text/plain": [
       "[5, 8, 9]"
      ]
     },
     "execution_count": 17,
     "metadata": {},
     "output_type": "execute_result"
    }
   ],
   "source": [
    "num = [2,5,6]\n",
    "[item + 3 for item in num]"
   ]
  },
  {
   "cell_type": "code",
   "execution_count": 28,
   "id": "ba68ccc7",
   "metadata": {},
   "outputs": [],
   "source": [
    "num = [2,5,6]\n",
    "\n",
    "s = []\n",
    "\n",
    "for item in num:\n",
    "    add = item + 3\n",
    "    s.append(add)\n",
    "    "
   ]
  },
  {
   "cell_type": "code",
   "execution_count": 29,
   "id": "3624177f",
   "metadata": {},
   "outputs": [
    {
     "name": "stdout",
     "output_type": "stream",
     "text": [
      "[5, 8, 9]\n"
     ]
    }
   ],
   "source": [
    "print(s)"
   ]
  },
  {
   "cell_type": "markdown",
   "id": "d9c185b3",
   "metadata": {},
   "source": [
    "# Using comprehension"
   ]
  },
  {
   "cell_type": "code",
   "execution_count": 1,
   "id": "09ba8199",
   "metadata": {},
   "outputs": [
    {
     "data": {
      "text/plain": [
       "[1, 8, 27, 64, 125]"
      ]
     },
     "execution_count": 1,
     "metadata": {},
     "output_type": "execute_result"
    }
   ],
   "source": [
    "nums = [1,2,3,4,5]\n",
    "[item **3 for item in nums]"
   ]
  },
  {
   "cell_type": "code",
   "execution_count": 2,
   "id": "b74038fb",
   "metadata": {},
   "outputs": [],
   "source": [
    "nums = [1,2,3,4,5]\n",
    "\n",
    "c = []\n",
    "\n",
    "for item in nums:\n",
    "    cube = item **3\n",
    "    c.append(cube)"
   ]
  },
  {
   "cell_type": "code",
   "execution_count": 4,
   "id": "7a640795",
   "metadata": {},
   "outputs": [
    {
     "name": "stdout",
     "output_type": "stream",
     "text": [
      "[1, 8, 27, 64, 125]\n"
     ]
    }
   ],
   "source": [
    "print(c)"
   ]
  },
  {
   "cell_type": "code",
   "execution_count": null,
   "id": "fb18e462",
   "metadata": {},
   "outputs": [],
   "source": []
  }
 ],
 "metadata": {
  "kernelspec": {
   "display_name": "Python 3 (ipykernel)",
   "language": "python",
   "name": "python3"
  },
  "language_info": {
   "codemirror_mode": {
    "name": "ipython",
    "version": 3
   },
   "file_extension": ".py",
   "mimetype": "text/x-python",
   "name": "python",
   "nbconvert_exporter": "python",
   "pygments_lexer": "ipython3",
   "version": "3.8.10"
  }
 },
 "nbformat": 4,
 "nbformat_minor": 5
}
