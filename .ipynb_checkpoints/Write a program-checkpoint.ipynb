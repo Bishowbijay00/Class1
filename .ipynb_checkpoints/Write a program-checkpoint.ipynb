{
 "cells": [
  {
   "cell_type": "markdown",
   "id": "d423343d",
   "metadata": {},
   "source": [
    "# WAP to count and print vowels and consonant in given word.\n",
    "\n",
    "S = \"aeyi\"\n",
    "\n",
    "Output format:\n",
    "\n",
    "vowel = a\n",
    "vowel = e\n",
    "vowel = i\n",
    "consonant = y"
   ]
  },
  {
   "cell_type": "code",
   "execution_count": 1,
   "id": "a9936326",
   "metadata": {},
   "outputs": [
    {
     "name": "stdout",
     "output_type": "stream",
     "text": [
      "The i is 0 and the letter is a\n",
      "The i is 1 and the letter is e\n",
      "The i is 2 and the letter is y\n",
      "The i is 3 and the letter is i\n"
     ]
    }
   ],
   "source": [
    "s = \"aeyi\"\n",
    "start = 0\n",
    "step =1\n",
    "stop = len(s)\n",
    "vowels=3\n",
    "consonants=1\n",
    "for i in range(start , stop , step):\n",
    "    letter = s[i]\n",
    "    if( i == 'a'or i == 'e'or i == 'y'or i == 'i'):\n",
    "        print(\"The i is {} and the letter is {}\" .format(i, letter))\n",
    "    else:\n",
    "        print(\"The i is {} and the letter is {}\" .format(i , letter))"
   ]
  },
  {
   "cell_type": "code",
   "execution_count": null,
   "id": "e8512edc",
   "metadata": {},
   "outputs": [],
   "source": []
  },
  {
   "cell_type": "code",
   "execution_count": null,
   "id": "56066063",
   "metadata": {},
   "outputs": [],
   "source": []
  },
  {
   "cell_type": "markdown",
   "id": "bac23e7b",
   "metadata": {},
   "source": [
    "# WAP to count vowel and consonants on the given string.\n",
    "\n",
    "S = \"HELLO\""
   ]
  },
  {
   "cell_type": "code",
   "execution_count": 2,
   "id": "4478a630",
   "metadata": {},
   "outputs": [
    {
     "name": "stdout",
     "output_type": "stream",
     "text": [
      "The i is 0 and the letter is H\n",
      "The i is 1 and the letter is E\n",
      "The i is 2 and the letter is L\n",
      "The i is 3 and the letter is L\n",
      "The i is 4 and the letter is O\n"
     ]
    }
   ],
   "source": [
    "s = \"HELLO\"\n",
    "start = 0\n",
    "step = 1\n",
    "stop = len(s)\n",
    "vowels=2\n",
    "consonants=3\n",
    "for i in range(start , stop , step):\n",
    "    letter = s[i]\n",
    "    if( i == 'H'or i == 'E'or i == 'L'or i == 'L'or i == 'O'):\n",
    "        print(\"The i is {} and the letter is {}\" .format(i, letter ))\n",
    "    else:\n",
    "        print(\"The i is {} and the letter is {}\" .format(i , letter ))"
   ]
  },
  {
   "cell_type": "markdown",
   "id": "5010729f",
   "metadata": {},
   "source": [
    "# WAP to count and print vowels and consonant in given word.\n"
   ]
  },
  {
   "cell_type": "code",
   "execution_count": null,
   "id": "cd368d4e",
   "metadata": {},
   "outputs": [],
   "source": []
  },
  {
   "cell_type": "code",
   "execution_count": null,
   "id": "d4b1b70f",
   "metadata": {},
   "outputs": [],
   "source": []
  },
  {
   "cell_type": "code",
   "execution_count": 3,
   "id": "6fef25e8",
   "metadata": {},
   "outputs": [],
   "source": [
    "s = \"aeyi\"\n",
    "       "
   ]
  },
  {
   "cell_type": "code",
   "execution_count": 4,
   "id": "b576870b",
   "metadata": {},
   "outputs": [
    {
     "name": "stdout",
     "output_type": "stream",
     "text": [
      "vowel = a\n",
      "vowel = e\n",
      "consonant = y\n",
      "vowel = i\n",
      "Total no of vowels 3\n",
      "Total no of consonant 1\n"
     ]
    }
   ],
   "source": [
    "vowel = 0\n",
    "cons = 0\n",
    "for index in range(len(s)):\n",
    "    letter = s[index]\n",
    "    if letter == 'a' or letter == 'e' or letter == 'i' or letter == 'o' or letter == 'u':\n",
    "        print(\"vowel = {}\" .format(letter))\n",
    "        vowel = vowel + 1\n",
    "        \n",
    "    else:\n",
    "        print(\"consonant = {}\" . format(letter))\n",
    "        cons = cons + 1\n",
    "            \n",
    "print(\"Total no of vowels {}\" .format(vowel))\n",
    "print(\"Total no of consonant {}\" .format(cons))\n"
   ]
  },
  {
   "cell_type": "code",
   "execution_count": null,
   "id": "94310420",
   "metadata": {},
   "outputs": [],
   "source": []
  }
 ],
 "metadata": {
  "kernelspec": {
   "display_name": "Python 3 (ipykernel)",
   "language": "python",
   "name": "python3"
  },
  "language_info": {
   "codemirror_mode": {
    "name": "ipython",
    "version": 3
   },
   "file_extension": ".py",
   "mimetype": "text/x-python",
   "name": "python",
   "nbconvert_exporter": "python",
   "pygments_lexer": "ipython3",
   "version": "3.8.10"
  }
 },
 "nbformat": 4,
 "nbformat_minor": 5
}
