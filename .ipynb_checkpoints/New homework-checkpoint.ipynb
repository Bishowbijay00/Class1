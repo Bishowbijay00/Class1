{
 "cells": [
  {
   "cell_type": "markdown",
   "id": "5f01dab3",
   "metadata": {},
   "source": [
    "# Using string manipulation technique extract fruits name from txt.\n",
    "\n",
    "txt = \"I Like Orange Apple Banana and Kiwi.\"\n",
    "\n",
    "fruits = ('orange' , 'apple' , 'banana', 'kiwi')"
   ]
  },
  {
   "cell_type": "code",
   "execution_count": null,
   "id": "41a14f4b",
   "metadata": {},
   "outputs": [],
   "source": []
  },
  {
   "cell_type": "code",
   "execution_count": null,
   "id": "f35e8609",
   "metadata": {},
   "outputs": [],
   "source": []
  },
  {
   "cell_type": "code",
   "execution_count": null,
   "id": "e4e48ed9",
   "metadata": {},
   "outputs": [],
   "source": []
  },
  {
   "cell_type": "code",
   "execution_count": null,
   "id": "d47700d4",
   "metadata": {},
   "outputs": [],
   "source": []
  },
  {
   "cell_type": "code",
   "execution_count": null,
   "id": "25cf78e4",
   "metadata": {},
   "outputs": [],
   "source": []
  },
  {
   "cell_type": "code",
   "execution_count": null,
   "id": "fea18f69",
   "metadata": {},
   "outputs": [],
   "source": []
  },
  {
   "cell_type": "code",
   "execution_count": null,
   "id": "59f76146",
   "metadata": {},
   "outputs": [],
   "source": []
  },
  {
   "cell_type": "markdown",
   "id": "215f520b",
   "metadata": {},
   "source": [
    "# write a program to check if string2 is the rotation of string1 or not."
   ]
  },
  {
   "cell_type": "code",
   "execution_count": 2,
   "id": "20d3cd99",
   "metadata": {},
   "outputs": [
    {
     "name": "stdout",
     "output_type": "stream",
     "text": [
      "Second string is not a rotation of first string\n"
     ]
    }
   ],
   "source": [
    "str1 = \"nepalindiachinaamericajapan\";  \n",
    "str2 = \"INDIACHINAAMERICAJAPANNEPAL\";  \n",
    "   \n",
    "if(len(str1) != len(str2)):  \n",
    "    print(\"Second string is not a rotation of first string\");  \n",
    "else:  \n",
    "    try:\n",
    "        str1 = str1 + str1;  \n",
    "        if(str1.index(str2)):  \n",
    "            print(\"Second string is a rotation of first string\");  \n",
    "    except ValueError:  \n",
    "            print(\"Second string is not a rotation of first string\");  "
   ]
  },
  {
   "cell_type": "code",
   "execution_count": null,
   "id": "97a0cb6f",
   "metadata": {},
   "outputs": [],
   "source": []
  }
 ],
 "metadata": {
  "kernelspec": {
   "display_name": "Python 3 (ipykernel)",
   "language": "python",
   "name": "python3"
  },
  "language_info": {
   "codemirror_mode": {
    "name": "ipython",
    "version": 3
   },
   "file_extension": ".py",
   "mimetype": "text/x-python",
   "name": "python",
   "nbconvert_exporter": "python",
   "pygments_lexer": "ipython3",
   "version": "3.8.10"
  }
 },
 "nbformat": 4,
 "nbformat_minor": 5
}
