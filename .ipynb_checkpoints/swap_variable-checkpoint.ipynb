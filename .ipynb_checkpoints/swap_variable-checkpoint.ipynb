{
 "cells": [
  {
   "cell_type": "markdown",
   "id": "72c44cad",
   "metadata": {},
   "source": []
  },
  {
   "cell_type": "code",
   "execution_count": 1,
   "id": "720c5827",
   "metadata": {},
   "outputs": [],
   "source": [
    "num1 = 78\n",
    "num2 = 60"
   ]
  },
  {
   "cell_type": "code",
   "execution_count": 2,
   "id": "dcd8a13b",
   "metadata": {},
   "outputs": [],
   "source": [
    "tmp = num1"
   ]
  },
  {
   "cell_type": "code",
   "execution_count": 3,
   "id": "bbcc5d95",
   "metadata": {},
   "outputs": [
    {
     "data": {
      "text/plain": [
       "78"
      ]
     },
     "execution_count": 3,
     "metadata": {},
     "output_type": "execute_result"
    }
   ],
   "source": [
    "tmp"
   ]
  },
  {
   "cell_type": "code",
   "execution_count": 4,
   "id": "3f36f252",
   "metadata": {},
   "outputs": [],
   "source": [
    "num1 = num2"
   ]
  },
  {
   "cell_type": "code",
   "execution_count": 5,
   "id": "1e39e9db",
   "metadata": {},
   "outputs": [
    {
     "data": {
      "text/plain": [
       "60"
      ]
     },
     "execution_count": 5,
     "metadata": {},
     "output_type": "execute_result"
    }
   ],
   "source": [
    "num1"
   ]
  },
  {
   "cell_type": "code",
   "execution_count": 6,
   "id": "d2bcee9b",
   "metadata": {},
   "outputs": [],
   "source": [
    "num2 = tmp"
   ]
  },
  {
   "cell_type": "code",
   "execution_count": 7,
   "id": "6c7e42d6",
   "metadata": {},
   "outputs": [
    {
     "data": {
      "text/plain": [
       "78"
      ]
     },
     "execution_count": 7,
     "metadata": {},
     "output_type": "execute_result"
    }
   ],
   "source": [
    "num2"
   ]
  },
  {
   "cell_type": "code",
   "execution_count": null,
   "id": "4b20bbfc",
   "metadata": {},
   "outputs": [],
   "source": []
  },
  {
   "cell_type": "code",
   "execution_count": 9,
   "id": "a04f52c6",
   "metadata": {},
   "outputs": [],
   "source": [
    "num1 = 78\n",
    "num2 = 60"
   ]
  },
  {
   "cell_type": "code",
   "execution_count": 10,
   "id": "8ec8d1d4",
   "metadata": {},
   "outputs": [],
   "source": [
    "num2, num1 = num1, num2"
   ]
  },
  {
   "cell_type": "code",
   "execution_count": 11,
   "id": "c544256c",
   "metadata": {},
   "outputs": [
    {
     "data": {
      "text/plain": [
       "60"
      ]
     },
     "execution_count": 11,
     "metadata": {},
     "output_type": "execute_result"
    }
   ],
   "source": [
    "num1"
   ]
  },
  {
   "cell_type": "code",
   "execution_count": 12,
   "id": "6de0b0fe",
   "metadata": {},
   "outputs": [
    {
     "data": {
      "text/plain": [
       "78"
      ]
     },
     "execution_count": 12,
     "metadata": {},
     "output_type": "execute_result"
    }
   ],
   "source": [
    "num2"
   ]
  },
  {
   "cell_type": "code",
   "execution_count": null,
   "id": "3ed2197a",
   "metadata": {},
   "outputs": [],
   "source": []
  }
 ],
 "metadata": {
  "kernelspec": {
   "display_name": "Python 3 (ipykernel)",
   "language": "python",
   "name": "python3"
  },
  "language_info": {
   "codemirror_mode": {
    "name": "ipython",
    "version": 3
   },
   "file_extension": ".py",
   "mimetype": "text/x-python",
   "name": "python",
   "nbconvert_exporter": "python",
   "pygments_lexer": "ipython3",
   "version": "3.8.10"
  }
 },
 "nbformat": 4,
 "nbformat_minor": 5
}
