{
 "cells": [
  {
   "cell_type": "markdown",
   "id": "3370768c",
   "metadata": {},
   "source": [
    "# Write a function to check if the given input number is prime or not if prime return true else return false."
   ]
  },
  {
   "cell_type": "code",
   "execution_count": 2,
   "id": "08bd7de4",
   "metadata": {},
   "outputs": [
    {
     "name": "stdout",
     "output_type": "stream",
     "text": [
      "False\n",
      "True\n"
     ]
    }
   ],
   "source": [
    "def isprime(num):\n",
    "    if num> 1:  \n",
    "        for n in range(2,num):  \n",
    "            if (num % n) == 0:  \n",
    "                return False\n",
    "        return True\n",
    "    else:\n",
    "        return False\n",
    "print(isprime(64))\n",
    "print(isprime(5))\n"
   ]
  },
  {
   "cell_type": "code",
   "execution_count": null,
   "id": "6017e4f6",
   "metadata": {},
   "outputs": [],
   "source": []
  }
 ],
 "metadata": {
  "kernelspec": {
   "display_name": "Python 3 (ipykernel)",
   "language": "python",
   "name": "python3"
  },
  "language_info": {
   "codemirror_mode": {
    "name": "ipython",
    "version": 3
   },
   "file_extension": ".py",
   "mimetype": "text/x-python",
   "name": "python",
   "nbconvert_exporter": "python",
   "pygments_lexer": "ipython3",
   "version": "3.8.10"
  }
 },
 "nbformat": 4,
 "nbformat_minor": 5
}
