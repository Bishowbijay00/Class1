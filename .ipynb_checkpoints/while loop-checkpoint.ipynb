{
 "cells": [
  {
   "cell_type": "markdown",
   "id": "18c02e6c",
   "metadata": {},
   "source": [
    "```python\n",
    "while True:\n",
    "\n"
   ]
  },
  {
   "cell_type": "code",
   "execution_count": 7,
   "id": "07bd477c",
   "metadata": {},
   "outputs": [],
   "source": [
    "nums = [2,311,2,5,7]"
   ]
  },
  {
   "cell_type": "code",
   "execution_count": 8,
   "id": "6cef7e11",
   "metadata": {},
   "outputs": [],
   "source": [
    "i = 0\n",
    "total = 0\n",
    "while i < len(nums):\n",
    "    val = nums[i]\n",
    "    total = total + val\n",
    "    i = i + 1"
   ]
  },
  {
   "cell_type": "code",
   "execution_count": 9,
   "id": "2051ff03",
   "metadata": {},
   "outputs": [
    {
     "data": {
      "text/plain": [
       "327"
      ]
     },
     "execution_count": 9,
     "metadata": {},
     "output_type": "execute_result"
    }
   ],
   "source": [
    "total"
   ]
  },
  {
   "cell_type": "code",
   "execution_count": 10,
   "id": "3d41d0ed",
   "metadata": {},
   "outputs": [],
   "source": [
    "mean = total / len(nums)"
   ]
  },
  {
   "cell_type": "code",
   "execution_count": 11,
   "id": "e6335edc",
   "metadata": {},
   "outputs": [
    {
     "data": {
      "text/plain": [
       "65.4"
      ]
     },
     "execution_count": 11,
     "metadata": {},
     "output_type": "execute_result"
    }
   ],
   "source": [
    "mean"
   ]
  },
  {
   "cell_type": "code",
   "execution_count": null,
   "id": "8550bbe6",
   "metadata": {},
   "outputs": [],
   "source": []
  }
 ],
 "metadata": {
  "kernelspec": {
   "display_name": "Python 3 (ipykernel)",
   "language": "python",
   "name": "python3"
  },
  "language_info": {
   "codemirror_mode": {
    "name": "ipython",
    "version": 3
   },
   "file_extension": ".py",
   "mimetype": "text/x-python",
   "name": "python",
   "nbconvert_exporter": "python",
   "pygments_lexer": "ipython3",
   "version": "3.8.10"
  }
 },
 "nbformat": 4,
 "nbformat_minor": 5
}
