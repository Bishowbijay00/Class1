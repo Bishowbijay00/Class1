{
 "cells": [
  {
   "cell_type": "markdown",
   "id": "7e0d5204",
   "metadata": {},
   "source": [
    "# WAP to lowercase item in given list using list comprehension"
   ]
  },
  {
   "cell_type": "code",
   "execution_count": 1,
   "id": "0c66993f",
   "metadata": {},
   "outputs": [],
   "source": [
    "fruits = ['APPLE','BANANA','MANGO','ORANGE']"
   ]
  },
  {
   "cell_type": "code",
   "execution_count": 2,
   "id": "d9b52ef0",
   "metadata": {},
   "outputs": [
    {
     "data": {
      "text/plain": [
       "'apple'"
      ]
     },
     "execution_count": 2,
     "metadata": {},
     "output_type": "execute_result"
    }
   ],
   "source": [
    "'APPLE'.lower()"
   ]
  },
  {
   "cell_type": "code",
   "execution_count": 3,
   "id": "e1e717f6",
   "metadata": {},
   "outputs": [
    {
     "data": {
      "text/plain": [
       "'ELPPA'"
      ]
     },
     "execution_count": 3,
     "metadata": {},
     "output_type": "execute_result"
    }
   ],
   "source": [
    "'APPLE'[::-1]"
   ]
  },
  {
   "cell_type": "code",
   "execution_count": null,
   "id": "b6e52c0a",
   "metadata": {},
   "outputs": [],
   "source": []
  },
  {
   "cell_type": "code",
   "execution_count": null,
   "id": "d1e4fbee",
   "metadata": {},
   "outputs": [],
   "source": []
  },
  {
   "cell_type": "code",
   "execution_count": 4,
   "id": "b0e2100c",
   "metadata": {},
   "outputs": [],
   "source": [
    "fruits = ['APPLE','BANANA','MANGO','ORANGE']"
   ]
  },
  {
   "cell_type": "code",
   "execution_count": 5,
   "id": "0f468806",
   "metadata": {},
   "outputs": [],
   "source": [
    "lower_fruits = []"
   ]
  },
  {
   "cell_type": "code",
   "execution_count": 7,
   "id": "6cb784fa",
   "metadata": {},
   "outputs": [],
   "source": [
    "for index in range(len(fruits)):\n",
    "    fruits_name = fruits[index]\n",
    "    lower_fruits.append(fruits_name.lower())"
   ]
  },
  {
   "cell_type": "code",
   "execution_count": 8,
   "id": "deb5b015",
   "metadata": {},
   "outputs": [
    {
     "data": {
      "text/plain": [
       "['apple', 'banana', 'mango', 'orange']"
      ]
     },
     "execution_count": 8,
     "metadata": {},
     "output_type": "execute_result"
    }
   ],
   "source": [
    "lower_fruits"
   ]
  },
  {
   "cell_type": "code",
   "execution_count": 11,
   "id": "4671240a",
   "metadata": {},
   "outputs": [],
   "source": [
    "lower_fruits = []\n",
    "for item in fruits:\n",
    "        lower_fruits.append(item.lower())\n",
    "    "
   ]
  },
  {
   "cell_type": "code",
   "execution_count": 12,
   "id": "da571b74",
   "metadata": {},
   "outputs": [
    {
     "data": {
      "text/plain": [
       "['apple', 'banana', 'mango', 'orange']"
      ]
     },
     "execution_count": 12,
     "metadata": {},
     "output_type": "execute_result"
    }
   ],
   "source": [
    "lower_fruits"
   ]
  },
  {
   "cell_type": "code",
   "execution_count": null,
   "id": "9865d5bb",
   "metadata": {},
   "outputs": [],
   "source": []
  },
  {
   "cell_type": "code",
   "execution_count": null,
   "id": "7deec47e",
   "metadata": {},
   "outputs": [],
   "source": []
  },
  {
   "cell_type": "markdown",
   "id": "7ae2f547",
   "metadata": {},
   "source": [
    "# if condition in list comprehension"
   ]
  },
  {
   "cell_type": "code",
   "execution_count": 21,
   "id": "7bbdb2c1",
   "metadata": {},
   "outputs": [],
   "source": [
    "val = []\n",
    "for i in range(-5,15):\n",
    "    if i <=5:\n",
    "        val.append(i)"
   ]
  },
  {
   "cell_type": "code",
   "execution_count": 22,
   "id": "4d162c1b",
   "metadata": {},
   "outputs": [
    {
     "data": {
      "text/plain": [
       "[-5, -4, -3, -2, -1, 0, 1, 2, 3, 4, 5]"
      ]
     },
     "execution_count": 22,
     "metadata": {},
     "output_type": "execute_result"
    }
   ],
   "source": [
    "val"
   ]
  },
  {
   "cell_type": "code",
   "execution_count": 18,
   "id": "08efb00f",
   "metadata": {},
   "outputs": [
    {
     "data": {
      "text/plain": [
       "[-5, -4, -3, -2, -1, 0, 1, 2, 3, 4, 5]"
      ]
     },
     "execution_count": 18,
     "metadata": {},
     "output_type": "execute_result"
    }
   ],
   "source": [
    "[ index for index in range(-5,15) if index<=5]"
   ]
  },
  {
   "cell_type": "code",
   "execution_count": null,
   "id": "7b971f73",
   "metadata": {},
   "outputs": [],
   "source": []
  },
  {
   "cell_type": "code",
   "execution_count": null,
   "id": "a182b724",
   "metadata": {},
   "outputs": [],
   "source": []
  },
  {
   "cell_type": "code",
   "execution_count": 23,
   "id": "0e4994b4",
   "metadata": {},
   "outputs": [
    {
     "data": {
      "text/plain": [
       "[0, 0, 0, 0, 0, 0, 0, 0, 1, 2, 3, 4]"
      ]
     },
     "execution_count": 23,
     "metadata": {},
     "output_type": "execute_result"
    }
   ],
   "source": [
    "[0 if index <=0 else index for index in range(-7,5)]"
   ]
  },
  {
   "cell_type": "markdown",
   "id": "8e6cb932",
   "metadata": {},
   "source": [
    "[expression for item in iterables]\n",
    "\n",
    "[epression for item in iterables if true]\n",
    "\n",
    "[expression if true else expression for item in iterables]"
   ]
  },
  {
   "cell_type": "code",
   "execution_count": null,
   "id": "71ccd64e",
   "metadata": {},
   "outputs": [],
   "source": []
  },
  {
   "cell_type": "code",
   "execution_count": null,
   "id": "14fe501a",
   "metadata": {},
   "outputs": [],
   "source": []
  },
  {
   "cell_type": "code",
   "execution_count": null,
   "id": "f089ca35",
   "metadata": {},
   "outputs": [],
   "source": []
  },
  {
   "cell_type": "code",
   "execution_count": null,
   "id": "42feb5d4",
   "metadata": {},
   "outputs": [],
   "source": []
  },
  {
   "cell_type": "code",
   "execution_count": 29,
   "id": "badb5876",
   "metadata": {},
   "outputs": [
    {
     "data": {
      "text/plain": [
       "['banana', 'mango']"
      ]
     },
     "execution_count": 29,
     "metadata": {},
     "output_type": "execute_result"
    }
   ],
   "source": [
    "fruits = ['apple','banana','apple','mango']\n",
    "\n",
    "[item for item in fruits if item !='apple']"
   ]
  },
  {
   "cell_type": "code",
   "execution_count": 30,
   "id": "4096e3eb",
   "metadata": {},
   "outputs": [],
   "source": [
    "fruits = ['apple','banana','cherry','mango','kiwi']"
   ]
  },
  {
   "cell_type": "code",
   "execution_count": 31,
   "id": "aa6250b8",
   "metadata": {},
   "outputs": [
    {
     "data": {
      "text/plain": [
       "['orange', 'banana', 'orange', 'orange', 'orange']"
      ]
     },
     "execution_count": 31,
     "metadata": {},
     "output_type": "execute_result"
    }
   ],
   "source": [
    "['banana' if item == 'banana' else 'orange' for item in fruits]"
   ]
  },
  {
   "cell_type": "code",
   "execution_count": null,
   "id": "2b84c359",
   "metadata": {},
   "outputs": [],
   "source": []
  },
  {
   "cell_type": "code",
   "execution_count": 32,
   "id": "8a62c8d4",
   "metadata": {},
   "outputs": [],
   "source": [
    "tup1 = (1,22,33,4,44,5,5,66)"
   ]
  },
  {
   "cell_type": "code",
   "execution_count": 33,
   "id": "f82e12ed",
   "metadata": {},
   "outputs": [
    {
     "data": {
      "text/plain": [
       "1"
      ]
     },
     "execution_count": 33,
     "metadata": {},
     "output_type": "execute_result"
    }
   ],
   "source": [
    "tup1[0]"
   ]
  },
  {
   "cell_type": "code",
   "execution_count": 35,
   "id": "467f0a47",
   "metadata": {},
   "outputs": [
    {
     "data": {
      "text/plain": [
       "66"
      ]
     },
     "execution_count": 35,
     "metadata": {},
     "output_type": "execute_result"
    }
   ],
   "source": [
    "tup1[-1]"
   ]
  },
  {
   "cell_type": "code",
   "execution_count": null,
   "id": "0accfd71",
   "metadata": {},
   "outputs": [],
   "source": [
    "for item in tup1:\n",
    "    \n",
    "    "
   ]
  },
  {
   "cell_type": "code",
   "execution_count": null,
   "id": "55f98320",
   "metadata": {},
   "outputs": [],
   "source": []
  },
  {
   "cell_type": "code",
   "execution_count": null,
   "id": "25b0d5e3",
   "metadata": {},
   "outputs": [],
   "source": []
  },
  {
   "cell_type": "code",
   "execution_count": 36,
   "id": "803c8f6d",
   "metadata": {},
   "outputs": [
    {
     "data": {
      "text/plain": [
       "[1, 22, 33, 4, 44, 5, 5, 66]"
      ]
     },
     "execution_count": 36,
     "metadata": {},
     "output_type": "execute_result"
    }
   ],
   "source": [
    "list(tup1)"
   ]
  },
  {
   "cell_type": "code",
   "execution_count": 37,
   "id": "05d61af6",
   "metadata": {},
   "outputs": [
    {
     "data": {
      "text/plain": [
       "list"
      ]
     },
     "execution_count": 37,
     "metadata": {},
     "output_type": "execute_result"
    }
   ],
   "source": [
    "type(list(tup1))"
   ]
  },
  {
   "cell_type": "code",
   "execution_count": 38,
   "id": "5b30dd1d",
   "metadata": {},
   "outputs": [
    {
     "name": "stdout",
     "output_type": "stream",
     "text": [
      "<class 'list'>\n"
     ]
    }
   ],
   "source": [
    "tup1 = (1,22,33,4,44,5,5,66)\n",
    "tup1 = list(tup1)\n",
    "print(type(tup1))"
   ]
  },
  {
   "cell_type": "code",
   "execution_count": 39,
   "id": "67df6142",
   "metadata": {},
   "outputs": [],
   "source": [
    "tup1.append(-8)"
   ]
  },
  {
   "cell_type": "code",
   "execution_count": 40,
   "id": "f8a0b17d",
   "metadata": {},
   "outputs": [
    {
     "data": {
      "text/plain": [
       "[1, 22, 33, 4, 44, 5, 5, 66, -8]"
      ]
     },
     "execution_count": 40,
     "metadata": {},
     "output_type": "execute_result"
    }
   ],
   "source": [
    "tup1"
   ]
  },
  {
   "cell_type": "code",
   "execution_count": 41,
   "id": "8f0166b8",
   "metadata": {},
   "outputs": [],
   "source": [
    "tup1 = tuple(tup1)"
   ]
  },
  {
   "cell_type": "code",
   "execution_count": 42,
   "id": "492d01cf",
   "metadata": {},
   "outputs": [
    {
     "data": {
      "text/plain": [
       "(1, 22, 33, 4, 44, 5, 5, 66, -8)"
      ]
     },
     "execution_count": 42,
     "metadata": {},
     "output_type": "execute_result"
    }
   ],
   "source": [
    "tup1"
   ]
  },
  {
   "cell_type": "code",
   "execution_count": 43,
   "id": "86585780",
   "metadata": {},
   "outputs": [],
   "source": [
    "tup1 = (1,22,33,4,44,5,5,66)"
   ]
  },
  {
   "cell_type": "code",
   "execution_count": 44,
   "id": "44ec9a09",
   "metadata": {},
   "outputs": [],
   "source": [
    "total = 0\n",
    "n = len(tup1)"
   ]
  },
  {
   "cell_type": "code",
   "execution_count": 45,
   "id": "93501c88",
   "metadata": {},
   "outputs": [],
   "source": [
    "for item in tup1:\n",
    "    total = total + item"
   ]
  },
  {
   "cell_type": "code",
   "execution_count": 46,
   "id": "2ae45ff9",
   "metadata": {},
   "outputs": [
    {
     "data": {
      "text/plain": [
       "180"
      ]
     },
     "execution_count": 46,
     "metadata": {},
     "output_type": "execute_result"
    }
   ],
   "source": [
    "total"
   ]
  },
  {
   "cell_type": "code",
   "execution_count": 47,
   "id": "55aeae30",
   "metadata": {},
   "outputs": [],
   "source": [
    "mean = total / n"
   ]
  },
  {
   "cell_type": "code",
   "execution_count": 48,
   "id": "2c4d71a8",
   "metadata": {},
   "outputs": [
    {
     "data": {
      "text/plain": [
       "22.5"
      ]
     },
     "execution_count": 48,
     "metadata": {},
     "output_type": "execute_result"
    }
   ],
   "source": [
    "mean"
   ]
  },
  {
   "cell_type": "code",
   "execution_count": 49,
   "id": "a2d2517e",
   "metadata": {},
   "outputs": [],
   "source": [
    "tup1 = (1,22,33,4,44,5,5,66)\n",
    "total = 0\n",
    "n = len(tup1)\n",
    "for index in range(n):\n",
    "    item = tup1[index]\n",
    "    total = total + item "
   ]
  },
  {
   "cell_type": "code",
   "execution_count": 50,
   "id": "cb781d07",
   "metadata": {},
   "outputs": [],
   "source": [
    "mean = total / n"
   ]
  },
  {
   "cell_type": "code",
   "execution_count": 51,
   "id": "42b1a726",
   "metadata": {},
   "outputs": [
    {
     "data": {
      "text/plain": [
       "22.5"
      ]
     },
     "execution_count": 51,
     "metadata": {},
     "output_type": "execute_result"
    }
   ],
   "source": [
    "mean"
   ]
  },
  {
   "cell_type": "code",
   "execution_count": 53,
   "id": "19b88f88",
   "metadata": {},
   "outputs": [
    {
     "name": "stdout",
     "output_type": "stream",
     "text": [
      "odd\n",
      "odd\n",
      "odd\n",
      "odd\n"
     ]
    }
   ],
   "source": [
    "tup1 = (1,22,33,4,44,5,5,66)\n",
    "even = []\n",
    "for item in tup1:\n",
    "    if item%2 == 0:\n",
    "        even.append(item)\n",
    "    else:\n",
    "        pass\n",
    "        print('odd')"
   ]
  },
  {
   "cell_type": "code",
   "execution_count": 54,
   "id": "20210373",
   "metadata": {},
   "outputs": [
    {
     "data": {
      "text/plain": [
       "[22, 4, 44, 66]"
      ]
     },
     "execution_count": 54,
     "metadata": {},
     "output_type": "execute_result"
    }
   ],
   "source": [
    "even"
   ]
  },
  {
   "cell_type": "code",
   "execution_count": 58,
   "id": "d4cb061d",
   "metadata": {},
   "outputs": [],
   "source": [
    "li = [2,3,4,5,6,7,7,8,9,0,1,222,33]    \n"
   ]
  },
  {
   "cell_type": "code",
   "execution_count": 60,
   "id": "cc19631c",
   "metadata": {},
   "outputs": [
    {
     "data": {
      "text/plain": [
       "['even',\n",
       " 'odd',\n",
       " 'even',\n",
       " 'odd',\n",
       " 'even',\n",
       " 'odd',\n",
       " 'odd',\n",
       " 'even',\n",
       " 'odd',\n",
       " 'even',\n",
       " 'odd',\n",
       " 'even',\n",
       " 'odd']"
      ]
     },
     "execution_count": 60,
     "metadata": {},
     "output_type": "execute_result"
    }
   ],
   "source": [
    "['even'if item%2==0 else 'odd'for item in li]"
   ]
  },
  {
   "cell_type": "code",
   "execution_count": null,
   "id": "355cace4",
   "metadata": {},
   "outputs": [],
   "source": []
  }
 ],
 "metadata": {
  "kernelspec": {
   "display_name": "Python 3 (ipykernel)",
   "language": "python",
   "name": "python3"
  },
  "language_info": {
   "codemirror_mode": {
    "name": "ipython",
    "version": 3
   },
   "file_extension": ".py",
   "mimetype": "text/x-python",
   "name": "python",
   "nbconvert_exporter": "python",
   "pygments_lexer": "ipython3",
   "version": "3.8.10"
  }
 },
 "nbformat": 4,
 "nbformat_minor": 5
}
