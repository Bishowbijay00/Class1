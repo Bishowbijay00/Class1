{
 "cells": [
  {
   "cell_type": "markdown",
   "id": "4ec3aad4",
   "metadata": {},
   "source": [
    "<img src=\"url of image\">https://www.cdc.gov/healthyweight/images/assessing/bmi-adult-fb-600x315.jpg?_=07167"
   ]
  },
  {
   "cell_type": "code",
   "execution_count": 2,
   "id": "ce881a42",
   "metadata": {},
   "outputs": [
    {
     "data": {
      "text/plain": [
       "False"
      ]
     },
     "execution_count": 2,
     "metadata": {},
     "output_type": "execute_result"
    }
   ],
   "source": [
    "not True"
   ]
  },
  {
   "cell_type": "code",
   "execution_count": 3,
   "id": "5f5dd2aa",
   "metadata": {},
   "outputs": [
    {
     "data": {
      "text/plain": [
       "True"
      ]
     },
     "execution_count": 3,
     "metadata": {},
     "output_type": "execute_result"
    }
   ],
   "source": [
    "not False"
   ]
  },
  {
   "cell_type": "markdown",
   "id": "ee7142d5",
   "metadata": {},
   "source": [
    "| id | text |\n",
    "|---  |---  |\n",
    "| 1 | hi |\n",
    "| 2 | my |\n",
    "| 3 | name |\n",
    "| 12 | my name |\n",
    "| 31 | Bishow |"
   ]
  },
  {
   "cell_type": "code",
   "execution_count": null,
   "id": "9bb2cfa8",
   "metadata": {},
   "outputs": [],
   "source": []
  }
 ],
 "metadata": {
  "kernelspec": {
   "display_name": "Python 3 (ipykernel)",
   "language": "python",
   "name": "python3"
  },
  "language_info": {
   "codemirror_mode": {
    "name": "ipython",
    "version": 3
   },
   "file_extension": ".py",
   "mimetype": "text/x-python",
   "name": "python",
   "nbconvert_exporter": "python",
   "pygments_lexer": "ipython3",
   "version": "3.8.10"
  }
 },
 "nbformat": 4,
 "nbformat_minor": 5
}
