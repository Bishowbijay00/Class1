{
 "cells": [
  {
   "cell_type": "markdown",
   "id": "8fa0d35f",
   "metadata": {},
   "source": [
    "#write a program to check if the user given input input is odd or even.if it is even print even else print odd. "
   ]
  },
  {
   "cell_type": "markdown",
   "id": "c0a1ffd1",
   "metadata": {},
   "source": [
    "*==is comparison operator;return true or false"
   ]
  },
  {
   "cell_type": "markdown",
   "id": "4bd40cd2",
   "metadata": {},
   "source": [
    "*=is assignment operator"
   ]
  },
  {
   "cell_type": "code",
   "execution_count": 2,
   "id": "dc332fef",
   "metadata": {},
   "outputs": [
    {
     "data": {
      "text/plain": [
       "False"
      ]
     },
     "execution_count": 2,
     "metadata": {},
     "output_type": "execute_result"
    }
   ],
   "source": [
    "5%2 == 0"
   ]
  },
  {
   "cell_type": "code",
   "execution_count": 11,
   "id": "430a7e1c",
   "metadata": {},
   "outputs": [
    {
     "ename": "IndentationError",
     "evalue": "unindent does not match any outer indentation level (<tokenize>, line 4)",
     "output_type": "error",
     "traceback": [
      "\u001b[0;36m  File \u001b[0;32m<tokenize>:4\u001b[0;36m\u001b[0m\n\u001b[0;31m    else:\u001b[0m\n\u001b[0m    ^\u001b[0m\n\u001b[0;31mIndentationError\u001b[0m\u001b[0;31m:\u001b[0m unindent does not match any outer indentation level\n"
     ]
    }
   ],
   "source": [
    "input_number = int(input(\"Enter a number:\"))\n",
    "if input_number % 2 == 0:\n",
    "        print(\"even\")\n",
    "    else:\n",
    "            print(\"odd\")"
   ]
  },
  {
   "cell_type": "code",
   "execution_count": null,
   "id": "dc440323",
   "metadata": {},
   "outputs": [],
   "source": []
  }
 ],
 "metadata": {
  "kernelspec": {
   "display_name": "Python 3 (ipykernel)",
   "language": "python",
   "name": "python3"
  },
  "language_info": {
   "codemirror_mode": {
    "name": "ipython",
    "version": 3
   },
   "file_extension": ".py",
   "mimetype": "text/x-python",
   "name": "python",
   "nbconvert_exporter": "python",
   "pygments_lexer": "ipython3",
   "version": "3.8.10"
  }
 },
 "nbformat": 4,
 "nbformat_minor": 5
}
