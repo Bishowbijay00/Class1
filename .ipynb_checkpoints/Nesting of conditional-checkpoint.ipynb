{
 "cells": [
  {
   "cell_type": "markdown",
   "id": "1524691a",
   "metadata": {},
   "source": [
    "#Nesting of conditionals\n",
    "WAP to check if the user input is zero,positive and negative,and print respective message- Nesting conditionals."
   ]
  },
  {
   "cell_type": "code",
   "execution_count": 1,
   "id": "52d8b73c",
   "metadata": {},
   "outputs": [
    {
     "name": "stdout",
     "output_type": "stream",
     "text": [
      "Enter a number:5\n",
      "The number is positive\n"
     ]
    }
   ],
   "source": [
    "user_input = int(input(\"Enter a number:\"))\n",
    "\n",
    "if user_input < 0:\n",
    "    print(\"The number is negative\")\n",
    "else:\n",
    "        if user_input == 0:\n",
    "            print(\"The number is zero\")\n",
    "        else:\n",
    "            print(\"The number is positive\")"
   ]
  },
  {
   "cell_type": "code",
   "execution_count": null,
   "id": "0ce26f1f",
   "metadata": {},
   "outputs": [],
   "source": []
  }
 ],
 "metadata": {
  "kernelspec": {
   "display_name": "Python 3 (ipykernel)",
   "language": "python",
   "name": "python3"
  },
  "language_info": {
   "codemirror_mode": {
    "name": "ipython",
    "version": 3
   },
   "file_extension": ".py",
   "mimetype": "text/x-python",
   "name": "python",
   "nbconvert_exporter": "python",
   "pygments_lexer": "ipython3",
   "version": "3.8.10"
  }
 },
 "nbformat": 4,
 "nbformat_minor": 5
}
