{
 "cells": [
  {
   "cell_type": "code",
   "execution_count": 1,
   "id": "6218eff5",
   "metadata": {},
   "outputs": [],
   "source": [
    "cars = ['maruti','audi','tata','bmw']"
   ]
  },
  {
   "cell_type": "code",
   "execution_count": 2,
   "id": "32c56671",
   "metadata": {},
   "outputs": [
    {
     "data": {
      "text/plain": [
       "['maruti', 'audi', 'tata', 'bmw']"
      ]
     },
     "execution_count": 2,
     "metadata": {},
     "output_type": "execute_result"
    }
   ],
   "source": [
    "cars"
   ]
  },
  {
   "cell_type": "code",
   "execution_count": 3,
   "id": "baacb004",
   "metadata": {},
   "outputs": [
    {
     "data": {
      "text/plain": [
       "list"
      ]
     },
     "execution_count": 3,
     "metadata": {},
     "output_type": "execute_result"
    }
   ],
   "source": [
    "type(cars)"
   ]
  },
  {
   "cell_type": "code",
   "execution_count": 5,
   "id": "78045ba0",
   "metadata": {},
   "outputs": [
    {
     "data": {
      "text/plain": [
       "'maruti'"
      ]
     },
     "execution_count": 5,
     "metadata": {},
     "output_type": "execute_result"
    }
   ],
   "source": [
    "cars[0]"
   ]
  },
  {
   "cell_type": "code",
   "execution_count": 6,
   "id": "69a2f25e",
   "metadata": {},
   "outputs": [
    {
     "data": {
      "text/plain": [
       "'bmw'"
      ]
     },
     "execution_count": 6,
     "metadata": {},
     "output_type": "execute_result"
    }
   ],
   "source": [
    "cars[-1]"
   ]
  },
  {
   "cell_type": "code",
   "execution_count": 7,
   "id": "d9027a01",
   "metadata": {},
   "outputs": [
    {
     "data": {
      "text/plain": [
       "'audi'"
      ]
     },
     "execution_count": 7,
     "metadata": {},
     "output_type": "execute_result"
    }
   ],
   "source": [
    "cars[-3]"
   ]
  },
  {
   "cell_type": "code",
   "execution_count": 8,
   "id": "4ddd0f61",
   "metadata": {},
   "outputs": [
    {
     "data": {
      "text/plain": [
       "'bmw'"
      ]
     },
     "execution_count": 8,
     "metadata": {},
     "output_type": "execute_result"
    }
   ],
   "source": [
    "cars[3]"
   ]
  },
  {
   "cell_type": "code",
   "execution_count": 9,
   "id": "ba10dd8b",
   "metadata": {},
   "outputs": [
    {
     "data": {
      "text/plain": [
       "['maruti', 'audi', 'tata']"
      ]
     },
     "execution_count": 9,
     "metadata": {},
     "output_type": "execute_result"
    }
   ],
   "source": [
    "cars[:3]"
   ]
  },
  {
   "cell_type": "code",
   "execution_count": 10,
   "id": "aba8850f",
   "metadata": {},
   "outputs": [
    {
     "data": {
      "text/plain": [
       "['maruti', 'audi']"
      ]
     },
     "execution_count": 10,
     "metadata": {},
     "output_type": "execute_result"
    }
   ],
   "source": [
    "cars[:2]"
   ]
  },
  {
   "cell_type": "code",
   "execution_count": 11,
   "id": "38694a4a",
   "metadata": {},
   "outputs": [
    {
     "data": {
      "text/plain": [
       "['tata', 'bmw']"
      ]
     },
     "execution_count": 11,
     "metadata": {},
     "output_type": "execute_result"
    }
   ],
   "source": [
    "cars[2:]"
   ]
  },
  {
   "cell_type": "code",
   "execution_count": 12,
   "id": "9d4d7bc8",
   "metadata": {},
   "outputs": [
    {
     "data": {
      "text/plain": [
       "['audi', 'tata']"
      ]
     },
     "execution_count": 12,
     "metadata": {},
     "output_type": "execute_result"
    }
   ],
   "source": [
    "cars[1:3] # slicing for index"
   ]
  },
  {
   "cell_type": "code",
   "execution_count": null,
   "id": "bf41ce4e",
   "metadata": {},
   "outputs": [],
   "source": []
  },
  {
   "cell_type": "code",
   "execution_count": null,
   "id": "9415ded7",
   "metadata": {},
   "outputs": [],
   "source": []
  },
  {
   "cell_type": "markdown",
   "id": "cc85cf28",
   "metadata": {},
   "source": [
    "# insert() method in python"
   ]
  },
  {
   "cell_type": "code",
   "execution_count": 13,
   "id": "3e842fbb",
   "metadata": {},
   "outputs": [],
   "source": [
    "cars = ['maruti','audi','tata','bmw']"
   ]
  },
  {
   "cell_type": "code",
   "execution_count": 14,
   "id": "59a2dd83",
   "metadata": {},
   "outputs": [
    {
     "data": {
      "text/plain": [
       "['maruti', 'audi', 'tata', 'bmw']"
      ]
     },
     "execution_count": 14,
     "metadata": {},
     "output_type": "execute_result"
    }
   ],
   "source": [
    "cars"
   ]
  },
  {
   "cell_type": "code",
   "execution_count": 15,
   "id": "d1fde56e",
   "metadata": {},
   "outputs": [],
   "source": [
    "cars.insert(2, 'tesla')"
   ]
  },
  {
   "cell_type": "code",
   "execution_count": 16,
   "id": "4e7859cc",
   "metadata": {},
   "outputs": [
    {
     "data": {
      "text/plain": [
       "['maruti', 'audi', 'tesla', 'tata', 'bmw']"
      ]
     },
     "execution_count": 16,
     "metadata": {},
     "output_type": "execute_result"
    }
   ],
   "source": [
    "cars"
   ]
  },
  {
   "cell_type": "code",
   "execution_count": 17,
   "id": "d1ea3a01",
   "metadata": {},
   "outputs": [
    {
     "data": {
      "text/plain": [
       "5"
      ]
     },
     "execution_count": 17,
     "metadata": {},
     "output_type": "execute_result"
    }
   ],
   "source": [
    "len(cars)"
   ]
  },
  {
   "cell_type": "markdown",
   "id": "2e0fa840",
   "metadata": {},
   "source": [
    "# append() method in python list"
   ]
  },
  {
   "cell_type": "code",
   "execution_count": 18,
   "id": "5f628b0b",
   "metadata": {},
   "outputs": [],
   "source": [
    "num = [11,23,44,-3.4]"
   ]
  },
  {
   "cell_type": "code",
   "execution_count": 19,
   "id": "339fc4e4",
   "metadata": {},
   "outputs": [
    {
     "data": {
      "text/plain": [
       "[11, 23, 44, -3.4]"
      ]
     },
     "execution_count": 19,
     "metadata": {},
     "output_type": "execute_result"
    }
   ],
   "source": [
    "num"
   ]
  },
  {
   "cell_type": "code",
   "execution_count": 20,
   "id": "56501820",
   "metadata": {},
   "outputs": [],
   "source": [
    "num.append(10)"
   ]
  },
  {
   "cell_type": "code",
   "execution_count": 21,
   "id": "9ae2107e",
   "metadata": {},
   "outputs": [
    {
     "data": {
      "text/plain": [
       "[11, 23, 44, -3.4, 10]"
      ]
     },
     "execution_count": 21,
     "metadata": {},
     "output_type": "execute_result"
    }
   ],
   "source": [
    "num"
   ]
  },
  {
   "cell_type": "markdown",
   "id": "25bb000d",
   "metadata": {},
   "source": [
    "# list initilization technique"
   ]
  },
  {
   "cell_type": "code",
   "execution_count": 23,
   "id": "dac49484",
   "metadata": {},
   "outputs": [],
   "source": [
    "list1 = []"
   ]
  },
  {
   "cell_type": "code",
   "execution_count": 24,
   "id": "1dc48a8f",
   "metadata": {},
   "outputs": [
    {
     "data": {
      "text/plain": [
       "[]"
      ]
     },
     "execution_count": 24,
     "metadata": {},
     "output_type": "execute_result"
    }
   ],
   "source": [
    "list1"
   ]
  },
  {
   "cell_type": "code",
   "execution_count": 25,
   "id": "7547d220",
   "metadata": {},
   "outputs": [
    {
     "data": {
      "text/plain": [
       "list"
      ]
     },
     "execution_count": 25,
     "metadata": {},
     "output_type": "execute_result"
    }
   ],
   "source": [
    "type(list1)"
   ]
  },
  {
   "cell_type": "code",
   "execution_count": null,
   "id": "792b6aa1",
   "metadata": {},
   "outputs": [],
   "source": []
  },
  {
   "cell_type": "code",
   "execution_count": 29,
   "id": "8efee16d",
   "metadata": {},
   "outputs": [],
   "source": [
    "list1 = []"
   ]
  },
  {
   "cell_type": "code",
   "execution_count": 30,
   "id": "9957e486",
   "metadata": {},
   "outputs": [
    {
     "data": {
      "text/plain": [
       "[]"
      ]
     },
     "execution_count": 30,
     "metadata": {},
     "output_type": "execute_result"
    }
   ],
   "source": [
    "list1"
   ]
  },
  {
   "cell_type": "code",
   "execution_count": 34,
   "id": "8a25a91f",
   "metadata": {},
   "outputs": [],
   "source": [
    "list1.append(88)\n"
   ]
  },
  {
   "cell_type": "code",
   "execution_count": 35,
   "id": "1b0a3f21",
   "metadata": {},
   "outputs": [
    {
     "data": {
      "text/plain": [
       "[88]"
      ]
     },
     "execution_count": 35,
     "metadata": {},
     "output_type": "execute_result"
    }
   ],
   "source": [
    "list1"
   ]
  },
  {
   "cell_type": "code",
   "execution_count": 36,
   "id": "b92b4ca5",
   "metadata": {},
   "outputs": [],
   "source": [
    "list1.append(99)"
   ]
  },
  {
   "cell_type": "code",
   "execution_count": 37,
   "id": "678809e7",
   "metadata": {},
   "outputs": [
    {
     "data": {
      "text/plain": [
       "[88, 99]"
      ]
     },
     "execution_count": 37,
     "metadata": {},
     "output_type": "execute_result"
    }
   ],
   "source": [
    "list1"
   ]
  },
  {
   "cell_type": "code",
   "execution_count": 38,
   "id": "ed2c3d53",
   "metadata": {},
   "outputs": [],
   "source": [
    "num = [22,11,33,44]"
   ]
  },
  {
   "cell_type": "code",
   "execution_count": 39,
   "id": "d94287a0",
   "metadata": {},
   "outputs": [
    {
     "data": {
      "text/plain": [
       "[22, 11, 33, 44]"
      ]
     },
     "execution_count": 39,
     "metadata": {},
     "output_type": "execute_result"
    }
   ],
   "source": [
    "num"
   ]
  },
  {
   "cell_type": "code",
   "execution_count": 43,
   "id": "62467162",
   "metadata": {},
   "outputs": [],
   "source": [
    "num.append([22,23]) # list of list"
   ]
  },
  {
   "cell_type": "code",
   "execution_count": 44,
   "id": "79c7cdec",
   "metadata": {},
   "outputs": [
    {
     "data": {
      "text/plain": [
       "[22, 11, 33, 44, [22, 23], [22, 23]]"
      ]
     },
     "execution_count": 44,
     "metadata": {},
     "output_type": "execute_result"
    }
   ],
   "source": [
    "num"
   ]
  },
  {
   "cell_type": "code",
   "execution_count": 45,
   "id": "af25f072",
   "metadata": {},
   "outputs": [
    {
     "data": {
      "text/plain": [
       "6"
      ]
     },
     "execution_count": 45,
     "metadata": {},
     "output_type": "execute_result"
    }
   ],
   "source": [
    "len(num)"
   ]
  },
  {
   "cell_type": "code",
   "execution_count": 46,
   "id": "0899da7d",
   "metadata": {},
   "outputs": [
    {
     "data": {
      "text/plain": [
       "44"
      ]
     },
     "execution_count": 46,
     "metadata": {},
     "output_type": "execute_result"
    }
   ],
   "source": [
    "num[3]"
   ]
  },
  {
   "cell_type": "code",
   "execution_count": 47,
   "id": "a28338e8",
   "metadata": {},
   "outputs": [
    {
     "data": {
      "text/plain": [
       "[22, 23]"
      ]
     },
     "execution_count": 47,
     "metadata": {},
     "output_type": "execute_result"
    }
   ],
   "source": [
    "num[5]"
   ]
  },
  {
   "cell_type": "code",
   "execution_count": 48,
   "id": "391eec62",
   "metadata": {},
   "outputs": [
    {
     "data": {
      "text/plain": [
       "list"
      ]
     },
     "execution_count": 48,
     "metadata": {},
     "output_type": "execute_result"
    }
   ],
   "source": [
    "type(num[5])"
   ]
  },
  {
   "cell_type": "markdown",
   "id": "98d661fd",
   "metadata": {},
   "source": [
    "# extend() method in python list"
   ]
  },
  {
   "cell_type": "code",
   "execution_count": 49,
   "id": "ef763541",
   "metadata": {},
   "outputs": [],
   "source": [
    "cars1 = ['tata','ford']\n",
    "\n",
    "cars2 = ['bmw','mercedes','tesla']"
   ]
  },
  {
   "cell_type": "code",
   "execution_count": 50,
   "id": "1bc37786",
   "metadata": {},
   "outputs": [],
   "source": [
    "cars1.extend(cars2)"
   ]
  },
  {
   "cell_type": "code",
   "execution_count": 51,
   "id": "2c94b4f2",
   "metadata": {},
   "outputs": [
    {
     "data": {
      "text/plain": [
       "['tata', 'ford', 'bmw', 'mercedes', 'tesla']"
      ]
     },
     "execution_count": 51,
     "metadata": {},
     "output_type": "execute_result"
    }
   ],
   "source": [
    "cars1"
   ]
  },
  {
   "cell_type": "code",
   "execution_count": 52,
   "id": "aa5c4709",
   "metadata": {},
   "outputs": [
    {
     "data": {
      "text/plain": [
       "['bmw', 'mercedes', 'tesla']"
      ]
     },
     "execution_count": 52,
     "metadata": {},
     "output_type": "execute_result"
    }
   ],
   "source": [
    "cars2"
   ]
  },
  {
   "cell_type": "code",
   "execution_count": 53,
   "id": "1042e19f",
   "metadata": {},
   "outputs": [],
   "source": [
    "cars1 = ['tata','ford']\n",
    "\n",
    "cars2 = ['bmw','mercedes','tesla']"
   ]
  },
  {
   "cell_type": "code",
   "execution_count": 54,
   "id": "8b71f205",
   "metadata": {},
   "outputs": [
    {
     "data": {
      "text/plain": [
       "['tata', 'ford', 'bmw', 'mercedes', 'tesla']"
      ]
     },
     "execution_count": 54,
     "metadata": {},
     "output_type": "execute_result"
    }
   ],
   "source": [
    "cars1 + cars2"
   ]
  },
  {
   "cell_type": "markdown",
   "id": "1009d635",
   "metadata": {},
   "source": [
    "# remove() method in python list"
   ]
  },
  {
   "cell_type": "code",
   "execution_count": 57,
   "id": "40cf6db8",
   "metadata": {},
   "outputs": [],
   "source": [
    "cars2 = ['bmw','mercedes','tesla','bmw','tesla']"
   ]
  },
  {
   "cell_type": "code",
   "execution_count": 58,
   "id": "3e7fe12c",
   "metadata": {},
   "outputs": [
    {
     "data": {
      "text/plain": [
       "['bmw', 'mercedes', 'tesla', 'bmw', 'tesla']"
      ]
     },
     "execution_count": 58,
     "metadata": {},
     "output_type": "execute_result"
    }
   ],
   "source": [
    "cars2"
   ]
  },
  {
   "cell_type": "code",
   "execution_count": 61,
   "id": "57e00aa1",
   "metadata": {},
   "outputs": [],
   "source": [
    "cars2.remove('tesla') # remove first occurance of given item----in this case item is tesla"
   ]
  },
  {
   "cell_type": "code",
   "execution_count": 62,
   "id": "cfcfb48b",
   "metadata": {},
   "outputs": [
    {
     "data": {
      "text/plain": [
       "['bmw', 'mercedes', 'bmw']"
      ]
     },
     "execution_count": 62,
     "metadata": {},
     "output_type": "execute_result"
    }
   ],
   "source": [
    "cars2"
   ]
  },
  {
   "cell_type": "markdown",
   "id": "2faebb63",
   "metadata": {},
   "source": [
    " # python list as stack\n",
    "\n",
    " # pop() method in python list\n",
    " \n",
    " <img src =\"https://upload.wikimedia.org/wikipedia/commons/thumb/e/e4/Lifo_stack.svg/350px-Lifo_stack.svg.png\">"
   ]
  },
  {
   "cell_type": "code",
   "execution_count": 82,
   "id": "59c7b675",
   "metadata": {},
   "outputs": [],
   "source": [
    "list1 = [2, 33 , 44, 55, 0]"
   ]
  },
  {
   "cell_type": "code",
   "execution_count": 83,
   "id": "6d721a3d",
   "metadata": {},
   "outputs": [
    {
     "data": {
      "text/plain": [
       "[2, 33, 44, 55, 0]"
      ]
     },
     "execution_count": 83,
     "metadata": {},
     "output_type": "execute_result"
    }
   ],
   "source": [
    "list1"
   ]
  },
  {
   "cell_type": "code",
   "execution_count": 84,
   "id": "d67a65c9",
   "metadata": {},
   "outputs": [],
   "source": [
    "list1.append(3365)"
   ]
  },
  {
   "cell_type": "code",
   "execution_count": 85,
   "id": "19321e56",
   "metadata": {},
   "outputs": [
    {
     "data": {
      "text/plain": [
       "[2, 33, 44, 55, 0, 3365]"
      ]
     },
     "execution_count": 85,
     "metadata": {},
     "output_type": "execute_result"
    }
   ],
   "source": [
    "list1"
   ]
  },
  {
   "cell_type": "code",
   "execution_count": 86,
   "id": "8fa009a5",
   "metadata": {},
   "outputs": [],
   "source": [
    "# pop operation in python list / pop in stack"
   ]
  },
  {
   "cell_type": "code",
   "execution_count": 87,
   "id": "6fb56416",
   "metadata": {},
   "outputs": [
    {
     "data": {
      "text/plain": [
       "3365"
      ]
     },
     "execution_count": 87,
     "metadata": {},
     "output_type": "execute_result"
    }
   ],
   "source": [
    "list1.pop() # removes 3365"
   ]
  },
  {
   "cell_type": "code",
   "execution_count": 88,
   "id": "0d3e47e9",
   "metadata": {},
   "outputs": [
    {
     "data": {
      "text/plain": [
       "[2, 33, 44, 55, 0]"
      ]
     },
     "execution_count": 88,
     "metadata": {},
     "output_type": "execute_result"
    }
   ],
   "source": [
    "list1"
   ]
  },
  {
   "cell_type": "code",
   "execution_count": 89,
   "id": "d2162f46",
   "metadata": {},
   "outputs": [
    {
     "data": {
      "text/plain": [
       "0"
      ]
     },
     "execution_count": 89,
     "metadata": {},
     "output_type": "execute_result"
    }
   ],
   "source": [
    "list1.pop() # removes zero"
   ]
  },
  {
   "cell_type": "code",
   "execution_count": 90,
   "id": "a1c94e8a",
   "metadata": {},
   "outputs": [
    {
     "data": {
      "text/plain": [
       "[2, 33, 44, 55]"
      ]
     },
     "execution_count": 90,
     "metadata": {},
     "output_type": "execute_result"
    }
   ],
   "source": [
    "list1"
   ]
  },
  {
   "cell_type": "markdown",
   "id": "6b4c64c9",
   "metadata": {},
   "source": [
    "# stack work with lifo  principle\n",
    "\n",
    "LIFO: last in first out (whatever gets appended/ pushed in last are popped first)\n",
    "\n",
    "# pop() method with index in python list"
   ]
  },
  {
   "cell_type": "code",
   "execution_count": 91,
   "id": "10aabfaf",
   "metadata": {},
   "outputs": [],
   "source": [
    "cars = ['maruti','audi','tata','bmw']"
   ]
  },
  {
   "cell_type": "code",
   "execution_count": 92,
   "id": "97ed8d1f",
   "metadata": {},
   "outputs": [
    {
     "data": {
      "text/plain": [
       "['maruti', 'audi', 'tata', 'bmw']"
      ]
     },
     "execution_count": 92,
     "metadata": {},
     "output_type": "execute_result"
    }
   ],
   "source": [
    "cars"
   ]
  },
  {
   "cell_type": "code",
   "execution_count": 93,
   "id": "b51795f0",
   "metadata": {},
   "outputs": [
    {
     "data": {
      "text/plain": [
       "'bmw'"
      ]
     },
     "execution_count": 93,
     "metadata": {},
     "output_type": "execute_result"
    }
   ],
   "source": [
    "cars.pop(3)"
   ]
  },
  {
   "cell_type": "code",
   "execution_count": 94,
   "id": "d773da6d",
   "metadata": {},
   "outputs": [
    {
     "data": {
      "text/plain": [
       "['maruti', 'audi', 'tata']"
      ]
     },
     "execution_count": 94,
     "metadata": {},
     "output_type": "execute_result"
    }
   ],
   "source": [
    "cars"
   ]
  },
  {
   "cell_type": "markdown",
   "id": "b93e5067",
   "metadata": {},
   "source": [
    "# sort() method in python list"
   ]
  },
  {
   "cell_type": "code",
   "execution_count": 97,
   "id": "34786abb",
   "metadata": {},
   "outputs": [],
   "source": [
    "data = [22, 33, -44, 66, 88, 99]\n",
    "data.sort()"
   ]
  },
  {
   "cell_type": "code",
   "execution_count": 98,
   "id": "45138296",
   "metadata": {},
   "outputs": [
    {
     "data": {
      "text/plain": [
       "[-44, 22, 33, 66, 88, 99]"
      ]
     },
     "execution_count": 98,
     "metadata": {},
     "output_type": "execute_result"
    }
   ],
   "source": [
    "data"
   ]
  },
  {
   "cell_type": "code",
   "execution_count": 102,
   "id": "1efd8bf5",
   "metadata": {},
   "outputs": [],
   "source": [
    "data = [22, 33, -44, 66, 88, 99]\n",
    "data.sort(reverse = True)"
   ]
  },
  {
   "cell_type": "code",
   "execution_count": 103,
   "id": "40474193",
   "metadata": {},
   "outputs": [
    {
     "data": {
      "text/plain": [
       "[99, 88, 66, 33, 22, -44]"
      ]
     },
     "execution_count": 103,
     "metadata": {},
     "output_type": "execute_result"
    }
   ],
   "source": [
    "data"
   ]
  },
  {
   "cell_type": "code",
   "execution_count": 104,
   "id": "2f250247",
   "metadata": {},
   "outputs": [
    {
     "data": {
      "text/plain": [
       "[-44, 22, 33, 66, 88, 99]"
      ]
     },
     "execution_count": 104,
     "metadata": {},
     "output_type": "execute_result"
    }
   ],
   "source": [
    "data = [22, 33, -44, 66, 88, 99]\n",
    "sorted(data)"
   ]
  },
  {
   "cell_type": "code",
   "execution_count": 108,
   "id": "84695c42",
   "metadata": {},
   "outputs": [],
   "source": [
    "cars2 = ['bmw','mercedes','tesla','bmw','tesla']\n"
   ]
  },
  {
   "cell_type": "code",
   "execution_count": 109,
   "id": "4fe91605",
   "metadata": {},
   "outputs": [
    {
     "data": {
      "text/plain": [
       "['bmw', 'mercedes', 'tesla', 'bmw', 'tesla']"
      ]
     },
     "execution_count": 109,
     "metadata": {},
     "output_type": "execute_result"
    }
   ],
   "source": [
    "cars2"
   ]
  },
  {
   "cell_type": "code",
   "execution_count": null,
   "id": "12e68b52",
   "metadata": {},
   "outputs": [],
   "source": []
  },
  {
   "cell_type": "code",
   "execution_count": null,
   "id": "ec8c4201",
   "metadata": {},
   "outputs": [],
   "source": []
  }
 ],
 "metadata": {
  "kernelspec": {
   "display_name": "Python 3 (ipykernel)",
   "language": "python",
   "name": "python3"
  },
  "language_info": {
   "codemirror_mode": {
    "name": "ipython",
    "version": 3
   },
   "file_extension": ".py",
   "mimetype": "text/x-python",
   "name": "python",
   "nbconvert_exporter": "python",
   "pygments_lexer": "ipython3",
   "version": "3.8.10"
  }
 },
 "nbformat": 4,
 "nbformat_minor": 5
}
