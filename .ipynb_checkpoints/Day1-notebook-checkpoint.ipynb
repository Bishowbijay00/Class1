{
 "cells": [
  {
   "cell_type": "code",
   "execution_count": 1,
   "id": "fa175d3c",
   "metadata": {},
   "outputs": [
    {
     "data": {
      "text/plain": [
       "2"
      ]
     },
     "execution_count": 1,
     "metadata": {},
     "output_type": "execute_result"
    }
   ],
   "source": [
    "2"
   ]
  },
  {
   "cell_type": "code",
   "execution_count": 2,
   "id": "6fc76d0f",
   "metadata": {},
   "outputs": [
    {
     "data": {
      "text/plain": [
       "13.333333333333334"
      ]
     },
     "execution_count": 2,
     "metadata": {},
     "output_type": "execute_result"
    }
   ],
   "source": [
    "40/3"
   ]
  },
  {
   "cell_type": "code",
   "execution_count": 3,
   "id": "51798604",
   "metadata": {},
   "outputs": [
    {
     "name": "stdout",
     "output_type": "stream",
     "text": [
      "2\n"
     ]
    }
   ],
   "source": [
    "print(2)"
   ]
  },
  {
   "cell_type": "code",
   "execution_count": 3,
   "id": "14f1029a",
   "metadata": {},
   "outputs": [
    {
     "data": {
      "text/plain": [
       "'my name is'"
      ]
     },
     "execution_count": 3,
     "metadata": {},
     "output_type": "execute_result"
    }
   ],
   "source": [
    "\"my name is\" "
   ]
  },
  {
   "cell_type": "code",
   "execution_count": 4,
   "id": "6f01c703",
   "metadata": {},
   "outputs": [
    {
     "data": {
      "text/plain": [
       "3"
      ]
     },
     "execution_count": 4,
     "metadata": {},
     "output_type": "execute_result"
    }
   ],
   "source": [
    "1 + 2"
   ]
  },
  {
   "cell_type": "code",
   "execution_count": 5,
   "id": "415af177",
   "metadata": {},
   "outputs": [
    {
     "data": {
      "text/plain": [
       "24"
      ]
     },
     "execution_count": 5,
     "metadata": {},
     "output_type": "execute_result"
    }
   ],
   "source": [
    "22 + 2"
   ]
  },
  {
   "cell_type": "code",
   "execution_count": 6,
   "id": "07030602",
   "metadata": {},
   "outputs": [],
   "source": [
    "a = 10"
   ]
  },
  {
   "cell_type": "code",
   "execution_count": 7,
   "id": "9f01fe80",
   "metadata": {},
   "outputs": [],
   "source": [
    "b = 20"
   ]
  },
  {
   "cell_type": "code",
   "execution_count": 8,
   "id": "1f22878c",
   "metadata": {},
   "outputs": [],
   "source": [
    "c = a + b"
   ]
  },
  {
   "cell_type": "code",
   "execution_count": 9,
   "id": "36a616c4",
   "metadata": {},
   "outputs": [
    {
     "name": "stdout",
     "output_type": "stream",
     "text": [
      "30\n"
     ]
    }
   ],
   "source": [
    "print(c)"
   ]
  },
  {
   "cell_type": "code",
   "execution_count": 10,
   "id": "f783679b",
   "metadata": {},
   "outputs": [],
   "source": [
    "x = 80"
   ]
  },
  {
   "cell_type": "code",
   "execution_count": 11,
   "id": "d053b74a",
   "metadata": {},
   "outputs": [],
   "source": [
    "y = 100"
   ]
  },
  {
   "cell_type": "code",
   "execution_count": 12,
   "id": "a2d96d4d",
   "metadata": {},
   "outputs": [],
   "source": [
    "z = x - y"
   ]
  },
  {
   "cell_type": "code",
   "execution_count": 13,
   "id": "7d6a7e79",
   "metadata": {},
   "outputs": [
    {
     "name": "stdout",
     "output_type": "stream",
     "text": [
      "-20\n"
     ]
    }
   ],
   "source": [
    "print(z)"
   ]
  },
  {
   "cell_type": "code",
   "execution_count": 14,
   "id": "2887c204",
   "metadata": {},
   "outputs": [],
   "source": [
    "p = 10"
   ]
  },
  {
   "cell_type": "code",
   "execution_count": 15,
   "id": "1075331d",
   "metadata": {},
   "outputs": [],
   "source": [
    "q = 20"
   ]
  },
  {
   "cell_type": "code",
   "execution_count": 16,
   "id": "1b211415",
   "metadata": {},
   "outputs": [],
   "source": [
    "r = p * q"
   ]
  },
  {
   "cell_type": "code",
   "execution_count": 17,
   "id": "c5459b95",
   "metadata": {},
   "outputs": [
    {
     "name": "stdout",
     "output_type": "stream",
     "text": [
      "200\n"
     ]
    }
   ],
   "source": [
    "print(r)"
   ]
  },
  {
   "cell_type": "code",
   "execution_count": 18,
   "id": "dec98623",
   "metadata": {},
   "outputs": [],
   "source": [
    "s = 60"
   ]
  },
  {
   "cell_type": "code",
   "execution_count": 19,
   "id": "4cb0d088",
   "metadata": {},
   "outputs": [],
   "source": [
    "t = 7"
   ]
  },
  {
   "cell_type": "code",
   "execution_count": 20,
   "id": "679f5cfe",
   "metadata": {},
   "outputs": [],
   "source": [
    "u = s ** t"
   ]
  },
  {
   "cell_type": "code",
   "execution_count": 21,
   "id": "42df28f9",
   "metadata": {},
   "outputs": [
    {
     "name": "stdout",
     "output_type": "stream",
     "text": [
      "2799360000000\n"
     ]
    }
   ],
   "source": [
    "print(u)"
   ]
  },
  {
   "cell_type": "code",
   "execution_count": 22,
   "id": "9df69a8b",
   "metadata": {},
   "outputs": [],
   "source": [
    "v = 60"
   ]
  },
  {
   "cell_type": "code",
   "execution_count": 23,
   "id": "2551a42b",
   "metadata": {},
   "outputs": [],
   "source": [
    "w = 7"
   ]
  },
  {
   "cell_type": "code",
   "execution_count": 24,
   "id": "336b2493",
   "metadata": {},
   "outputs": [],
   "source": [
    "x = v // w"
   ]
  },
  {
   "cell_type": "code",
   "execution_count": 25,
   "id": "4a00524e",
   "metadata": {},
   "outputs": [
    {
     "name": "stdout",
     "output_type": "stream",
     "text": [
      "8\n"
     ]
    }
   ],
   "source": [
    "print(x)"
   ]
  },
  {
   "cell_type": "code",
   "execution_count": 26,
   "id": "98c1b520",
   "metadata": {},
   "outputs": [],
   "source": [
    "m = 50"
   ]
  },
  {
   "cell_type": "code",
   "execution_count": 27,
   "id": "82ca1d3a",
   "metadata": {},
   "outputs": [],
   "source": [
    "n = 2"
   ]
  },
  {
   "cell_type": "code",
   "execution_count": 28,
   "id": "109a455d",
   "metadata": {},
   "outputs": [],
   "source": [
    "o = m % n"
   ]
  },
  {
   "cell_type": "code",
   "execution_count": 29,
   "id": "c418875c",
   "metadata": {},
   "outputs": [
    {
     "name": "stdout",
     "output_type": "stream",
     "text": [
      "0\n"
     ]
    }
   ],
   "source": [
    "print(o)"
   ]
  },
  {
   "cell_type": "code",
   "execution_count": null,
   "id": "dbb011a9",
   "metadata": {},
   "outputs": [],
   "source": []
  }
 ],
 "metadata": {
  "kernelspec": {
   "display_name": "Python 3 (ipykernel)",
   "language": "python",
   "name": "python3"
  },
  "language_info": {
   "codemirror_mode": {
    "name": "ipython",
    "version": 3
   },
   "file_extension": ".py",
   "mimetype": "text/x-python",
   "name": "python",
   "nbconvert_exporter": "python",
   "pygments_lexer": "ipython3",
   "version": "3.8.10"
  }
 },
 "nbformat": 4,
 "nbformat_minor": 5
}
