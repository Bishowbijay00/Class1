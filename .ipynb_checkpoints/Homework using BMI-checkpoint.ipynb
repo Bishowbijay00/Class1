{
 "cells": [
  {
   "cell_type": "markdown",
   "id": "45d245bf",
   "metadata": {},
   "source": [
    "#Write  aprogram to display \"Hello\" if a number entered by user is a multiple of five, otherwise print \"Bye\"."
   ]
  },
  {
   "cell_type": "code",
   "execution_count": 9,
   "id": "fddfb391",
   "metadata": {},
   "outputs": [
    {
     "ename": "SyntaxError",
     "evalue": "invalid syntax (2742065972.py, line 3)",
     "output_type": "error",
     "traceback": [
      "\u001b[0;36m  Input \u001b[0;32mIn [9]\u001b[0;36m\u001b[0m\n\u001b[0;31m    if(\"number is multiple of 5 is:\")\u001b[0m\n\u001b[0m                                     ^\u001b[0m\n\u001b[0;31mSyntaxError\u001b[0m\u001b[0;31m:\u001b[0m invalid syntax\n"
     ]
    }
   ],
   "source": [
    "user_input = int(input(\"Enter a number\"))\n",
    "last_digit=num%5\n",
    "if\n",
    "\n",
    "\n"
   ]
  },
  {
   "cell_type": "code",
   "execution_count": null,
   "id": "3cc8e99f",
   "metadata": {},
   "outputs": [],
   "source": []
  },
  {
   "cell_type": "code",
   "execution_count": null,
   "id": "16cf8c8b",
   "metadata": {},
   "outputs": [],
   "source": []
  },
  {
   "cell_type": "code",
   "execution_count": null,
   "id": "e731d05c",
   "metadata": {},
   "outputs": [],
   "source": []
  },
  {
   "cell_type": "code",
   "execution_count": null,
   "id": "c83a2d25",
   "metadata": {},
   "outputs": [],
   "source": []
  },
  {
   "cell_type": "code",
   "execution_count": null,
   "id": "ed8b5ee0",
   "metadata": {},
   "outputs": [],
   "source": []
  },
  {
   "cell_type": "markdown",
   "id": "af676224",
   "metadata": {},
   "source": [
    "#Write a program to check whether the last digit of a number(entered by user) is divisible by 3 or not."
   ]
  },
  {
   "cell_type": "code",
   "execution_count": 94,
   "id": "690194b8",
   "metadata": {},
   "outputs": [
    {
     "name": "stdout",
     "output_type": "stream",
     "text": [
      "Enter a number:6\n",
      "6 is divisible by 3 \n"
     ]
    }
   ],
   "source": [
    "num=int(input(\"Enter a number:\"))\n",
    "last_digit=num%10\n",
    "if(last_digit%3==0):\n",
    "    print(\"{} is divisible by 3 \".format(last_digit))\n",
    "else:\n",
    "    print(\"{} is not divisible by 3\".format(last_digit))"
   ]
  },
  {
   "cell_type": "markdown",
   "id": "6122dc90",
   "metadata": {},
   "source": [
    "#The body mass index is calculated by dividing an individual's weight in kilograms by their\n",
    "height in square meters.\n",
    "\n",
    "input\n",
    "Weight = kg\n",
    "Height = cm\n",
    "\n",
    "\n",
    "BMI Categories:\n",
    "Underweight = <18.5\n",
    "Normal Weight = 18.5 - 24.9\n",
    "Overweight = 25 - 29.9\n",
    "Obesity = BMI of 30 or greater\n",
    "\n",
    "\n",
    "BMI = kg/m2 where kg is a person's weight in kilograms and m2 is their height in meter squared."
   ]
  },
  {
   "cell_type": "code",
   "execution_count": 10,
   "id": "170ac128",
   "metadata": {},
   "outputs": [
    {
     "name": "stdout",
     "output_type": "stream",
     "text": [
      "Normal weight\n"
     ]
    }
   ],
   "source": [
    "weight = 75\n",
    "\n",
    "height = 185\n",
    "height_in_m = height / 100\n",
    "\n",
    "BMI = weight/(height_in_m **2)\n",
    "\n",
    "if BMI < 18.5:\n",
    "       print(\"Underweight\")\n",
    "    \n",
    "elif BMI >= 18.5 and BMI <=24.9:\n",
    "       print(\"Normal weight\")\n",
    "    \n",
    "elif BMI >=25 and BMI <=29.9:\n",
    "    print(\"Overweight\")\n",
    "elif BMI == 30 or BMI > 30:\n",
    "       print(\"Obisity\")"
   ]
  },
  {
   "cell_type": "code",
   "execution_count": null,
   "id": "dfa120b7",
   "metadata": {},
   "outputs": [],
   "source": []
  },
  {
   "cell_type": "code",
   "execution_count": null,
   "id": "7ba7de32",
   "metadata": {},
   "outputs": [],
   "source": []
  },
  {
   "cell_type": "code",
   "execution_count": null,
   "id": "c728f3fe",
   "metadata": {},
   "outputs": [],
   "source": []
  },
  {
   "cell_type": "code",
   "execution_count": null,
   "id": "51c53e1e",
   "metadata": {},
   "outputs": [],
   "source": []
  },
  {
   "cell_type": "code",
   "execution_count": null,
   "id": "74f08d38",
   "metadata": {},
   "outputs": [],
   "source": []
  },
  {
   "cell_type": "markdown",
   "id": "b27f7f9d",
   "metadata": {},
   "source": [
    "#Write a program to calculate the electricity bill (accept number of unit from user ) according to the following criteria:\n",
    "\n",
    "unit                                        price\n",
    "First 100 units                             no chnage\n",
    "Next 100 units                              Rs 5 per unit\n",
    "After 200 units                             Rs 10 per unit\n",
    "\n",
    "\n",
    "(For example if input unit is 350 than total bill amount is Rs2000)\n",
    "\n"
   ]
  },
  {
   "cell_type": "code",
   "execution_count": 96,
   "id": "b414f3ed",
   "metadata": {},
   "outputs": [
    {
     "name": "stdout",
     "output_type": "stream",
     "text": [
      "Enter unit =350\n",
      "total cost = 2000\n"
     ]
    }
   ],
   "source": [
    "units = int(input(\"Enter unit =\"))\n",
    "if units <= 100:\n",
    "    print(\"no charge\")\n",
    "elif 100 < units <=200:\n",
    "        cost = (units - 100)*5\n",
    "        print(\"total cost =\" ,cost)\n",
    "else:\n",
    "     units>200\n",
    "     cost = (units - 200)*10\n",
    "     print(\"total cost =\", cost + 500)\n",
    "\n",
    "    "
   ]
  },
  {
   "cell_type": "code",
   "execution_count": null,
   "id": "18d827f8",
   "metadata": {},
   "outputs": [],
   "source": []
  },
  {
   "cell_type": "markdown",
   "id": "5848ab68",
   "metadata": {},
   "source": []
  }
 ],
 "metadata": {
  "kernelspec": {
   "display_name": "Python 3 (ipykernel)",
   "language": "python",
   "name": "python3"
  },
  "language_info": {
   "codemirror_mode": {
    "name": "ipython",
    "version": 3
   },
   "file_extension": ".py",
   "mimetype": "text/x-python",
   "name": "python",
   "nbconvert_exporter": "python",
   "pygments_lexer": "ipython3",
   "version": "3.8.10"
  }
 },
 "nbformat": 4,
 "nbformat_minor": 5
}
